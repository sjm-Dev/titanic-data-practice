{
 "cells": [
  {
   "cell_type": "markdown",
   "metadata": {},
   "source": [
    "# Titanic Project: Survival Analysis and Prediction\n",
    "\n",
    "**This Titanic project marked the beginning of my journey into the world of Machine Learning**, and it was also my first step after transitioning from **my 8 years of experience programming in C/C++ at university**.\n",
    "\n",
    "Throughout the analysis, I learned the fundamentals of building predictive models and data analysis, including key skills such as:\n",
    "\n",
    "- **Handling missing data.**\n",
    "- **Feature engineering.**\n",
    "- **Creating visualizations** to identify patterns.\n",
    "- **Building and evaluating classification models** to predict survival probabilities.\n",
    "\n",
    "For this reason, **this project represents a significant step in my transition to data analysis and Machine Learning.**"
   ]
  },
  {
   "cell_type": "markdown",
   "metadata": {},
   "source": [
    "\n",
    "### **Survival Analysis**\n",
    "This project analyzes how various factors, such as age, gender, and social class, influenced the likelihood of survival during the Titanic disaster. It combines data preprocessing, visualization, and machine learning to extract meaningful insights.  \n",
    "\n",
    "### **Objectives**\n",
    "- Handle missing data through cleaning and preprocessing techniques.  \n",
    "- Create exploratory visualizations to uncover survival trends and patterns.  \n",
    "- Develop and evaluate classification models to predict survival outcomes.  \n",
    "\n",
    "### **Tools and Technologies**\n",
    "- **Programming Language**: Python  \n",
    "- **Libraries**: Pandas, Matplotlib, Seaborn, Scikit-learn  \n",
    "- **Environment**: Jupyter Notebook  "
   ]
  },
  {
   "cell_type": "markdown",
   "metadata": {},
   "source": [
    "## Data Analysis Approach\n",
    "\n",
    "1. **Data Loading:** Import the dataset.\n",
    "2. **Data Cleaning:** Handle missing values, transform categorical variables, and create new features.\n",
    "3. **Exploratory Analysis:** Visualize relevant patterns (survival rates by gender, age, social class).\n",
    "4. **Modeling:** Implement classification algorithms, including Logistic Regression, Random Forest, Decision Tree, KNN, Linear SVC, Perceptron, Support Vector Machines, Stochastic Gradient Descent, and Naive Bayes. Evaluate performance using key metrics such as accuracy and F1-score.\n",
    "5. **Conclusions:** Interpret the results."
   ]
  },
  {
   "cell_type": "markdown",
   "metadata": {},
   "source": [
    "### Index\n",
    "\n",
    "1. **[Introduction](#Introduction)**\n",
    "2. **[Library Imports](#Library-Imports)**\n",
    "3. **[Data Loading](#Data-Loading)**\n",
    "4. **[Exploratory Data Analysis - EDA](#Exploratory-Data-Analysis-EDA)**\n",
    "5. **[Data Preprocessing](#Data-Preprocessing)**\n",
    "6. **[Machine Learning Classification Models](#Machine-Learning-Models)**\n",
    "7. **[Model Comparison](#Model-Comparison)**\n",
    "8. **[Results and Conclusions](#Results-and-Conclusions)**"
   ]
  },
  {
   "cell_type": "markdown",
   "metadata": {
    "_cell_guid": "ea25cdf7-bdbc-3cf1-0737-bc51675e3374",
    "_uuid": "fed5696c67bf55a553d6d04313a77e8c617cad99"
   },
   "source": [
    "<a name=\"Introduction\"></a>\n",
    "\n",
    "### 1. Introduction\n",
    "\n",
    "The Titanic symbolizes a moment of both splendor and tragedy in history (April 15, 1912). This project approaches the disaster from an analytical perspective, applying Machine Learning techniques to evaluate which factors were decisive in the survival rate. Out of the 2,224 passengers on board, 722 survived (a survival rate of 32%). Therefore, the survival rate will be analyzed in relation to various features in the dataset, such as age, gender, passenger class, and other relevant factors."
   ]
  },
  {
   "cell_type": "markdown",
   "metadata": {},
   "source": [
    "<a name=\"Library-Imports\"></a>\n",
    "\n",
    "### 2. Library Imports"
   ]
  },
  {
   "cell_type": "code",
   "execution_count": 6,
   "metadata": {
    "_cell_guid": "5767a33c-8f18-4034-e52d-bf7a8f7d8ab8",
    "_uuid": "847a9b3972a6be2d2f3346ff01fea976d92ecdb6"
   },
   "outputs": [],
   "source": [
    "# Libraries for Data Manipulation and Preparation\n",
    "import pandas as pd\n",
    "import numpy as np\n",
    "import random as rnd\n",
    "\n",
    "# Libraries for Data Visualization\n",
    "import seaborn as sns\n",
    "import matplotlib.pyplot as plt\n",
    "%matplotlib inline\n",
    "\n",
    "# Machine Learning Models for Classification\n",
    "from sklearn.linear_model import LogisticRegression\n",
    "from sklearn.svm import SVC, LinearSVC\n",
    "from sklearn.ensemble import RandomForestClassifier\n",
    "from sklearn.neighbors import KNeighborsClassifier\n",
    "from sklearn.naive_bayes import GaussianNB\n",
    "from sklearn.linear_model import Perceptron\n",
    "from sklearn.linear_model import SGDClassifier\n",
    "from sklearn.tree import DecisionTreeClassifier\n",
    "from sklearn.model_selection import train_test_split\n",
    "from sklearn.metrics import accuracy_score, f1_score, confusion_matrix"
   ]
  },
  {
   "cell_type": "markdown",
   "metadata": {
    "_cell_guid": "6b5dc743-15b1-aac6-405e-081def6ecca1",
    "_uuid": "2d307b99ee3d19da3c1cddf509ed179c21dec94a"
   },
   "source": [
    "<a name=\"Data-Loading\"></a>\n",
    "\n",
    "### 3. Data Loading\n",
    "\n",
    "Pandas is essential in Python for data manipulation and analysis. It is used to load, clean, and transform the dataset efficiently, which is crucial for preparing the data before modeling."
   ]
  },
  {
   "cell_type": "code",
   "execution_count": 8,
   "metadata": {
    "_cell_guid": "e7319668-86fe-8adc-438d-0eef3fd0a982",
    "_uuid": "13f38775c12ad6f914254a08f0d1ef948a2bd453"
   },
   "outputs": [],
   "source": [
    "# Reading the Training Data\n",
    "train_df = pd.read_csv('train.csv')\n",
    "\n",
    "# Reading the Test Data\n",
    "test_df = pd.read_csv('test.csv')\n",
    "\n",
    "# Grouping the train_df and test_df DataFrames into a list to apply transformations uniformly to both datasets.\n",
    "combine = [train_df, test_df] "
   ]
  },
  {
   "cell_type": "markdown",
   "metadata": {},
   "source": [
    "<a name=\"Exploratory-Data-Analysis-EDA\"></a>\n",
    "\n",
    "### 4. Exploratory Data Analysis - EDA\n",
    "\n",
    "Exploratory data analysis is crucial for extracting insights and properly preparing data for modeling. By better understanding the factors that influenced passenger survival, more robust and accurate models can be built to predict the probability of survival in similar situations."
   ]
  },
  {
   "cell_type": "code",
   "execution_count": 10,
   "metadata": {},
   "outputs": [
    {
     "name": "stdout",
     "output_type": "stream",
     "text": [
      "<class 'pandas.core.frame.DataFrame'>\n",
      "RangeIndex: 891 entries, 0 to 890\n",
      "Data columns (total 12 columns):\n",
      " #   Column       Non-Null Count  Dtype  \n",
      "---  ------       --------------  -----  \n",
      " 0   PassengerId  891 non-null    int64  \n",
      " 1   Survived     891 non-null    int64  \n",
      " 2   Pclass       891 non-null    int64  \n",
      " 3   Name         891 non-null    object \n",
      " 4   Sex          891 non-null    object \n",
      " 5   Age          714 non-null    float64\n",
      " 6   SibSp        891 non-null    int64  \n",
      " 7   Parch        891 non-null    int64  \n",
      " 8   Ticket       891 non-null    object \n",
      " 9   Fare         891 non-null    float64\n",
      " 10  Cabin        204 non-null    object \n",
      " 11  Embarked     889 non-null    object \n",
      "dtypes: float64(2), int64(5), object(5)\n",
      "memory usage: 83.7+ KB\n",
      "__________________________________________________\n",
      "<class 'pandas.core.frame.DataFrame'>\n",
      "RangeIndex: 418 entries, 0 to 417\n",
      "Data columns (total 11 columns):\n",
      " #   Column       Non-Null Count  Dtype  \n",
      "---  ------       --------------  -----  \n",
      " 0   PassengerId  418 non-null    int64  \n",
      " 1   Pclass       418 non-null    int64  \n",
      " 2   Name         418 non-null    object \n",
      " 3   Sex          418 non-null    object \n",
      " 4   Age          332 non-null    float64\n",
      " 5   SibSp        418 non-null    int64  \n",
      " 6   Parch        418 non-null    int64  \n",
      " 7   Ticket       418 non-null    object \n",
      " 8   Fare         417 non-null    float64\n",
      " 9   Cabin        91 non-null     object \n",
      " 10  Embarked     418 non-null    object \n",
      "dtypes: float64(2), int64(4), object(5)\n",
      "memory usage: 36.1+ KB\n"
     ]
    }
   ],
   "source": [
    "# Summary of the structure of both DataFrames (Data types, features, and null observations)\n",
    "train_df.info()\n",
    "print('_'*50)\n",
    "test_df.info()"
   ]
  },
  {
   "cell_type": "code",
   "execution_count": 11,
   "metadata": {
    "_cell_guid": "ce473d29-8d19-76b8-24a4-48c217286e42",
    "_uuid": "ef106f38a00e162a80c523778af6dcc778ccc1c2"
   },
   "outputs": [
    {
     "name": "stdout",
     "output_type": "stream",
     "text": [
      "['PassengerId' 'Survived' 'Pclass' 'Name' 'Sex' 'Age' 'SibSp' 'Parch'\n",
      " 'Ticket' 'Fare' 'Cabin' 'Embarked']\n"
     ]
    }
   ],
   "source": [
    "# Visualization of the features (columns) in the Training Set\n",
    "print(train_df.columns.values)"
   ]
  },
  {
   "cell_type": "code",
   "execution_count": 12,
   "metadata": {},
   "outputs": [
    {
     "name": "stdout",
     "output_type": "stream",
     "text": [
      "['PassengerId' 'Pclass' 'Name' 'Sex' 'Age' 'SibSp' 'Parch' 'Ticket' 'Fare'\n",
      " 'Cabin' 'Embarked']\n"
     ]
    }
   ],
   "source": [
    "# Visualization of the features (columns) in the Test Set\n",
    "print(test_df.columns.values)"
   ]
  },
  {
   "cell_type": "markdown",
   "metadata": {
    "_cell_guid": "cd19a6f6-347f-be19-607b-dca950590b37",
    "_uuid": "1d7acf42af29a63bc038f14eded24e8b8146f541"
   },
   "source": [
    "### Types of Features in the Dataset\n",
    "\n",
    "Analyzing the dataset's features is essential to understanding patterns, identifying key variables, relating the variables, and preparing the data for modeling."
   ]
  },
  {
   "cell_type": "markdown",
   "metadata": {
    "jp-MarkdownHeadingCollapsed": true
   },
   "source": [
    "### Categorical Features\n",
    "\n",
    "These variables classify passengers into specific groups. They are divided into:\n",
    "\n",
    "- Nominal: Survival (0 = did not survive, 1 = survived), Sex (0 = female, 1 = male), and Embarkation (S, Q, and C).\n",
    "- Ordinal: Class (Pclass), which indicates a hierarchical order (1st, 2nd, and 3rd class)."
   ]
  },
  {
   "cell_type": "markdown",
   "metadata": {},
   "source": [
    "### Numerical Features\n",
    "\n",
    "These variables show numerical variations among passengers. They are classified into:\n",
    "\n",
    "- Continuous: Age and Fare, which can take any value within a specific range.\n",
    "- Discrete: SibSp (number of siblings/spouses aboard) and Parch (number of parents/children aboard), which are countable values.\n",
    "\n",
    "**Knowing how to differentiate the dataset's features is crucial for selecting the appropriate type of visualizations for each feature (bar charts for categorical variables and histograms for numerical variables), facilitating data interpretation.**"
   ]
  },
  {
   "cell_type": "code",
   "execution_count": 16,
   "metadata": {
    "_cell_guid": "8d7ac195-ac1a-30a4-3f3f-80b8cf2c1c0f",
    "_uuid": "e068cd3a0465b65a0930a100cb348b9146d5fd2f"
   },
   "outputs": [
    {
     "data": {
      "text/html": [
       "<div>\n",
       "<style scoped>\n",
       "    .dataframe tbody tr th:only-of-type {\n",
       "        vertical-align: middle;\n",
       "    }\n",
       "\n",
       "    .dataframe tbody tr th {\n",
       "        vertical-align: top;\n",
       "    }\n",
       "\n",
       "    .dataframe thead th {\n",
       "        text-align: right;\n",
       "    }\n",
       "</style>\n",
       "<table border=\"1\" class=\"dataframe\">\n",
       "  <thead>\n",
       "    <tr style=\"text-align: right;\">\n",
       "      <th></th>\n",
       "      <th>PassengerId</th>\n",
       "      <th>Survived</th>\n",
       "      <th>Pclass</th>\n",
       "      <th>Name</th>\n",
       "      <th>Sex</th>\n",
       "      <th>Age</th>\n",
       "      <th>SibSp</th>\n",
       "      <th>Parch</th>\n",
       "      <th>Ticket</th>\n",
       "      <th>Fare</th>\n",
       "      <th>Cabin</th>\n",
       "      <th>Embarked</th>\n",
       "    </tr>\n",
       "  </thead>\n",
       "  <tbody>\n",
       "    <tr>\n",
       "      <th>0</th>\n",
       "      <td>1</td>\n",
       "      <td>0</td>\n",
       "      <td>3</td>\n",
       "      <td>Braund, Mr. Owen Harris</td>\n",
       "      <td>male</td>\n",
       "      <td>22.0</td>\n",
       "      <td>1</td>\n",
       "      <td>0</td>\n",
       "      <td>A/5 21171</td>\n",
       "      <td>7.2500</td>\n",
       "      <td>NaN</td>\n",
       "      <td>S</td>\n",
       "    </tr>\n",
       "    <tr>\n",
       "      <th>1</th>\n",
       "      <td>2</td>\n",
       "      <td>1</td>\n",
       "      <td>1</td>\n",
       "      <td>Cumings, Mrs. John Bradley (Florence Briggs Th...</td>\n",
       "      <td>female</td>\n",
       "      <td>38.0</td>\n",
       "      <td>1</td>\n",
       "      <td>0</td>\n",
       "      <td>PC 17599</td>\n",
       "      <td>71.2833</td>\n",
       "      <td>C85</td>\n",
       "      <td>C</td>\n",
       "    </tr>\n",
       "    <tr>\n",
       "      <th>2</th>\n",
       "      <td>3</td>\n",
       "      <td>1</td>\n",
       "      <td>3</td>\n",
       "      <td>Heikkinen, Miss. Laina</td>\n",
       "      <td>female</td>\n",
       "      <td>26.0</td>\n",
       "      <td>0</td>\n",
       "      <td>0</td>\n",
       "      <td>STON/O2. 3101282</td>\n",
       "      <td>7.9250</td>\n",
       "      <td>NaN</td>\n",
       "      <td>S</td>\n",
       "    </tr>\n",
       "    <tr>\n",
       "      <th>3</th>\n",
       "      <td>4</td>\n",
       "      <td>1</td>\n",
       "      <td>1</td>\n",
       "      <td>Futrelle, Mrs. Jacques Heath (Lily May Peel)</td>\n",
       "      <td>female</td>\n",
       "      <td>35.0</td>\n",
       "      <td>1</td>\n",
       "      <td>0</td>\n",
       "      <td>113803</td>\n",
       "      <td>53.1000</td>\n",
       "      <td>C123</td>\n",
       "      <td>S</td>\n",
       "    </tr>\n",
       "    <tr>\n",
       "      <th>4</th>\n",
       "      <td>5</td>\n",
       "      <td>0</td>\n",
       "      <td>3</td>\n",
       "      <td>Allen, Mr. William Henry</td>\n",
       "      <td>male</td>\n",
       "      <td>35.0</td>\n",
       "      <td>0</td>\n",
       "      <td>0</td>\n",
       "      <td>373450</td>\n",
       "      <td>8.0500</td>\n",
       "      <td>NaN</td>\n",
       "      <td>S</td>\n",
       "    </tr>\n",
       "    <tr>\n",
       "      <th>5</th>\n",
       "      <td>6</td>\n",
       "      <td>0</td>\n",
       "      <td>3</td>\n",
       "      <td>Moran, Mr. James</td>\n",
       "      <td>male</td>\n",
       "      <td>NaN</td>\n",
       "      <td>0</td>\n",
       "      <td>0</td>\n",
       "      <td>330877</td>\n",
       "      <td>8.4583</td>\n",
       "      <td>NaN</td>\n",
       "      <td>Q</td>\n",
       "    </tr>\n",
       "    <tr>\n",
       "      <th>6</th>\n",
       "      <td>7</td>\n",
       "      <td>0</td>\n",
       "      <td>1</td>\n",
       "      <td>McCarthy, Mr. Timothy J</td>\n",
       "      <td>male</td>\n",
       "      <td>54.0</td>\n",
       "      <td>0</td>\n",
       "      <td>0</td>\n",
       "      <td>17463</td>\n",
       "      <td>51.8625</td>\n",
       "      <td>E46</td>\n",
       "      <td>S</td>\n",
       "    </tr>\n",
       "    <tr>\n",
       "      <th>7</th>\n",
       "      <td>8</td>\n",
       "      <td>0</td>\n",
       "      <td>3</td>\n",
       "      <td>Palsson, Master. Gosta Leonard</td>\n",
       "      <td>male</td>\n",
       "      <td>2.0</td>\n",
       "      <td>3</td>\n",
       "      <td>1</td>\n",
       "      <td>349909</td>\n",
       "      <td>21.0750</td>\n",
       "      <td>NaN</td>\n",
       "      <td>S</td>\n",
       "    </tr>\n",
       "    <tr>\n",
       "      <th>8</th>\n",
       "      <td>9</td>\n",
       "      <td>1</td>\n",
       "      <td>3</td>\n",
       "      <td>Johnson, Mrs. Oscar W (Elisabeth Vilhelmina Berg)</td>\n",
       "      <td>female</td>\n",
       "      <td>27.0</td>\n",
       "      <td>0</td>\n",
       "      <td>2</td>\n",
       "      <td>347742</td>\n",
       "      <td>11.1333</td>\n",
       "      <td>NaN</td>\n",
       "      <td>S</td>\n",
       "    </tr>\n",
       "    <tr>\n",
       "      <th>9</th>\n",
       "      <td>10</td>\n",
       "      <td>1</td>\n",
       "      <td>2</td>\n",
       "      <td>Nasser, Mrs. Nicholas (Adele Achem)</td>\n",
       "      <td>female</td>\n",
       "      <td>14.0</td>\n",
       "      <td>1</td>\n",
       "      <td>0</td>\n",
       "      <td>237736</td>\n",
       "      <td>30.0708</td>\n",
       "      <td>NaN</td>\n",
       "      <td>C</td>\n",
       "    </tr>\n",
       "  </tbody>\n",
       "</table>\n",
       "</div>"
      ],
      "text/plain": [
       "   PassengerId  Survived  Pclass  \\\n",
       "0            1         0       3   \n",
       "1            2         1       1   \n",
       "2            3         1       3   \n",
       "3            4         1       1   \n",
       "4            5         0       3   \n",
       "5            6         0       3   \n",
       "6            7         0       1   \n",
       "7            8         0       3   \n",
       "8            9         1       3   \n",
       "9           10         1       2   \n",
       "\n",
       "                                                Name     Sex   Age  SibSp  \\\n",
       "0                            Braund, Mr. Owen Harris    male  22.0      1   \n",
       "1  Cumings, Mrs. John Bradley (Florence Briggs Th...  female  38.0      1   \n",
       "2                             Heikkinen, Miss. Laina  female  26.0      0   \n",
       "3       Futrelle, Mrs. Jacques Heath (Lily May Peel)  female  35.0      1   \n",
       "4                           Allen, Mr. William Henry    male  35.0      0   \n",
       "5                                   Moran, Mr. James    male   NaN      0   \n",
       "6                            McCarthy, Mr. Timothy J    male  54.0      0   \n",
       "7                     Palsson, Master. Gosta Leonard    male   2.0      3   \n",
       "8  Johnson, Mrs. Oscar W (Elisabeth Vilhelmina Berg)  female  27.0      0   \n",
       "9                Nasser, Mrs. Nicholas (Adele Achem)  female  14.0      1   \n",
       "\n",
       "   Parch            Ticket     Fare Cabin Embarked  \n",
       "0      0         A/5 21171   7.2500   NaN        S  \n",
       "1      0          PC 17599  71.2833   C85        C  \n",
       "2      0  STON/O2. 3101282   7.9250   NaN        S  \n",
       "3      0            113803  53.1000  C123        S  \n",
       "4      0            373450   8.0500   NaN        S  \n",
       "5      0            330877   8.4583   NaN        Q  \n",
       "6      0             17463  51.8625   E46        S  \n",
       "7      1            349909  21.0750   NaN        S  \n",
       "8      2            347742  11.1333   NaN        S  \n",
       "9      0            237736  30.0708   NaN        C  "
      ]
     },
     "execution_count": 16,
     "metadata": {},
     "output_type": "execute_result"
    }
   ],
   "source": [
    "# Visualization of the first 10 rows of the Training Set\n",
    "train_df.head(10)"
   ]
  },
  {
   "cell_type": "code",
   "execution_count": 17,
   "metadata": {
    "_cell_guid": "f6e761c2-e2ff-d300-164c-af257083bb46",
    "_uuid": "3488e80f309d29f5b68bbcfaba8d78da84f4fb7d"
   },
   "outputs": [
    {
     "data": {
      "text/html": [
       "<div>\n",
       "<style scoped>\n",
       "    .dataframe tbody tr th:only-of-type {\n",
       "        vertical-align: middle;\n",
       "    }\n",
       "\n",
       "    .dataframe tbody tr th {\n",
       "        vertical-align: top;\n",
       "    }\n",
       "\n",
       "    .dataframe thead th {\n",
       "        text-align: right;\n",
       "    }\n",
       "</style>\n",
       "<table border=\"1\" class=\"dataframe\">\n",
       "  <thead>\n",
       "    <tr style=\"text-align: right;\">\n",
       "      <th></th>\n",
       "      <th>PassengerId</th>\n",
       "      <th>Survived</th>\n",
       "      <th>Pclass</th>\n",
       "      <th>Name</th>\n",
       "      <th>Sex</th>\n",
       "      <th>Age</th>\n",
       "      <th>SibSp</th>\n",
       "      <th>Parch</th>\n",
       "      <th>Ticket</th>\n",
       "      <th>Fare</th>\n",
       "      <th>Cabin</th>\n",
       "      <th>Embarked</th>\n",
       "    </tr>\n",
       "  </thead>\n",
       "  <tbody>\n",
       "    <tr>\n",
       "      <th>886</th>\n",
       "      <td>887</td>\n",
       "      <td>0</td>\n",
       "      <td>2</td>\n",
       "      <td>Montvila, Rev. Juozas</td>\n",
       "      <td>male</td>\n",
       "      <td>27.0</td>\n",
       "      <td>0</td>\n",
       "      <td>0</td>\n",
       "      <td>211536</td>\n",
       "      <td>13.00</td>\n",
       "      <td>NaN</td>\n",
       "      <td>S</td>\n",
       "    </tr>\n",
       "    <tr>\n",
       "      <th>887</th>\n",
       "      <td>888</td>\n",
       "      <td>1</td>\n",
       "      <td>1</td>\n",
       "      <td>Graham, Miss. Margaret Edith</td>\n",
       "      <td>female</td>\n",
       "      <td>19.0</td>\n",
       "      <td>0</td>\n",
       "      <td>0</td>\n",
       "      <td>112053</td>\n",
       "      <td>30.00</td>\n",
       "      <td>B42</td>\n",
       "      <td>S</td>\n",
       "    </tr>\n",
       "    <tr>\n",
       "      <th>888</th>\n",
       "      <td>889</td>\n",
       "      <td>0</td>\n",
       "      <td>3</td>\n",
       "      <td>Johnston, Miss. Catherine Helen \"Carrie\"</td>\n",
       "      <td>female</td>\n",
       "      <td>NaN</td>\n",
       "      <td>1</td>\n",
       "      <td>2</td>\n",
       "      <td>W./C. 6607</td>\n",
       "      <td>23.45</td>\n",
       "      <td>NaN</td>\n",
       "      <td>S</td>\n",
       "    </tr>\n",
       "    <tr>\n",
       "      <th>889</th>\n",
       "      <td>890</td>\n",
       "      <td>1</td>\n",
       "      <td>1</td>\n",
       "      <td>Behr, Mr. Karl Howell</td>\n",
       "      <td>male</td>\n",
       "      <td>26.0</td>\n",
       "      <td>0</td>\n",
       "      <td>0</td>\n",
       "      <td>111369</td>\n",
       "      <td>30.00</td>\n",
       "      <td>C148</td>\n",
       "      <td>C</td>\n",
       "    </tr>\n",
       "    <tr>\n",
       "      <th>890</th>\n",
       "      <td>891</td>\n",
       "      <td>0</td>\n",
       "      <td>3</td>\n",
       "      <td>Dooley, Mr. Patrick</td>\n",
       "      <td>male</td>\n",
       "      <td>32.0</td>\n",
       "      <td>0</td>\n",
       "      <td>0</td>\n",
       "      <td>370376</td>\n",
       "      <td>7.75</td>\n",
       "      <td>NaN</td>\n",
       "      <td>Q</td>\n",
       "    </tr>\n",
       "  </tbody>\n",
       "</table>\n",
       "</div>"
      ],
      "text/plain": [
       "     PassengerId  Survived  Pclass                                      Name  \\\n",
       "886          887         0       2                     Montvila, Rev. Juozas   \n",
       "887          888         1       1              Graham, Miss. Margaret Edith   \n",
       "888          889         0       3  Johnston, Miss. Catherine Helen \"Carrie\"   \n",
       "889          890         1       1                     Behr, Mr. Karl Howell   \n",
       "890          891         0       3                       Dooley, Mr. Patrick   \n",
       "\n",
       "        Sex   Age  SibSp  Parch      Ticket   Fare Cabin Embarked  \n",
       "886    male  27.0      0      0      211536  13.00   NaN        S  \n",
       "887  female  19.0      0      0      112053  30.00   B42        S  \n",
       "888  female   NaN      1      2  W./C. 6607  23.45   NaN        S  \n",
       "889    male  26.0      0      0      111369  30.00  C148        C  \n",
       "890    male  32.0      0      0      370376   7.75   NaN        Q  "
      ]
     },
     "execution_count": 17,
     "metadata": {},
     "output_type": "execute_result"
    }
   ],
   "source": [
    "# Visualization of the last 5 rows of the Training Set\n",
    "train_df.tail()"
   ]
  },
  {
   "cell_type": "markdown",
   "metadata": {},
   "source": [
    "### Main Observations\n",
    "\n",
    "- **Null Values**: The \"Age\" and \"Cabin\" columns contain `NaN` values, which must be handled before the modeling stage.\n",
    "  \n",
    "- **Useful Information in \"Name\"**: Titles in the names (e.g., Mr., Miss) can be extracted as new features, providing additional context.\n",
    "  \n",
    "- **\"Ticket\" Column**: Contains alphanumeric data that, if not useful, could be discarded or processed to extract relevant information.\n",
    "\n",
    "**Addressing these observations will improve data quality and, consequently, model performance.**"
   ]
  },
  {
   "cell_type": "code",
   "execution_count": 19,
   "metadata": {
    "_cell_guid": "58e387fe-86e4-e068-8307-70e37fe3f37b",
    "_uuid": "380251a1c1e0b89147d321968dc739b6cc0eecf2"
   },
   "outputs": [
    {
     "data": {
      "text/html": [
       "<div>\n",
       "<style scoped>\n",
       "    .dataframe tbody tr th:only-of-type {\n",
       "        vertical-align: middle;\n",
       "    }\n",
       "\n",
       "    .dataframe tbody tr th {\n",
       "        vertical-align: top;\n",
       "    }\n",
       "\n",
       "    .dataframe thead th {\n",
       "        text-align: right;\n",
       "    }\n",
       "</style>\n",
       "<table border=\"1\" class=\"dataframe\">\n",
       "  <thead>\n",
       "    <tr style=\"text-align: right;\">\n",
       "      <th></th>\n",
       "      <th>PassengerId</th>\n",
       "      <th>Survived</th>\n",
       "      <th>Pclass</th>\n",
       "      <th>Age</th>\n",
       "      <th>SibSp</th>\n",
       "      <th>Parch</th>\n",
       "      <th>Fare</th>\n",
       "    </tr>\n",
       "  </thead>\n",
       "  <tbody>\n",
       "    <tr>\n",
       "      <th>count</th>\n",
       "      <td>891.000000</td>\n",
       "      <td>891.000000</td>\n",
       "      <td>891.000000</td>\n",
       "      <td>714.000000</td>\n",
       "      <td>891.000000</td>\n",
       "      <td>891.000000</td>\n",
       "      <td>891.000000</td>\n",
       "    </tr>\n",
       "    <tr>\n",
       "      <th>mean</th>\n",
       "      <td>446.000000</td>\n",
       "      <td>0.383838</td>\n",
       "      <td>2.308642</td>\n",
       "      <td>29.699118</td>\n",
       "      <td>0.523008</td>\n",
       "      <td>0.381594</td>\n",
       "      <td>32.204208</td>\n",
       "    </tr>\n",
       "    <tr>\n",
       "      <th>std</th>\n",
       "      <td>257.353842</td>\n",
       "      <td>0.486592</td>\n",
       "      <td>0.836071</td>\n",
       "      <td>14.526497</td>\n",
       "      <td>1.102743</td>\n",
       "      <td>0.806057</td>\n",
       "      <td>49.693429</td>\n",
       "    </tr>\n",
       "    <tr>\n",
       "      <th>min</th>\n",
       "      <td>1.000000</td>\n",
       "      <td>0.000000</td>\n",
       "      <td>1.000000</td>\n",
       "      <td>0.420000</td>\n",
       "      <td>0.000000</td>\n",
       "      <td>0.000000</td>\n",
       "      <td>0.000000</td>\n",
       "    </tr>\n",
       "    <tr>\n",
       "      <th>25%</th>\n",
       "      <td>223.500000</td>\n",
       "      <td>0.000000</td>\n",
       "      <td>2.000000</td>\n",
       "      <td>20.125000</td>\n",
       "      <td>0.000000</td>\n",
       "      <td>0.000000</td>\n",
       "      <td>7.910400</td>\n",
       "    </tr>\n",
       "    <tr>\n",
       "      <th>50%</th>\n",
       "      <td>446.000000</td>\n",
       "      <td>0.000000</td>\n",
       "      <td>3.000000</td>\n",
       "      <td>28.000000</td>\n",
       "      <td>0.000000</td>\n",
       "      <td>0.000000</td>\n",
       "      <td>14.454200</td>\n",
       "    </tr>\n",
       "    <tr>\n",
       "      <th>75%</th>\n",
       "      <td>668.500000</td>\n",
       "      <td>1.000000</td>\n",
       "      <td>3.000000</td>\n",
       "      <td>38.000000</td>\n",
       "      <td>1.000000</td>\n",
       "      <td>0.000000</td>\n",
       "      <td>31.000000</td>\n",
       "    </tr>\n",
       "    <tr>\n",
       "      <th>max</th>\n",
       "      <td>891.000000</td>\n",
       "      <td>1.000000</td>\n",
       "      <td>3.000000</td>\n",
       "      <td>80.000000</td>\n",
       "      <td>8.000000</td>\n",
       "      <td>6.000000</td>\n",
       "      <td>512.329200</td>\n",
       "    </tr>\n",
       "  </tbody>\n",
       "</table>\n",
       "</div>"
      ],
      "text/plain": [
       "       PassengerId    Survived      Pclass         Age       SibSp  \\\n",
       "count   891.000000  891.000000  891.000000  714.000000  891.000000   \n",
       "mean    446.000000    0.383838    2.308642   29.699118    0.523008   \n",
       "std     257.353842    0.486592    0.836071   14.526497    1.102743   \n",
       "min       1.000000    0.000000    1.000000    0.420000    0.000000   \n",
       "25%     223.500000    0.000000    2.000000   20.125000    0.000000   \n",
       "50%     446.000000    0.000000    3.000000   28.000000    0.000000   \n",
       "75%     668.500000    1.000000    3.000000   38.000000    1.000000   \n",
       "max     891.000000    1.000000    3.000000   80.000000    8.000000   \n",
       "\n",
       "            Parch        Fare  \n",
       "count  891.000000  891.000000  \n",
       "mean     0.381594   32.204208  \n",
       "std      0.806057   49.693429  \n",
       "min      0.000000    0.000000  \n",
       "25%      0.000000    7.910400  \n",
       "50%      0.000000   14.454200  \n",
       "75%      0.000000   31.000000  \n",
       "max      6.000000  512.329200  "
      ]
     },
     "execution_count": 19,
     "metadata": {},
     "output_type": "execute_result"
    }
   ],
   "source": [
    "# Descriptive Statistics of Numerical Columns in the Training DataFrame\n",
    "train_df.describe()"
   ]
  },
  {
   "cell_type": "markdown",
   "metadata": {},
   "source": [
    "From the table above, the following can be deduced:\n",
    "\n",
    "- **Survival Rate ('Survived'):** The mean value in the 'Survived' column is 0.38, indicating that approximately 38.4% of the passengers survived (different from the initial 32% survival rate).\n",
    "\n",
    "- **Passenger Class ('Pclass'):** The mean of 2.31 suggests that most passengers were in classes 2 and 3, which were the most affordable, as class 1 was the wealthiest.\n",
    "\n",
    "- **Age ('Age'):** There are 714 records with values in 'Age,' meaning 177 values are missing in this column (891 - 714). The mean age is 29.7 years, with a range from 0.42 years to 80 years.\n",
    "\n",
    "- **Fare ('Fare'):** The average fare is 32.20 monetary units, but it shows high variability (standard deviation of 49.69), with a maximum fare of 512.33."
   ]
  },
  {
   "cell_type": "code",
   "execution_count": 21,
   "metadata": {
    "_cell_guid": "8066b378-1964-92e8-1352-dcac934c6af3",
    "_uuid": "daa8663f577f9c1a478496cf14fe363570457191"
   },
   "outputs": [
    {
     "data": {
      "text/html": [
       "<div>\n",
       "<style scoped>\n",
       "    .dataframe tbody tr th:only-of-type {\n",
       "        vertical-align: middle;\n",
       "    }\n",
       "\n",
       "    .dataframe tbody tr th {\n",
       "        vertical-align: top;\n",
       "    }\n",
       "\n",
       "    .dataframe thead th {\n",
       "        text-align: right;\n",
       "    }\n",
       "</style>\n",
       "<table border=\"1\" class=\"dataframe\">\n",
       "  <thead>\n",
       "    <tr style=\"text-align: right;\">\n",
       "      <th></th>\n",
       "      <th>Name</th>\n",
       "      <th>Sex</th>\n",
       "      <th>Ticket</th>\n",
       "      <th>Cabin</th>\n",
       "      <th>Embarked</th>\n",
       "    </tr>\n",
       "  </thead>\n",
       "  <tbody>\n",
       "    <tr>\n",
       "      <th>count</th>\n",
       "      <td>891</td>\n",
       "      <td>891</td>\n",
       "      <td>891</td>\n",
       "      <td>204</td>\n",
       "      <td>889</td>\n",
       "    </tr>\n",
       "    <tr>\n",
       "      <th>unique</th>\n",
       "      <td>891</td>\n",
       "      <td>2</td>\n",
       "      <td>681</td>\n",
       "      <td>147</td>\n",
       "      <td>3</td>\n",
       "    </tr>\n",
       "    <tr>\n",
       "      <th>top</th>\n",
       "      <td>Braund, Mr. Owen Harris</td>\n",
       "      <td>male</td>\n",
       "      <td>347082</td>\n",
       "      <td>B96 B98</td>\n",
       "      <td>S</td>\n",
       "    </tr>\n",
       "    <tr>\n",
       "      <th>freq</th>\n",
       "      <td>1</td>\n",
       "      <td>577</td>\n",
       "      <td>7</td>\n",
       "      <td>4</td>\n",
       "      <td>644</td>\n",
       "    </tr>\n",
       "  </tbody>\n",
       "</table>\n",
       "</div>"
      ],
      "text/plain": [
       "                           Name   Sex  Ticket    Cabin Embarked\n",
       "count                       891   891     891      204      889\n",
       "unique                      891     2     681      147        3\n",
       "top     Braund, Mr. Owen Harris  male  347082  B96 B98        S\n",
       "freq                          1   577       7        4      644"
      ]
     },
     "execution_count": 21,
     "metadata": {},
     "output_type": "execute_result"
    }
   ],
   "source": [
    "# Descriptive Statistics of Categorical Columns in the Training DataFrame\n",
    "train_df.describe(include=['O'])  # '0' ----> Object"
   ]
  },
  {
   "cell_type": "markdown",
   "metadata": {},
   "source": [
    "### Conclusions on the Descriptive Statistics of Categorical Variables:\n",
    "\n",
    "- **Unique Values**: The \"Sex\" column logically has 2 unique values (male and female), while \"Embarked\" has 3 (S, C, Q), representing the ports of embarkation.\n",
    "\n",
    "- **Frequency of Values**: The \"male\" category is predominant in \"Sex\" with 577 records. In \"Embarked,\" most passengers boarded at port \"S\" (644).\n",
    "\n",
    "- **Columns with High Variability**: The \"Ticket\" and \"Cabin\" columns have many unique values (681 and 147, respectively), indicating high variability and potential challenges in processing them.\n",
    "\n",
    "- **Null Values in \"Cabin\"**: There are only 204 non-null values in \"Cabin,\" suggesting many missing values (`NaN`) that need to be addressed."
   ]
  },
  {
   "cell_type": "markdown",
   "metadata": {},
   "source": [
    "### Relationships Between Numerical Features\n",
    "\n",
    "Pivot tables are a practical tool for exploring relationships and identifying patterns between the different features in the dataset. They allow us to summarize data and quickly uncover insights. For example, we can use them to observe if survival rates vary based on any of the numerical features.\n"
   ]
  },
  {
   "cell_type": "markdown",
   "metadata": {
    "_cell_guid": "6db63a30-1d86-266e-2799-dded03c45816",
    "_uuid": "946ee6ca01a3e4eecfa373ca00f88042b683e2ad"
   },
   "source": [
    "### Correlation Analysis Between Dataset Features (Pivot Tables)\n",
    "\n",
    "### Survival vs. PClass\n",
    "\n",
    "The goal is to observe whether the passenger class influences the likelihood of survival."
   ]
  },
  {
   "cell_type": "code",
   "execution_count": 25,
   "metadata": {
    "_cell_guid": "0964832a-a4be-2d6f-a89e-63526389cee9",
    "_uuid": "97a845528ce9f76e85055a4bb9e97c27091f6aa1"
   },
   "outputs": [
    {
     "data": {
      "text/html": [
       "<div>\n",
       "<style scoped>\n",
       "    .dataframe tbody tr th:only-of-type {\n",
       "        vertical-align: middle;\n",
       "    }\n",
       "\n",
       "    .dataframe tbody tr th {\n",
       "        vertical-align: top;\n",
       "    }\n",
       "\n",
       "    .dataframe thead th {\n",
       "        text-align: right;\n",
       "    }\n",
       "</style>\n",
       "<table border=\"1\" class=\"dataframe\">\n",
       "  <thead>\n",
       "    <tr style=\"text-align: right;\">\n",
       "      <th></th>\n",
       "      <th>Pclass</th>\n",
       "      <th>Survived</th>\n",
       "    </tr>\n",
       "  </thead>\n",
       "  <tbody>\n",
       "    <tr>\n",
       "      <th>0</th>\n",
       "      <td>1</td>\n",
       "      <td>0.629630</td>\n",
       "    </tr>\n",
       "    <tr>\n",
       "      <th>1</th>\n",
       "      <td>2</td>\n",
       "      <td>0.472826</td>\n",
       "    </tr>\n",
       "    <tr>\n",
       "      <th>2</th>\n",
       "      <td>3</td>\n",
       "      <td>0.242363</td>\n",
       "    </tr>\n",
       "  </tbody>\n",
       "</table>\n",
       "</div>"
      ],
      "text/plain": [
       "   Pclass  Survived\n",
       "0       1  0.629630\n",
       "1       2  0.472826\n",
       "2       3  0.242363"
      ]
     },
     "execution_count": 25,
     "metadata": {},
     "output_type": "execute_result"
    }
   ],
   "source": [
    "# Calculation of the average survival rate by class (PClass) and sorting them in descending order.\n",
    "train_df[['Pclass', 'Survived']].groupby(['Pclass'], as_index=False).mean().sort_values(by='Survived', ascending=False)"
   ]
  },
  {
   "cell_type": "markdown",
   "metadata": {},
   "source": [
    "### Conclusions on Survival vs. PClass\n",
    "\n",
    "- **Higher Survival in First Class**: Passengers in first class (PClass = 1) have the highest survival rate (62.96%), suggesting that class directly influences the chances of survival.\n",
    "\n",
    "- **Decrease in Lower Classes**: The survival rate decreases in second class (47.28%) and is much lower in third class (24.24%).\n",
    "\n",
    "- **Impact of Class on Outcome**: This analysis shows that social class played a significant role in survival, possibly due to differences in access to lifeboats or location on the ship."
   ]
  },
  {
   "cell_type": "markdown",
   "metadata": {},
   "source": [
    "### Survival vs. Sex\n",
    "\n",
    "This analysis examines whether gender had a significant impact on the passengers' chances of survival."
   ]
  },
  {
   "cell_type": "code",
   "execution_count": 28,
   "metadata": {
    "_cell_guid": "68908ba6-bfe9-5b31-cfde-6987fc0fbe9a",
    "_uuid": "00a2f2bca094c5984e6a232c730c8b232e7e20bb"
   },
   "outputs": [
    {
     "data": {
      "text/html": [
       "<div>\n",
       "<style scoped>\n",
       "    .dataframe tbody tr th:only-of-type {\n",
       "        vertical-align: middle;\n",
       "    }\n",
       "\n",
       "    .dataframe tbody tr th {\n",
       "        vertical-align: top;\n",
       "    }\n",
       "\n",
       "    .dataframe thead th {\n",
       "        text-align: right;\n",
       "    }\n",
       "</style>\n",
       "<table border=\"1\" class=\"dataframe\">\n",
       "  <thead>\n",
       "    <tr style=\"text-align: right;\">\n",
       "      <th></th>\n",
       "      <th>Sex</th>\n",
       "      <th>Survived</th>\n",
       "    </tr>\n",
       "  </thead>\n",
       "  <tbody>\n",
       "    <tr>\n",
       "      <th>0</th>\n",
       "      <td>female</td>\n",
       "      <td>0.742038</td>\n",
       "    </tr>\n",
       "    <tr>\n",
       "      <th>1</th>\n",
       "      <td>male</td>\n",
       "      <td>0.188908</td>\n",
       "    </tr>\n",
       "  </tbody>\n",
       "</table>\n",
       "</div>"
      ],
      "text/plain": [
       "      Sex  Survived\n",
       "0  female  0.742038\n",
       "1    male  0.188908"
      ]
     },
     "execution_count": 28,
     "metadata": {},
     "output_type": "execute_result"
    }
   ],
   "source": [
    "# Calculation of the average survival rate by gender\n",
    "train_df[[\"Sex\", \"Survived\"]].groupby(['Sex'], as_index=False).mean().sort_values(by='Survived', ascending=False)"
   ]
  },
  {
   "cell_type": "markdown",
   "metadata": {},
   "source": [
    "### Conclusions on Survival vs. Sex\n",
    "\n",
    "- **Higher Survival Among Women**: Women have a significantly higher survival rate (74.20%) compared to men (18.89%).\n",
    "\n",
    "**This analysis suggests that gender was an important factor in survival, possibly due to the priority given to women during the evacuation.**"
   ]
  },
  {
   "cell_type": "markdown",
   "metadata": {},
   "source": [
    "### Survival vs. SibSp\n",
    "\n",
    "This analysis examines whether traveling with siblings or a spouse influenced the chances of survival."
   ]
  },
  {
   "cell_type": "code",
   "execution_count": 31,
   "metadata": {
    "_cell_guid": "01c06927-c5a6-342a-5aa8-2e486ec3fd7c",
    "_uuid": "a8f7a16c54417dcd86fc48aeef0c4b240d47d71b"
   },
   "outputs": [
    {
     "data": {
      "text/html": [
       "<div>\n",
       "<style scoped>\n",
       "    .dataframe tbody tr th:only-of-type {\n",
       "        vertical-align: middle;\n",
       "    }\n",
       "\n",
       "    .dataframe tbody tr th {\n",
       "        vertical-align: top;\n",
       "    }\n",
       "\n",
       "    .dataframe thead th {\n",
       "        text-align: right;\n",
       "    }\n",
       "</style>\n",
       "<table border=\"1\" class=\"dataframe\">\n",
       "  <thead>\n",
       "    <tr style=\"text-align: right;\">\n",
       "      <th></th>\n",
       "      <th>SibSp</th>\n",
       "      <th>Survived</th>\n",
       "    </tr>\n",
       "  </thead>\n",
       "  <tbody>\n",
       "    <tr>\n",
       "      <th>1</th>\n",
       "      <td>1</td>\n",
       "      <td>0.535885</td>\n",
       "    </tr>\n",
       "    <tr>\n",
       "      <th>2</th>\n",
       "      <td>2</td>\n",
       "      <td>0.464286</td>\n",
       "    </tr>\n",
       "    <tr>\n",
       "      <th>0</th>\n",
       "      <td>0</td>\n",
       "      <td>0.345395</td>\n",
       "    </tr>\n",
       "    <tr>\n",
       "      <th>3</th>\n",
       "      <td>3</td>\n",
       "      <td>0.250000</td>\n",
       "    </tr>\n",
       "    <tr>\n",
       "      <th>4</th>\n",
       "      <td>4</td>\n",
       "      <td>0.166667</td>\n",
       "    </tr>\n",
       "    <tr>\n",
       "      <th>5</th>\n",
       "      <td>5</td>\n",
       "      <td>0.000000</td>\n",
       "    </tr>\n",
       "    <tr>\n",
       "      <th>6</th>\n",
       "      <td>8</td>\n",
       "      <td>0.000000</td>\n",
       "    </tr>\n",
       "  </tbody>\n",
       "</table>\n",
       "</div>"
      ],
      "text/plain": [
       "   SibSp  Survived\n",
       "1      1  0.535885\n",
       "2      2  0.464286\n",
       "0      0  0.345395\n",
       "3      3  0.250000\n",
       "4      4  0.166667\n",
       "5      5  0.000000\n",
       "6      8  0.000000"
      ]
     },
     "execution_count": 31,
     "metadata": {},
     "output_type": "execute_result"
    }
   ],
   "source": [
    "# Calculation of the average survival rate based on the number of siblings or spouse aboard.\n",
    "train_df[[\"SibSp\", \"Survived\"]].groupby(['SibSp'], as_index=False).mean().sort_values(by='Survived', ascending=False)"
   ]
  },
  {
   "cell_type": "markdown",
   "metadata": {},
   "source": [
    "### Conclusions on Survival vs. SibSp\n",
    "\n",
    "- **Higher Survival with 1 Companion**: Passengers traveling with 1 companion (SibSp = 1) have the highest survival rate (53.59%).\n",
    "\n",
    "- **Decreasing Trend**: Survival decreases as the number of companions increases, with a lower rate for those with 2 companions (46.43%) and even lower with 3 or more.\n",
    "\n",
    "- **Passengers Traveling Alone**: Passengers traveling alone (SibSp = 0) have a survival rate of 34.54%.\n",
    "\n",
    "**Traveling with a companion seems to increase the chances of survival, but this benefit decreases as the number of companions grows.**"
   ]
  },
  {
   "cell_type": "markdown",
   "metadata": {},
   "source": [
    "### Survival vs. Parch\n",
    "\n",
    "This analysis examines whether the presence of direct family members influenced the chances of survival."
   ]
  },
  {
   "cell_type": "code",
   "execution_count": 34,
   "metadata": {
    "_cell_guid": "e686f98b-a8c9-68f8-36a4-d4598638bbd5",
    "_uuid": "5d953a6779b00b7f3794757dec8744a03162c8fd"
   },
   "outputs": [
    {
     "data": {
      "text/html": [
       "<div>\n",
       "<style scoped>\n",
       "    .dataframe tbody tr th:only-of-type {\n",
       "        vertical-align: middle;\n",
       "    }\n",
       "\n",
       "    .dataframe tbody tr th {\n",
       "        vertical-align: top;\n",
       "    }\n",
       "\n",
       "    .dataframe thead th {\n",
       "        text-align: right;\n",
       "    }\n",
       "</style>\n",
       "<table border=\"1\" class=\"dataframe\">\n",
       "  <thead>\n",
       "    <tr style=\"text-align: right;\">\n",
       "      <th></th>\n",
       "      <th>Parch</th>\n",
       "      <th>Survived</th>\n",
       "    </tr>\n",
       "  </thead>\n",
       "  <tbody>\n",
       "    <tr>\n",
       "      <th>3</th>\n",
       "      <td>3</td>\n",
       "      <td>0.600000</td>\n",
       "    </tr>\n",
       "    <tr>\n",
       "      <th>1</th>\n",
       "      <td>1</td>\n",
       "      <td>0.550847</td>\n",
       "    </tr>\n",
       "    <tr>\n",
       "      <th>2</th>\n",
       "      <td>2</td>\n",
       "      <td>0.500000</td>\n",
       "    </tr>\n",
       "    <tr>\n",
       "      <th>0</th>\n",
       "      <td>0</td>\n",
       "      <td>0.343658</td>\n",
       "    </tr>\n",
       "    <tr>\n",
       "      <th>5</th>\n",
       "      <td>5</td>\n",
       "      <td>0.200000</td>\n",
       "    </tr>\n",
       "    <tr>\n",
       "      <th>4</th>\n",
       "      <td>4</td>\n",
       "      <td>0.000000</td>\n",
       "    </tr>\n",
       "    <tr>\n",
       "      <th>6</th>\n",
       "      <td>6</td>\n",
       "      <td>0.000000</td>\n",
       "    </tr>\n",
       "  </tbody>\n",
       "</table>\n",
       "</div>"
      ],
      "text/plain": [
       "   Parch  Survived\n",
       "3      3  0.600000\n",
       "1      1  0.550847\n",
       "2      2  0.500000\n",
       "0      0  0.343658\n",
       "5      5  0.200000\n",
       "4      4  0.000000\n",
       "6      6  0.000000"
      ]
     },
     "execution_count": 34,
     "metadata": {},
     "output_type": "execute_result"
    }
   ],
   "source": [
    "# Calculation of the average survival rate based on the number of parents (or children) accompanying the passenger. \n",
    "train_df[[\"Parch\", \"Survived\"]].groupby(['Parch'], as_index=False).mean().sort_values(by='Survived', ascending=False)"
   ]
  },
  {
   "cell_type": "markdown",
   "metadata": {},
   "source": [
    "### Conclusions on Survival vs. Parch\n",
    "\n",
    "- **Highest Survival with 3 Family Members**: Passengers traveling with 3 direct family members (parents or children) have the highest survival rate (60%).\n",
    "\n",
    "- **Moderate Survival with 1 or 2 Family Members**: Those with 1 or 2 family members also show a good probability of survival (55.08% and 50%, respectively).\n",
    "\n",
    "- **Passengers Without Family Members**: Passengers without direct family members (Parch = 0) have a lower survival rate (34.37%).\n",
    "\n",
    "- **Zero Probability with 4 or More Family Members**: Traveling with 4 or more family members drastically reduces the chances of survival, with survival rates of 0% for 4 and 6 family members.\n",
    "\n",
    "**This analysis suggests that traveling with a few direct family members increases the chances of survival, but having too many may decrease them.**\n"
   ]
  },
  {
   "cell_type": "markdown",
   "metadata": {},
   "source": [
    "## Data Visualization"
   ]
  },
  {
   "cell_type": "markdown",
   "metadata": {
    "_cell_guid": "0d43550e-9eff-3859-3568-8856570eff76",
    "_uuid": "5c6204d01f5a9040cf0bb7c678686ae48daa201f"
   },
   "source": [
    "### Visualization of Age by Survival\n",
    "\n",
    "Using **Seaborn**, a FacetGrid is created to show the age distribution based on survival. The dataset is divided into two columns: one for passengers who survived and another for those who did not. Histograms of age are then plotted for each group.\n",
    "\n",
    "This type of visualization allows us to observe how age is distributed among passengers who survived and those who did not, helping to identify whether age is a relevant factor in survival probabilities."
   ]
  },
  {
   "cell_type": "code",
   "execution_count": 38,
   "metadata": {
    "_cell_guid": "50294eac-263a-af78-cb7e-3778eb9ad41f",
    "_uuid": "d3a1fa63e9dd4f8a810086530a6363c94b36d030"
   },
   "outputs": [
    {
     "data": {
      "text/plain": [
       "<seaborn.axisgrid.FacetGrid at 0x15426f93d10>"
      ]
     },
     "execution_count": 38,
     "metadata": {},
     "output_type": "execute_result"
    },
    {
     "data": {
      "image/png": "[encoded data removed]",
      "text/plain": [
       "<Figure size 600x300 with 2 Axes>"
      ]
     },
     "metadata": {},
     "output_type": "display_data"
    }
   ],
   "source": [
    "# Visualization of Age Distribution (in 20-year intervals) by Survival\n",
    "g = sns.FacetGrid(train_df, col='Survived')\n",
    "g.map(plt.hist, 'Age', bins=20)"
   ]
  },
  {
   "cell_type": "markdown",
   "metadata": {},
   "source": [
    "### Conclusions on Age Distribution and Survival\n",
    "\n",
    "- **Children and Young Passengers**: There is a higher proportion of children and young passengers who survived compared to adults.\n",
    "\n",
    "- **Lower Survival Among Older Adults**: Most older adults (approximately 50 years and above) have a lower survival rate.\n",
    "\n",
    "- **Age as a Relevant Factor**: The distribution suggests that age may influence survival probabilities, with higher survival rates among younger passengers.\n",
    "\n",
    "**This analysis indicates that age should be considered in the learning models to be developed.**"
   ]
  },
  {
   "cell_type": "markdown",
   "metadata": {
    "_cell_guid": "87096158-4017-9213-7225-a19aea67a800",
    "_uuid": "892259f68c2ecf64fd258965cff1ecfe77dd73a9"
   },
   "source": [
    "### Visualization of Age by Survival and Passenger Class\n",
    "\n",
    "A FacetGrid is created to display the age distribution segmented by survival and passenger class (Pclass).  \n",
    "Each row represents a passenger class, and each column indicates whether the passenger survived or not."
   ]
  },
  {
   "cell_type": "code",
   "execution_count": 41,
   "metadata": {
    "_cell_guid": "916fdc6b-0190-9267-1ea9-907a3d87330d",
    "_uuid": "4f5bcfa97c8a72f8b413c786954f3a68e135e05a"
   },
   "outputs": [
    {
     "data": {
      "text/plain": [
       "<seaborn.axisgrid.FacetGrid at 0x154286f5290>"
      ]
     },
     "execution_count": 41,
     "metadata": {},
     "output_type": "execute_result"
    },
    {
     "data": {
      "image/png": "[encoded data removed]",
      "text/plain": [
       "<Figure size 704x660 with 6 Axes>"
      ]
     },
     "metadata": {},
     "output_type": "display_data"
    }
   ],
   "source": [
    "# Histogram of Ages (in 20-Year Intervals) by Survival and Passenger Class (Pclass).\n",
    "grid = sns.FacetGrid(train_df, col='Survived', row='Pclass', height=2.2, aspect=1.6)\n",
    "grid.map(plt.hist, 'Age', alpha=.5, bins=20)"
   ]
  },
  {
   "cell_type": "markdown",
   "metadata": {},
   "source": [
    "### Conclusions on Age, Class, and Survival\n",
    "\n",
    "- **First Class**: In first class, survival is more consistent across various ages, suggesting that passengers in this class had greater opportunities to survive regardless of age.\n",
    "\n",
    "- **Second Class**: In second class, young and adult passengers show better survival rates. However, the number of older passengers is smaller, making it difficult to draw firm conclusions for this group.\n",
    "\n",
    "- **Third Class**: Most passengers in third class who did not survive were young or children, indicating that being in this class reduced survival probabilities, especially for the younger age groups.\n",
    "\n",
    "**This analysis suggests that both class and age influence survival probabilities, with a clear advantage for first-class passengers and a disadvantage for those in third class.**"
   ]
  },
  {
   "cell_type": "markdown",
   "metadata": {
    "_cell_guid": "36f5a7c0-c55c-f76f-fdf8-945a32a68cb0",
    "_uuid": "892ab7ee88b1b1c5f1ac987884fa31e111bb0507"
   },
   "source": [
    "### Correlation of Categorical Features\n",
    "\n",
    "In the case of survival `Survived`, analyzing the relationship with categorical features such as `Embarked` or `Cabin` allows us to identify patterns and trends that influence survival probabilities."
   ]
  },
  {
   "cell_type": "code",
   "execution_count": 44,
   "metadata": {
    "_cell_guid": "db57aabd-0e26-9ff9-9ebd-56d401cdf6e8",
    "_uuid": "c0e1f01b3f58e8f31b938b0e5eb1733132edc8ad"
   },
   "outputs": [
    {
     "name": "stderr",
     "output_type": "stream",
     "text": [
      "C:\\Users\\mechi\\anaconda3\\Lib\\site-packages\\seaborn\\axisgrid.py:718: UserWarning: Using the pointplot function without specifying `order` is likely to produce an incorrect plot.\n",
      "  warnings.warn(warning)\n",
      "C:\\Users\\mechi\\anaconda3\\Lib\\site-packages\\seaborn\\axisgrid.py:723: UserWarning: Using the pointplot function without specifying `hue_order` is likely to produce an incorrect plot.\n",
      "  warnings.warn(warning)\n"
     ]
    },
    {
     "data": {
      "text/plain": [
       "<seaborn.axisgrid.FacetGrid at 0x15428b33d10>"
      ]
     },
     "execution_count": 44,
     "metadata": {},
     "output_type": "execute_result"
    },
    {
     "data": {
      "image/png": "[encoded data removed]",
      "text/plain": [
       "<Figure size 450x660 with 3 Axes>"
      ]
     },
     "metadata": {},
     "output_type": "display_data"
    }
   ],
   "source": [
    "# Variation in Survival Based on Passenger Class and Gender, Grouped by Embarkation Port.\n",
    "grid = sns.FacetGrid(train_df, row='Embarked', height=2.2, aspect=1.6)\n",
    "\n",
    "# The point plot highlights the differences in survival rates by class and gender.\n",
    "grid.map(sns.pointplot, 'Pclass', 'Survived', 'Sex', palette='deep')\n",
    "\n",
    "# 'Sex' legend\n",
    "grid.add_legend() "
   ]
  },
  {
   "cell_type": "markdown",
   "metadata": {},
   "source": [
    "## Conclusions on Survival by Gender, PClass, and Embarkation Port\n",
    "\n",
    "This visual analysis explores how **survival** varies based on the three categorical variables: **gender**, **class**, and **embarkation port**. The insights reveal critical patterns that could be valuable for predictive models and trend analysis.\n",
    "\n",
    "1. **Gender and Survival**: Women exhibit a **significantly higher survival rate** than men across all classes and ports. This pattern is especially pronounced in **first class**, where women have the highest survival rates, regardless of the embarkation port (although within the same port, such as S or C, men showed relatively higher survival rates).\n",
    "\n",
    "2. **Class and Survival**: A **decline in survival rates is observed as class decreases** (from first to third class), for both men and women. This highlights a strong correlation between socioeconomic status (represented by class) and survival probabilities.\n",
    "\n",
    "3. **Variation by Embarkation Port**:\n",
    "   - **Southampton (S)**: Women in **first class** have a **high survival rate**, while men in **third class** show very low survival rates.\n",
    "   - **Cherbourg (C)**: **Female survival** is high in **first class** and decreases in the lower classes, following a trend similar to other ports.\n",
    "   - **Queenstown (Q)**: Men have an **extremely low survival rate** across all classes, while women show a decreasing survival trend from **first to third class**."
   ]
  },
  {
   "cell_type": "markdown",
   "metadata": {
    "_cell_guid": "6b3f73f4-4600-c1ce-34e0-bd7d9eeb074a",
    "_uuid": "fd824f937dcb80edd4117a2927cc0d7f99d934b8"
   },
   "source": [
    "### Correlation Between Categorical and Numerical Features\n",
    "\n",
    "The goal is to analyze how the numerical variable `Fare` varies based on categorical variables (gender, embarkation port, and survival) to identify patterns in ticket costs associated with survival."
   ]
  },
  {
   "cell_type": "code",
   "execution_count": 47,
   "metadata": {
    "_cell_guid": "a21f66ac-c30d-f429-cc64-1da5460d16a9",
    "_uuid": "c8fd535ac1bc90127369027c2101dbc939db118e"
   },
   "outputs": [
    {
     "name": "stderr",
     "output_type": "stream",
     "text": [
      "C:\\Users\\mechi\\anaconda3\\Lib\\site-packages\\seaborn\\axisgrid.py:718: UserWarning: Using the barplot function without specifying `order` is likely to produce an incorrect plot.\n",
      "  warnings.warn(warning)\n",
      "C:\\Users\\mechi\\anaconda3\\Lib\\site-packages\\seaborn\\axisgrid.py:854: FutureWarning: \n",
      "\n",
      "The `ci` parameter is deprecated. Use `errorbar=None` for the same effect.\n",
      "\n",
      "  func(*plot_args, **plot_kwargs)\n",
      "C:\\Users\\mechi\\anaconda3\\Lib\\site-packages\\seaborn\\axisgrid.py:854: FutureWarning: \n",
      "\n",
      "The `ci` parameter is deprecated. Use `errorbar=None` for the same effect.\n",
      "\n",
      "  func(*plot_args, **plot_kwargs)\n",
      "C:\\Users\\mechi\\anaconda3\\Lib\\site-packages\\seaborn\\axisgrid.py:854: FutureWarning: \n",
      "\n",
      "The `ci` parameter is deprecated. Use `errorbar=None` for the same effect.\n",
      "\n",
      "  func(*plot_args, **plot_kwargs)\n",
      "C:\\Users\\mechi\\anaconda3\\Lib\\site-packages\\seaborn\\axisgrid.py:854: FutureWarning: \n",
      "\n",
      "The `ci` parameter is deprecated. Use `errorbar=None` for the same effect.\n",
      "\n",
      "  func(*plot_args, **plot_kwargs)\n",
      "C:\\Users\\mechi\\anaconda3\\Lib\\site-packages\\seaborn\\axisgrid.py:854: FutureWarning: \n",
      "\n",
      "The `ci` parameter is deprecated. Use `errorbar=None` for the same effect.\n",
      "\n",
      "  func(*plot_args, **plot_kwargs)\n",
      "C:\\Users\\mechi\\anaconda3\\Lib\\site-packages\\seaborn\\axisgrid.py:854: FutureWarning: \n",
      "\n",
      "The `ci` parameter is deprecated. Use `errorbar=None` for the same effect.\n",
      "\n",
      "  func(*plot_args, **plot_kwargs)\n"
     ]
    },
    {
     "data": {
      "text/plain": [
       "<seaborn.axisgrid.FacetGrid at 0x15426ed6510>"
      ]
     },
     "execution_count": 47,
     "metadata": {},
     "output_type": "execute_result"
    },
    {
     "data": {
      "image/png": "[encoded data removed]",
      "text/plain": [
       "<Figure size 715.111x660 with 6 Axes>"
      ]
     },
     "metadata": {},
     "output_type": "display_data"
    }
   ],
   "source": [
    "# Create a FacetGrid based on the Training DataFrame, where each row corresponds to an embarkation port category (Embarked) and \n",
    "# each column to a survival category (Survived).\n",
    "grid = sns.FacetGrid(train_df, row='Embarked', col='Survived', height=2.2, aspect=1.6)\n",
    "\n",
    "# Bar Plot for Each FacetGrid in the Grid, Using Gender (Sex) on the X-Axis and Average Fare (Fare) on the Y-Axis.\n",
    "grid.map(sns.barplot, 'Sex', 'Fare', alpha=.75, ci=None) \n",
    "\n",
    "# The 'y' axis shows the average fare, not the number of passengers.\n",
    "grid.add_legend()"
   ]
  },
  {
   "cell_type": "markdown",
   "metadata": {},
   "source": [
    "### Key Findings from the Analysis\n",
    "\n",
    "1. **Fare and Survival by Port**:\n",
    "   - In **Cherbourg (C)**, survivors paid higher average fares compared to non-survivors, whereas in **Southampton (S)** and **Queenstown (Q)**, the fare differences between these groups are less pronounced.\n",
    "\n",
    "2. **Gender and Average Fare**:\n",
    "   - In **Cherbourg (C)**, women who survived paid slightly higher fares than men. In Southampton and Queenstown, the differences between men and women are minimal.\n",
    "\n",
    "3. **High Fares and Survival**:\n",
    "   - Passengers with **higher fares** (especially in Cherbourg) had a greater likelihood of survival, possibly associated with their social class.\n",
    "\n",
    "### General Conclusion\n",
    "The **embarkation port** and the **fare amount** seem to influence the **likelihood of survival**, indicating a potential relationship between socioeconomic status and survival."
   ]
  },
  {
   "cell_type": "markdown",
   "metadata": {
    "_cell_guid": "cfac6291-33cc-506e-e548-6cad9408623d",
    "_uuid": "73a9111a8dc2a6b8b6c78ef628b6cae2a63fc33f"
   },
   "source": [
    "<a name=\"Data-Preprocessing\"></a>\n",
    "\n",
    "## 5. Data Preprocessing\n",
    "\n",
    "### Purpose of Feature Elimination\n",
    "\n",
    "When preparing data, we aim to **simplify and optimize** the feature set. There are several reasons why we might choose to remove a column or set of columns:\n",
    "\n",
    "- **Irrelevance for analysis or modeling**:  \n",
    "  If a column does not contain relevant information for our analysis, it can be considered as irrelevant data.\n",
    "\n",
    "- **Redundancy**:  \n",
    "  Some features may provide repeated or derived information from other columns. Keeping redundant data can overload the model and lead to less accurate results.\n",
    "\n",
    "- **Missing data**:  \n",
    "  Columns with too many null values can be problematic. Imputing missing values in columns with many gaps may introduce noise and bias, while removing them reduces this issue.\n",
    "\n",
    "- **Reducing dimensionality**:  \n",
    "  For machine learning algorithms, a high number of features can make the model more complex, less generalizable, and more prone to overfitting. Reducing dimensionality can improve the model's **efficiency** and **accuracy**.\n",
    "\n",
    "### Removal of \"Ticket\" and \"Cabin\"\n",
    "\n",
    "In this specific case, the `Ticket` and `Cabin` columns are removed for the following reasons:\n",
    "\n",
    "- **Ticket**:  \n",
    "  This feature contains a combination of letters and numbers representing a unique identifier for each passenger. However, it is believed to provide little to no information that would help predict variables of interest, such as **survival**.\n",
    "\n",
    "- **Cabin**:  \n",
    "  This column contains the cabin location for each passenger but is highly incomplete in the dataset. With a high percentage of null values, imputing or filling in this data is challenging and could **bias** the results of the analysis. Additionally, the cabin number itself may not be very relevant for survival analysis, especially given the high variability in cabin assignments.\n",
    "\n",
    "---\n",
    "\n",
    "Removing columns like `Ticket` and `Cabin` is an essential step in **data preprocessing**, contributing to:\n",
    "\n",
    "- **Model optimization**: Reducing noise makes the model more efficient and less error-prone.\n",
    "- **Clarity in analysis**: A cleaner dataset facilitates interpretation and visualization of results.\n",
    "- **Reduced complexity**: Fewer columns mean lower computational load, improving algorithm performance."
   ]
  },
  {
   "cell_type": "code",
   "execution_count": 50,
   "metadata": {
    "_cell_guid": "da057efe-88f0-bf49-917b-bb2fec418ed9",
    "_uuid": "e328d9882affedcfc4c167aa5bb1ac132547558c"
   },
   "outputs": [
    {
     "name": "stdout",
     "output_type": "stream",
     "text": [
      "Before (891, 12) (418, 11) (891, 12) (418, 11)\n",
      "After (891, 10) (418, 9) (891, 10) (418, 9)\n"
     ]
    }
   ],
   "source": [
    "# Display the dimensions of the datasets before removing the 'Ticket' and 'Cabin' columns.\n",
    "print(\"Before\", train_df.shape, test_df.shape, combine[0].shape, combine[1].shape)\n",
    "\n",
    "# Remove the 'Ticket' and 'Cabin' columns from the training and testing datasets.\n",
    "train_df = train_df.drop(['Ticket', 'Cabin'], axis=1)\n",
    "test_df = test_df.drop(['Ticket', 'Cabin'], axis=1)\n",
    "\n",
    "# Update the combine list with the modified datasets.\n",
    "combine = [train_df, test_df]\n",
    "\n",
    "# Display the dimensions of the datasets after removing the 'Ticket' and 'Cabin' columns.\n",
    "print(\"After\", train_df.shape, test_df.shape, combine[0].shape, combine[1].shape)"
   ]
  },
  {
   "cell_type": "markdown",
   "metadata": {
    "_cell_guid": "6b3a1216-64b6-7fe2-50bc-e89cc964a41c",
    "_uuid": "21d5c47ee69f8fbef967f6f41d736b5d4eb6596f"
   },
   "source": [
    "### Creating a New Feature from `Name`\n",
    "\n",
    "We aim to analyze whether we can extract useful information from the 'Name' column to create a new feature called 'Title' and check for any direct correlation between these titles and survival, before removing the 'Name' and 'PassengerId' features.\n",
    "\n",
    "**Using Regular Expressions**\n",
    "\n",
    "The pattern **(\\w+\\.)** captures the first word ending with a period within the 'Name' column. The option `expand=False` returns a DataFrame."
   ]
  },
  {
   "cell_type": "code",
   "execution_count": 52,
   "metadata": {
    "_cell_guid": "df7f0cd4-992c-4a79-fb19-bf6f0c024d4b",
    "_uuid": "c916644bd151f3dc8fca900f656d415b4c55e2bc"
   },
   "outputs": [],
   "source": [
    "for dataset in combine:\n",
    "    dataset['Title'] = dataset.Name.str.extract(' ([A-Za-z]+)\\.', expand=False)\n",
    "\n",
    "# Regular Expression: ' ([A-Za-z]+)\\.'\n",
    "\n",
    "  # 'space': The initial space in the expression indicates that there must be a space right before the following content (the title in this case).\n",
    "\n",
    "  # 'A-Z': Matches any uppercase letter, and **'a-z'** matches any lowercase letter. This ensures the title can include both uppercase and lowercase letters.\n",
    "\n",
    "  # '+': Indicates that there must be at least one letter, but there can be more (e.g., \"Mr\", \"Mrs\", \"Dr\").\n",
    "\n",
    "  # '\\.': The escape character '\\.' ensures there is a period at the end. The period is a special character in regular expressions, so we use '\\' to specifically match an actual period.\n",
    "\n",
    "  # 'expand=False': Ensures the extraction result is a Pandas Series, not a DataFrame.\n",
    "\n",
    "  # Finally, words like Mr, Mrs, Dr, etc., will be stored in a new column called 'Title'."
   ]
  },
  {
   "cell_type": "markdown",
   "metadata": {},
   "source": [
    "### Why Use `pd.crosstab()`?\n",
    "\n",
    "The `pd.crosstab()` command is useful for various data analysis and cleaning tasks because:\n",
    "\n",
    "### 1. Explores Relationships Between Categorical Variables\n",
    "By analyzing the frequency of combinations, `pd.crosstab()` facilitates understanding **how different categories relate** to each other within a dataset.\n",
    "\n",
    "### 2. Identifies Patterns and Trends\n",
    "A crosstab allows us to **detect important patterns**, such as the relationship between titles and genders in a passenger dataset.\n",
    "\n",
    "### 3. Verifies Data Quality\n",
    "If unexpected or unusual combinations of values are found, `pd.crosstab()` helps **identify potential errors** in the data that may require cleaning or review. This ensures greater integrity and reliability in the analysis.\n",
    "\n",
    "---\n",
    "\n",
    "In summary, using `pd.crosstab()` not only helps us better understand the dataset but is also essential for improving **data quality** and extracting relevant insights to strengthen our analysis."
   ]
  },
  {
   "cell_type": "code",
   "execution_count": 54,
   "metadata": {},
   "outputs": [
    {
     "data": {
      "text/html": [
       "<div>\n",
       "<style scoped>\n",
       "    .dataframe tbody tr th:only-of-type {\n",
       "        vertical-align: middle;\n",
       "    }\n",
       "\n",
       "    .dataframe tbody tr th {\n",
       "        vertical-align: top;\n",
       "    }\n",
       "\n",
       "    .dataframe thead th {\n",
       "        text-align: right;\n",
       "    }\n",
       "</style>\n",
       "<table border=\"1\" class=\"dataframe\">\n",
       "  <thead>\n",
       "    <tr style=\"text-align: right;\">\n",
       "      <th>Sex</th>\n",
       "      <th>female</th>\n",
       "      <th>male</th>\n",
       "    </tr>\n",
       "    <tr>\n",
       "      <th>Title</th>\n",
       "      <th></th>\n",
       "      <th></th>\n",
       "    </tr>\n",
       "  </thead>\n",
       "  <tbody>\n",
       "    <tr>\n",
       "      <th>Capt</th>\n",
       "      <td>0</td>\n",
       "      <td>1</td>\n",
       "    </tr>\n",
       "    <tr>\n",
       "      <th>Col</th>\n",
       "      <td>0</td>\n",
       "      <td>2</td>\n",
       "    </tr>\n",
       "    <tr>\n",
       "      <th>Countess</th>\n",
       "      <td>1</td>\n",
       "      <td>0</td>\n",
       "    </tr>\n",
       "    <tr>\n",
       "      <th>Don</th>\n",
       "      <td>0</td>\n",
       "      <td>1</td>\n",
       "    </tr>\n",
       "    <tr>\n",
       "      <th>Dr</th>\n",
       "      <td>1</td>\n",
       "      <td>6</td>\n",
       "    </tr>\n",
       "    <tr>\n",
       "      <th>Jonkheer</th>\n",
       "      <td>0</td>\n",
       "      <td>1</td>\n",
       "    </tr>\n",
       "    <tr>\n",
       "      <th>Lady</th>\n",
       "      <td>1</td>\n",
       "      <td>0</td>\n",
       "    </tr>\n",
       "    <tr>\n",
       "      <th>Major</th>\n",
       "      <td>0</td>\n",
       "      <td>2</td>\n",
       "    </tr>\n",
       "    <tr>\n",
       "      <th>Master</th>\n",
       "      <td>0</td>\n",
       "      <td>40</td>\n",
       "    </tr>\n",
       "    <tr>\n",
       "      <th>Miss</th>\n",
       "      <td>182</td>\n",
       "      <td>0</td>\n",
       "    </tr>\n",
       "    <tr>\n",
       "      <th>Mlle</th>\n",
       "      <td>2</td>\n",
       "      <td>0</td>\n",
       "    </tr>\n",
       "    <tr>\n",
       "      <th>Mme</th>\n",
       "      <td>1</td>\n",
       "      <td>0</td>\n",
       "    </tr>\n",
       "    <tr>\n",
       "      <th>Mr</th>\n",
       "      <td>0</td>\n",
       "      <td>517</td>\n",
       "    </tr>\n",
       "    <tr>\n",
       "      <th>Mrs</th>\n",
       "      <td>125</td>\n",
       "      <td>0</td>\n",
       "    </tr>\n",
       "    <tr>\n",
       "      <th>Ms</th>\n",
       "      <td>1</td>\n",
       "      <td>0</td>\n",
       "    </tr>\n",
       "    <tr>\n",
       "      <th>Rev</th>\n",
       "      <td>0</td>\n",
       "      <td>6</td>\n",
       "    </tr>\n",
       "    <tr>\n",
       "      <th>Sir</th>\n",
       "      <td>0</td>\n",
       "      <td>1</td>\n",
       "    </tr>\n",
       "  </tbody>\n",
       "</table>\n",
       "</div>"
      ],
      "text/plain": [
       "Sex       female  male\n",
       "Title                 \n",
       "Capt           0     1\n",
       "Col            0     2\n",
       "Countess       1     0\n",
       "Don            0     1\n",
       "Dr             1     6\n",
       "Jonkheer       0     1\n",
       "Lady           1     0\n",
       "Major          0     2\n",
       "Master         0    40\n",
       "Miss         182     0\n",
       "Mlle           2     0\n",
       "Mme            1     0\n",
       "Mr             0   517\n",
       "Mrs          125     0\n",
       "Ms             1     0\n",
       "Rev            0     6\n",
       "Sir            0     1"
      ]
     },
     "execution_count": 54,
     "metadata": {},
     "output_type": "execute_result"
    }
   ],
   "source": [
    "pd.crosstab(train_df['Title'], train_df['Sex'])\n",
    "\n",
    "# The Pandas 'crosstab' function generates a contingency table (or cross-tabulation) between the variables \n",
    "# 'Title' and 'Sex' in the dataset (train_df or from combine, which includes both DataFrames?).\n",
    "\n",
    "# A contingency table shows the frequency of combinations of values occurring in two or more categorical variables. \n",
    "# In this case, we are analyzing the relationship between the titles extracted from the 'Name' column (such as \"Mr\", \"Mrs\", \"Dr\", etc.) \n",
    "# and the passengers' gender (male or female)."
   ]
  },
  {
   "cell_type": "markdown",
   "metadata": {},
   "source": [
    "### Observations\n",
    "\n",
    "1. **Gender-Specific Titles**:\n",
    "   - **Female**: Titles such as `Countess`, `Miss`, `Mme`, `Mrs`, and `Ms` are exclusively associated with the female gender.\n",
    "   - **Male**: Titles such as `Capt`, `Col`, `Don`, `Jonkheer`, `Major`, `Master`, `Mr`, `Rev`, and `Sir` appear exclusively with the male gender.\n",
    "\n",
    "2. **Relevant Titles for Analysis**:\n",
    "   - **Mr** and **Miss** are the most common titles for each gender, with **517** and **182** occurrences, respectively. This suggests that these titles strongly correlate with passenger gender and could be useful for predictions related to gender or even survival probability.\n",
    "\n",
    "3. **Noble or Rank Titles**:\n",
    "   - Titles such as `Lady`, `Sir`, `Countess`, `Col`, and `Major` indicate specific ranks or statuses. These titles could be indicators of a higher social class, which, in the context of the Titanic, may have implications for survival analysis.\n",
    "\n",
    "4. **Unique Titles**:\n",
    "   - Some titles, such as `Dr`, `Rev`, and `Mme`, are less frequent and appear in only a few cases. Their low frequency suggests they might have limited direct predictive relevance but still add diversity to the `Title` feature.\n",
    "\n",
    "### Conclusion on the New Feature\n",
    "\n",
    "The creation of the `Title` feature captures **valuable information about gender, age, and social status** of the passengers. Therefore, this new feature can enhance the model by adding social and demographic context that was not available in the original dataset variables."
   ]
  },
  {
   "cell_type": "markdown",
   "metadata": {
    "_cell_guid": "908c08a6-3395-19a5-0cd7-13341054012a",
    "_uuid": "f766d512ea5bfe60b5eb7a816f482f2ab688fd2f"
   },
   "source": [
    "### Grouping Titles in the 'Title' Column"
   ]
  },
  {
   "cell_type": "code",
   "execution_count": 57,
   "metadata": {
    "_cell_guid": "553f56d7-002a-ee63-21a4-c0efad10cfe9",
    "_uuid": "b8cd938fba61fb4e226c77521b012f4bb8aa01d0"
   },
   "outputs": [
    {
     "data": {
      "text/html": [
       "<div>\n",
       "<style scoped>\n",
       "    .dataframe tbody tr th:only-of-type {\n",
       "        vertical-align: middle;\n",
       "    }\n",
       "\n",
       "    .dataframe tbody tr th {\n",
       "        vertical-align: top;\n",
       "    }\n",
       "\n",
       "    .dataframe thead th {\n",
       "        text-align: right;\n",
       "    }\n",
       "</style>\n",
       "<table border=\"1\" class=\"dataframe\">\n",
       "  <thead>\n",
       "    <tr style=\"text-align: right;\">\n",
       "      <th></th>\n",
       "      <th>Title</th>\n",
       "      <th>Survived</th>\n",
       "    </tr>\n",
       "  </thead>\n",
       "  <tbody>\n",
       "    <tr>\n",
       "      <th>0</th>\n",
       "      <td>Master</td>\n",
       "      <td>0.575000</td>\n",
       "    </tr>\n",
       "    <tr>\n",
       "      <th>1</th>\n",
       "      <td>Miss</td>\n",
       "      <td>0.702703</td>\n",
       "    </tr>\n",
       "    <tr>\n",
       "      <th>2</th>\n",
       "      <td>Mr</td>\n",
       "      <td>0.156673</td>\n",
       "    </tr>\n",
       "    <tr>\n",
       "      <th>3</th>\n",
       "      <td>Mrs</td>\n",
       "      <td>0.793651</td>\n",
       "    </tr>\n",
       "    <tr>\n",
       "      <th>4</th>\n",
       "      <td>Rare</td>\n",
       "      <td>0.347826</td>\n",
       "    </tr>\n",
       "  </tbody>\n",
       "</table>\n",
       "</div>"
      ],
      "text/plain": [
       "    Title  Survived\n",
       "0  Master  0.575000\n",
       "1    Miss  0.702703\n",
       "2      Mr  0.156673\n",
       "3     Mrs  0.793651\n",
       "4    Rare  0.347826"
      ]
     },
     "execution_count": 57,
     "metadata": {},
     "output_type": "execute_result"
    }
   ],
   "source": [
    "# Grouping titles as 'Rare'\n",
    "for dataset in combine:\n",
    "    dataset['Title'] = dataset['Title'].replace(['Lady', 'Countess','Capt'\n",
    ", 'Col',\\\n",
    " \t'Don', 'Dr', 'Major', 'Rev', 'Sir', 'Jonkheer', 'Dona'], 'Rare')\n",
    "\n",
    "    dataset['Title'] = dataset['Title'].replace('Mlle', 'Miss')\n",
    "    dataset['Title'] = dataset['Title'].replace('Ms', 'Miss')\n",
    "    dataset['Title'] = dataset['Title'].replace('Mme', 'Mrs')\n",
    "    \n",
    "# Calculation of the Average Survival Rate by Title\n",
    "train_df[['Title', 'Survived']].groupby(['Title'], as_index=False).mean()"
   ]
  },
  {
   "cell_type": "markdown",
   "metadata": {},
   "source": [
    "### Conclusions on the Average Survival Rate by Title\n",
    "\n",
    "From the grouping by `Title`, the following conclusions can be drawn regarding the average survival rate:\n",
    "\n",
    "1. **Mrs**: This title has the highest survival rate at **79.36%**, suggesting that married women had a higher likelihood of survival.\n",
    "\n",
    "2. **Miss**: Also shows a high survival rate of **70.27%**, indicating that single or young women also had good chances of survival.\n",
    "\n",
    "3. **Master**: With a survival rate of **57.5%**, this title, commonly associated with children, demonstrates favorable survival probabilities, possibly due to the priority given to children.\n",
    "\n",
    "4. **Rare**: Less common titles have a survival rate of **34.78%**, suggesting that individuals with these titles (generally of high status or specific occupations) had a lower probability of survival compared to other groups.\n",
    "\n",
    "5. **Mr**: With a survival rate of only **15.67%**, adult men have the lowest probability of survival within this grouping.\n",
    "\n",
    "### Summary\n",
    "The survival rate varies significantly by title, indicating that **gender, age, and possibly social status** influenced the chances of survival."
   ]
  },
  {
   "cell_type": "markdown",
   "metadata": {
    "_cell_guid": "6d46be9a-812a-f334-73b9-56ed912c9eca",
    "_uuid": "de245fe76474d46995a5acc31b905b8aaa5893f6"
   },
   "source": [
    "### Transformation of the `Title` Column in the Dataset\n",
    "\n",
    "We aim to transform the `Title` column into numerical values to facilitate processing and modeling.\n",
    "\n",
    "### Main Objective\n",
    "\n",
    "This process assigns numerical values to the different titles (`Mr`, `Miss`, `Mrs`, etc.) in the dataset, enabling the model to interpret this categorical feature quantitatively. The code maps each title to a specific number to normalize these values within the dataset."
   ]
  },
  {
   "cell_type": "code",
   "execution_count": 60,
   "metadata": {
    "_cell_guid": "67444ebc-4d11-bac1-74a6-059133b6e2e8",
    "_uuid": "e805ad52f0514497b67c3726104ba46d361eb92c"
   },
   "outputs": [
    {
     "data": {
      "text/html": [
       "<div>\n",
       "<style scoped>\n",
       "    .dataframe tbody tr th:only-of-type {\n",
       "        vertical-align: middle;\n",
       "    }\n",
       "\n",
       "    .dataframe tbody tr th {\n",
       "        vertical-align: top;\n",
       "    }\n",
       "\n",
       "    .dataframe thead th {\n",
       "        text-align: right;\n",
       "    }\n",
       "</style>\n",
       "<table border=\"1\" class=\"dataframe\">\n",
       "  <thead>\n",
       "    <tr style=\"text-align: right;\">\n",
       "      <th></th>\n",
       "      <th>PassengerId</th>\n",
       "      <th>Survived</th>\n",
       "      <th>Pclass</th>\n",
       "      <th>Name</th>\n",
       "      <th>Sex</th>\n",
       "      <th>Age</th>\n",
       "      <th>SibSp</th>\n",
       "      <th>Parch</th>\n",
       "      <th>Fare</th>\n",
       "      <th>Embarked</th>\n",
       "      <th>Title</th>\n",
       "    </tr>\n",
       "  </thead>\n",
       "  <tbody>\n",
       "    <tr>\n",
       "      <th>0</th>\n",
       "      <td>1</td>\n",
       "      <td>0</td>\n",
       "      <td>3</td>\n",
       "      <td>Braund, Mr. Owen Harris</td>\n",
       "      <td>male</td>\n",
       "      <td>22.0</td>\n",
       "      <td>1</td>\n",
       "      <td>0</td>\n",
       "      <td>7.2500</td>\n",
       "      <td>S</td>\n",
       "      <td>1</td>\n",
       "    </tr>\n",
       "    <tr>\n",
       "      <th>1</th>\n",
       "      <td>2</td>\n",
       "      <td>1</td>\n",
       "      <td>1</td>\n",
       "      <td>Cumings, Mrs. John Bradley (Florence Briggs Th...</td>\n",
       "      <td>female</td>\n",
       "      <td>38.0</td>\n",
       "      <td>1</td>\n",
       "      <td>0</td>\n",
       "      <td>71.2833</td>\n",
       "      <td>C</td>\n",
       "      <td>3</td>\n",
       "    </tr>\n",
       "    <tr>\n",
       "      <th>2</th>\n",
       "      <td>3</td>\n",
       "      <td>1</td>\n",
       "      <td>3</td>\n",
       "      <td>Heikkinen, Miss. Laina</td>\n",
       "      <td>female</td>\n",
       "      <td>26.0</td>\n",
       "      <td>0</td>\n",
       "      <td>0</td>\n",
       "      <td>7.9250</td>\n",
       "      <td>S</td>\n",
       "      <td>2</td>\n",
       "    </tr>\n",
       "    <tr>\n",
       "      <th>3</th>\n",
       "      <td>4</td>\n",
       "      <td>1</td>\n",
       "      <td>1</td>\n",
       "      <td>Futrelle, Mrs. Jacques Heath (Lily May Peel)</td>\n",
       "      <td>female</td>\n",
       "      <td>35.0</td>\n",
       "      <td>1</td>\n",
       "      <td>0</td>\n",
       "      <td>53.1000</td>\n",
       "      <td>S</td>\n",
       "      <td>3</td>\n",
       "    </tr>\n",
       "    <tr>\n",
       "      <th>4</th>\n",
       "      <td>5</td>\n",
       "      <td>0</td>\n",
       "      <td>3</td>\n",
       "      <td>Allen, Mr. William Henry</td>\n",
       "      <td>male</td>\n",
       "      <td>35.0</td>\n",
       "      <td>0</td>\n",
       "      <td>0</td>\n",
       "      <td>8.0500</td>\n",
       "      <td>S</td>\n",
       "      <td>1</td>\n",
       "    </tr>\n",
       "  </tbody>\n",
       "</table>\n",
       "</div>"
      ],
      "text/plain": [
       "   PassengerId  Survived  Pclass  \\\n",
       "0            1         0       3   \n",
       "1            2         1       1   \n",
       "2            3         1       3   \n",
       "3            4         1       1   \n",
       "4            5         0       3   \n",
       "\n",
       "                                                Name     Sex   Age  SibSp  \\\n",
       "0                            Braund, Mr. Owen Harris    male  22.0      1   \n",
       "1  Cumings, Mrs. John Bradley (Florence Briggs Th...  female  38.0      1   \n",
       "2                             Heikkinen, Miss. Laina  female  26.0      0   \n",
       "3       Futrelle, Mrs. Jacques Heath (Lily May Peel)  female  35.0      1   \n",
       "4                           Allen, Mr. William Henry    male  35.0      0   \n",
       "\n",
       "   Parch     Fare Embarked  Title  \n",
       "0      0   7.2500        S      1  \n",
       "1      0  71.2833        C      3  \n",
       "2      0   7.9250        S      2  \n",
       "3      0  53.1000        S      3  \n",
       "4      0   8.0500        S      1  "
      ]
     },
     "execution_count": 60,
     "metadata": {},
     "output_type": "execute_result"
    }
   ],
   "source": [
    "# Mapping to numerical values through the dictionary\n",
    "title_mapping = {\"Mr\": 1, \"Miss\": 2, \"Mrs\": 3, \"Master\": 4, \"Rare\": 5}\n",
    "for dataset in combine:\n",
    "    dataset['Title'] = dataset['Title'].map(title_mapping)\n",
    "    dataset['Title'] = dataset['Title'].fillna(0)\n",
    "\n",
    "train_df.head()"
   ]
  },
  {
   "cell_type": "markdown",
   "metadata": {
    "_cell_guid": "f27bb974-a3d7-07a1-f7e4-876f6da87e62",
    "_uuid": "5fefaa1b37c537dda164c87a757fe705a99815d9"
   },
   "source": [
    "### Removal of the `Name` Column from the DataFrame\n",
    "\n",
    "We can now safely remove the `Name` column from the training and testing datasets. The `PassengerId` column is also unnecessary in the training dataset. These columns are removed because names do not directly impact the analysis, and `PassengerId` is just a unique identifier."
   ]
  },
  {
   "cell_type": "code",
   "execution_count": 62,
   "metadata": {
    "_cell_guid": "9d61dded-5ff0-5018-7580-aecb4ea17506",
    "_uuid": "1da299cf2ffd399fd5b37d74fb40665d16ba5347"
   },
   "outputs": [
    {
     "data": {
      "text/plain": [
       "((891, 9), (418, 9))"
      ]
     },
     "execution_count": 62,
     "metadata": {},
     "output_type": "execute_result"
    }
   ],
   "source": [
    "# Removal of the 'Name' and 'PassengerId' columns from both datasets.\n",
    "train_df = train_df.drop(['Name', 'PassengerId'], axis=1)\n",
    "test_df = test_df.drop(['Name'], axis=1)\n",
    "combine = [train_df, test_df]\n",
    "train_df.shape, test_df.shape"
   ]
  },
  {
   "cell_type": "markdown",
   "metadata": {
    "_cell_guid": "2c8e84bb-196d-bd4a-4df9-f5213561b5d3",
    "_uuid": "a1ac66c79b279d94860e66996d3d8dba801a6d9a"
   },
   "source": [
    "### Conversion of the `Sex` Column to Numerical Values\n",
    "\n",
    "The `Sex` column is transformed into numerical values, which is useful for models to process this categorical information.\n",
    "\n",
    "- **Gender Mapping**:\n",
    "  - The `map()` function is used to convert `female` to `1` and `male` to `0`. This allows the model to interpret the variable quantitatively.\n",
    "  - Alternatively, `replace()` could also be used, serving a similar purpose in this case.\n",
    "\n",
    "- **Conversion to Integer**:\n",
    "  - Using `astype(int)`, the converted values are ensured to be of integer type, optimizing data processing and standardization."
   ]
  },
  {
   "cell_type": "code",
   "execution_count": 64,
   "metadata": {
    "_cell_guid": "c20c1df2-157c-e5a0-3e24-15a828095c96",
    "_uuid": "840498eaee7baaca228499b0a5652da9d4edaf37"
   },
   "outputs": [
    {
     "data": {
      "text/html": [
       "<div>\n",
       "<style scoped>\n",
       "    .dataframe tbody tr th:only-of-type {\n",
       "        vertical-align: middle;\n",
       "    }\n",
       "\n",
       "    .dataframe tbody tr th {\n",
       "        vertical-align: top;\n",
       "    }\n",
       "\n",
       "    .dataframe thead th {\n",
       "        text-align: right;\n",
       "    }\n",
       "</style>\n",
       "<table border=\"1\" class=\"dataframe\">\n",
       "  <thead>\n",
       "    <tr style=\"text-align: right;\">\n",
       "      <th></th>\n",
       "      <th>Survived</th>\n",
       "      <th>Pclass</th>\n",
       "      <th>Sex</th>\n",
       "      <th>Age</th>\n",
       "      <th>SibSp</th>\n",
       "      <th>Parch</th>\n",
       "      <th>Fare</th>\n",
       "      <th>Embarked</th>\n",
       "      <th>Title</th>\n",
       "    </tr>\n",
       "  </thead>\n",
       "  <tbody>\n",
       "    <tr>\n",
       "      <th>0</th>\n",
       "      <td>0</td>\n",
       "      <td>3</td>\n",
       "      <td>0</td>\n",
       "      <td>22.0</td>\n",
       "      <td>1</td>\n",
       "      <td>0</td>\n",
       "      <td>7.2500</td>\n",
       "      <td>S</td>\n",
       "      <td>1</td>\n",
       "    </tr>\n",
       "    <tr>\n",
       "      <th>1</th>\n",
       "      <td>1</td>\n",
       "      <td>1</td>\n",
       "      <td>1</td>\n",
       "      <td>38.0</td>\n",
       "      <td>1</td>\n",
       "      <td>0</td>\n",
       "      <td>71.2833</td>\n",
       "      <td>C</td>\n",
       "      <td>3</td>\n",
       "    </tr>\n",
       "    <tr>\n",
       "      <th>2</th>\n",
       "      <td>1</td>\n",
       "      <td>3</td>\n",
       "      <td>1</td>\n",
       "      <td>26.0</td>\n",
       "      <td>0</td>\n",
       "      <td>0</td>\n",
       "      <td>7.9250</td>\n",
       "      <td>S</td>\n",
       "      <td>2</td>\n",
       "    </tr>\n",
       "    <tr>\n",
       "      <th>3</th>\n",
       "      <td>1</td>\n",
       "      <td>1</td>\n",
       "      <td>1</td>\n",
       "      <td>35.0</td>\n",
       "      <td>1</td>\n",
       "      <td>0</td>\n",
       "      <td>53.1000</td>\n",
       "      <td>S</td>\n",
       "      <td>3</td>\n",
       "    </tr>\n",
       "    <tr>\n",
       "      <th>4</th>\n",
       "      <td>0</td>\n",
       "      <td>3</td>\n",
       "      <td>0</td>\n",
       "      <td>35.0</td>\n",
       "      <td>0</td>\n",
       "      <td>0</td>\n",
       "      <td>8.0500</td>\n",
       "      <td>S</td>\n",
       "      <td>1</td>\n",
       "    </tr>\n",
       "  </tbody>\n",
       "</table>\n",
       "</div>"
      ],
      "text/plain": [
       "   Survived  Pclass  Sex   Age  SibSp  Parch     Fare Embarked  Title\n",
       "0         0       3    0  22.0      1      0   7.2500        S      1\n",
       "1         1       1    1  38.0      1      0  71.2833        C      3\n",
       "2         1       3    1  26.0      0      0   7.9250        S      2\n",
       "3         1       1    1  35.0      1      0  53.1000        S      3\n",
       "4         0       3    0  35.0      0      0   8.0500        S      1"
      ]
     },
     "execution_count": 64,
     "metadata": {},
     "output_type": "execute_result"
    }
   ],
   "source": [
    "for dataset in combine:\n",
    "    dataset['Sex'] = dataset['Sex'].map( {'female': 1, 'male': 0} ).astype(int)\n",
    "    # Also \"replace()\" instead of \"map()\"\n",
    "\n",
    "train_df.head()"
   ]
  },
  {
   "cell_type": "markdown",
   "metadata": {
    "_cell_guid": "d72cb29e-5034-1597-b459-83a9640d3d3a",
    "_uuid": "6da8bfe6c832f4bd2aa1312bdd6b8b4af48a012e"
   },
   "source": [
    "### Visualization of Age Distribution by Class and Gender\n",
    "\n",
    "`FacetGrid` from Seaborn is used to visualize how the age distribution varies in the training dataset (`train_df`), differentiated by class (`Pclass`) and gender (`Sex`). This visualization is helpful for better understanding the structure and patterns within the data.\n",
    "\n",
    "Segmenting by class and gender allows us to observe whether there are specific patterns in passenger age based on these categories. This can help identify relationships between these variables and how they may affect, for instance, survival probability in the Titanic analysis.\n",
    "\n",
    "### Impact on the Machine Learning Model\n",
    "\n",
    "This visualization helps to:\n",
    "- **Detect Patterns**: Identify age differences between genders and classes, which may be relevant for modeling.\n",
    "- **Feature Engineering Decisions**: Inspire the creation of new variables, such as specific age ranges based on class and gender.\n",
    "- **Better Data Interpretation**: Provides insights that can guide preprocessing and feature selection decisions, potentially improving model performance."
   ]
  },
  {
   "cell_type": "code",
   "execution_count": 66,
   "metadata": {
    "_cell_guid": "c311c43d-6554-3b52-8ef8-533ca08b2f68",
    "_uuid": "345038c8dd1bac9a9bc5e2cfee13fcc1f833eee0"
   },
   "outputs": [
    {
     "data": {
      "text/plain": [
       "<seaborn.axisgrid.FacetGrid at 0x15428f23d10>"
      ]
     },
     "execution_count": 66,
     "metadata": {},
     "output_type": "execute_result"
    },
    {
     "data": {
      "image/png": "[encoded data removed]",
      "text/plain": [
       "<Figure size 715.111x660 with 6 Axes>"
      ]
     },
     "metadata": {},
     "output_type": "display_data"
    }
   ],
   "source": [
    "# Distribution of Age by 'PClass' and \"Sex\"\n",
    "grid = sns.FacetGrid(train_df, row='Pclass', col='Sex', height=2.2, aspect=1.6)\n",
    "grid.map(plt.hist, 'Age', alpha=.5, bins=20)\n",
    "grid.add_legend()"
   ]
  },
  {
   "cell_type": "markdown",
   "metadata": {},
   "source": [
    "### Observations and Conclusions on Age Distribution by Class and Gender\n",
    "\n",
    "1. **First Class**:\n",
    "   - Men (`Sex = 0`) and women (`Sex = 1`) have a more balanced age distribution, with a higher concentration in adult ages (20-50 years).\n",
    "\n",
    "2. **Second Class**:\n",
    "   - The distribution is broader, but men still dominate in the 20-40 age range.\n",
    "   - Women also show a higher concentration in this age range, though fewer in number compared to first class.\n",
    "\n",
    "3. **Third Class**:\n",
    "   - A younger population predominates, especially among men, with a significant peak in ages under 20.\n",
    "   - The number of women is lower in comparison, but they are also concentrated in younger ages.\n",
    "\n",
    "### Conclusions\n",
    "\n",
    "- Economic class appears to influence passenger age, particularly in third class, where most passengers are younger.\n",
    "- This pattern could be relevant for the machine learning model, as the combination of class, gender, and age may impact variables such as survival probability."
   ]
  },
  {
   "cell_type": "markdown",
   "metadata": {
    "_cell_guid": "a4f166f9-f5f9-1819-66c3-d89dd5b0d8ff",
    "_uuid": "6b22ac53d95c7979d5f4580bd5fd29d27155c347"
   },
   "source": [
    "### Prepare an Empty Array for Estimated Age Values\n",
    "\n",
    "We will start by preparing an empty array to hold the estimated \"Age\" values based on combinations of \"Pclass\" (Class) and \"Gender\". This means that for each combination of class and gender, we will calculate and store an estimated age value.\n",
    "\n",
    "This approach allows us to make more accurate assumptions about passenger ages by considering correlated features that may influence age, such as the class they traveled in and their gender."
   ]
  },
  {
   "cell_type": "markdown",
   "metadata": {},
   "source": [
    "### Initialization of the `guess_ages` Matrix for Age Imputation\n",
    "\n",
    "A matrix called `guess_ages` is initialized with dimensions `(2,3)`, where each cell contains zeros. This matrix will be used to store estimated age values based on passenger categories such as gender and class.\n",
    "\n",
    "### Purpose\n",
    "\n",
    "The `guess_ages` matrix is used to record average or estimated age values for specific groups (gender and class), enabling more accurate imputation of missing ages by considering relevant features.\n",
    "\n",
    "### Outcome\n",
    "\n",
    "It improves data quality without introducing significant biases by estimating ages in a categorized manner. This results in a more complete and prepared dataset for subsequent modeling."
   ]
  },
  {
   "cell_type": "code",
   "execution_count": 70,
   "metadata": {
    "_cell_guid": "9299523c-dcf1-fb00-e52f-e2fb860a3920",
    "_uuid": "24a0971daa4cbc3aa700bae42e68c17ce9f3a6e2"
   },
   "outputs": [
    {
     "data": {
      "text/plain": [
       "array([[0., 0., 0.],\n",
       "       [0., 0., 0.]])"
      ]
     },
     "execution_count": 70,
     "metadata": {},
     "output_type": "execute_result"
    }
   ],
   "source": [
    "#Empty array \n",
    "guess_ages = np.zeros((2,3))\n",
    "guess_ages"
   ]
  },
  {
   "cell_type": "markdown",
   "metadata": {},
   "source": [
    "### Imputation of Missing Ages Based on Gender and Class\n",
    "\n",
    "Missing values in the `Age` column of the combined datasets are imputed based on the median age according to the passengers' gender (`Sex`) and class (`Pclass`).\n",
    "\n",
    "### Process Details:\n",
    "\n",
    "1. **Median Calculation**:\n",
    "   - For each combination of gender and class, the median age is calculated using non-null values in the `Age` column. The median is preferred over the mean due to its robustness against outliers.\n",
    "\n",
    "2. **Age Imputation**:\n",
    "   - Missing ages are filled with the median value calculated for the corresponding group, rounding values to multiples of 0.5 for greater consistency.\n",
    "\n",
    "3. **Conversion to Integer**:\n",
    "   - The `Age` column is converted to integer type for a more uniform and manageable format."
   ]
  },
  {
   "cell_type": "code",
   "execution_count": 72,
   "metadata": {
    "_cell_guid": "a4015dfa-a0ab-65bc-0cbe-efecf1eb2569",
    "_uuid": "31198f0ad0dbbb74290ebe135abffa994b8f58f3"
   },
   "outputs": [
    {
     "data": {
      "text/html": [
       "<div>\n",
       "<style scoped>\n",
       "    .dataframe tbody tr th:only-of-type {\n",
       "        vertical-align: middle;\n",
       "    }\n",
       "\n",
       "    .dataframe tbody tr th {\n",
       "        vertical-align: top;\n",
       "    }\n",
       "\n",
       "    .dataframe thead th {\n",
       "        text-align: right;\n",
       "    }\n",
       "</style>\n",
       "<table border=\"1\" class=\"dataframe\">\n",
       "  <thead>\n",
       "    <tr style=\"text-align: right;\">\n",
       "      <th></th>\n",
       "      <th>Survived</th>\n",
       "      <th>Pclass</th>\n",
       "      <th>Sex</th>\n",
       "      <th>Age</th>\n",
       "      <th>SibSp</th>\n",
       "      <th>Parch</th>\n",
       "      <th>Fare</th>\n",
       "      <th>Embarked</th>\n",
       "      <th>Title</th>\n",
       "    </tr>\n",
       "  </thead>\n",
       "  <tbody>\n",
       "    <tr>\n",
       "      <th>0</th>\n",
       "      <td>0</td>\n",
       "      <td>3</td>\n",
       "      <td>0</td>\n",
       "      <td>22</td>\n",
       "      <td>1</td>\n",
       "      <td>0</td>\n",
       "      <td>7.2500</td>\n",
       "      <td>S</td>\n",
       "      <td>1</td>\n",
       "    </tr>\n",
       "    <tr>\n",
       "      <th>1</th>\n",
       "      <td>1</td>\n",
       "      <td>1</td>\n",
       "      <td>1</td>\n",
       "      <td>38</td>\n",
       "      <td>1</td>\n",
       "      <td>0</td>\n",
       "      <td>71.2833</td>\n",
       "      <td>C</td>\n",
       "      <td>3</td>\n",
       "    </tr>\n",
       "    <tr>\n",
       "      <th>2</th>\n",
       "      <td>1</td>\n",
       "      <td>3</td>\n",
       "      <td>1</td>\n",
       "      <td>26</td>\n",
       "      <td>0</td>\n",
       "      <td>0</td>\n",
       "      <td>7.9250</td>\n",
       "      <td>S</td>\n",
       "      <td>2</td>\n",
       "    </tr>\n",
       "    <tr>\n",
       "      <th>3</th>\n",
       "      <td>1</td>\n",
       "      <td>1</td>\n",
       "      <td>1</td>\n",
       "      <td>35</td>\n",
       "      <td>1</td>\n",
       "      <td>0</td>\n",
       "      <td>53.1000</td>\n",
       "      <td>S</td>\n",
       "      <td>3</td>\n",
       "    </tr>\n",
       "    <tr>\n",
       "      <th>4</th>\n",
       "      <td>0</td>\n",
       "      <td>3</td>\n",
       "      <td>0</td>\n",
       "      <td>35</td>\n",
       "      <td>0</td>\n",
       "      <td>0</td>\n",
       "      <td>8.0500</td>\n",
       "      <td>S</td>\n",
       "      <td>1</td>\n",
       "    </tr>\n",
       "  </tbody>\n",
       "</table>\n",
       "</div>"
      ],
      "text/plain": [
       "   Survived  Pclass  Sex  Age  SibSp  Parch     Fare Embarked  Title\n",
       "0         0       3    0   22      1      0   7.2500        S      1\n",
       "1         1       1    1   38      1      0  71.2833        C      3\n",
       "2         1       3    1   26      0      0   7.9250        S      2\n",
       "3         1       1    1   35      1      0  53.1000        S      3\n",
       "4         0       3    0   35      0      0   8.0500        S      1"
      ]
     },
     "execution_count": 72,
     "metadata": {},
     "output_type": "execute_result"
    }
   ],
   "source": [
    "for dataset in combine:\n",
    "    for i in range(0, 2):\n",
    "        for j in range(0, 3):\n",
    "            guess_df = dataset[(dataset['Sex'] == i) & (dataset['Pclass'] == j+1)]['Age'].dropna()\n",
    "  \n",
    "            \"\"\" The median of Age is used because it is less sensitive to outliers compared to the mean.\"\"\"\n",
    "            age_guess = guess_df.median()\n",
    "\n",
    "            \"\"\" Rounding through normalization to make the age a multiple of 0.5 \"\"\"\n",
    "            guess_ages[i,j] = int( age_guess/0.5 + 0.5 ) * 0.5\n",
    "            \n",
    "    for i in range(0, 2):\n",
    "        for j in range(0, 3):         \n",
    "            dataset.loc[ (dataset.Age.isnull()) & (dataset.Sex == i) & (dataset.Pclass == j+1),\\\n",
    "                    'Age'] = guess_ages[i,j]\n",
    "\n",
    "    \"\"\"\n",
    "    Conversion of Age to integer.\n",
    "    If the Age column previously contained values like [22.5, 33.0, 18.0], after executing the following line, Age will contain [22, 33, 18].\n",
    "    \"\"\"\n",
    "    dataset['Age'] = dataset['Age'].astype(int)\n",
    "\n",
    "train_df.head()"
   ]
  },
  {
   "cell_type": "markdown",
   "metadata": {},
   "source": [
    "### Conclusions\n",
    "\n",
    "This imputation improves data integrity and allows the machine learning model to work with a more complete dataset, helping to avoid issues related to missing values."
   ]
  },
  {
   "cell_type": "markdown",
   "metadata": {
    "_cell_guid": "dbe0a8bf-40bc-c581-e10e-76f07b3b71d4",
    "_uuid": "e7c52b44b703f28e4b6f4ddba67ab65f40274550"
   },
   "source": [
    "### Creation of the `AgeBand` Column and Survival Analysis by Age Group\n",
    "\n",
    "A new column called `AgeBand` is added to the training dataset, classifying passengers' ages into five equal-sized intervals. An analysis is then conducted to observe the average survival rate for each of these intervals.\n",
    "\n",
    "1. **Creation of the `AgeBand` Column**:\n",
    "   - The `pd.cut()` function is used to divide the `Age` column into five bands or age ranges.\n",
    "   - This new column categorizes passengers into age groups, making it easier to perform a comparative analysis of survival rates across different ages.\n",
    "\n",
    "2. **Survival Analysis**:\n",
    "   - The dataset is grouped by the `AgeBand` column, and the average survival rate is calculated for each group.\n",
    "   - The `groupby()` function is used to obtain grouped statistics, and `sort_values()` organizes the results in ascending order by age range."
   ]
  },
  {
   "cell_type": "code",
   "execution_count": 75,
   "metadata": {
    "_cell_guid": "725d1c84-6323-9d70-5812-baf9994d3aa1",
    "_uuid": "5c8b4cbb302f439ef0d6278dcfbdafd952675353"
   },
   "outputs": [
    {
     "name": "stderr",
     "output_type": "stream",
     "text": [
      "C:\\Users\\mechi\\AppData\\Local\\Temp\\ipykernel_16884\\3020099063.py:10: FutureWarning: The default of observed=False is deprecated and will be changed to True in a future version of pandas. Pass observed=False to retain current behavior or observed=True to adopt the future default and silence this warning.\n",
      "  train_df[['AgeBand', 'Survived']].groupby(['AgeBand'], as_index=False).mean().sort_values(by='AgeBand', ascending=True)\n"
     ]
    },
    {
     "data": {
      "text/html": [
       "<div>\n",
       "<style scoped>\n",
       "    .dataframe tbody tr th:only-of-type {\n",
       "        vertical-align: middle;\n",
       "    }\n",
       "\n",
       "    .dataframe tbody tr th {\n",
       "        vertical-align: top;\n",
       "    }\n",
       "\n",
       "    .dataframe thead th {\n",
       "        text-align: right;\n",
       "    }\n",
       "</style>\n",
       "<table border=\"1\" class=\"dataframe\">\n",
       "  <thead>\n",
       "    <tr style=\"text-align: right;\">\n",
       "      <th></th>\n",
       "      <th>AgeBand</th>\n",
       "      <th>Survived</th>\n",
       "    </tr>\n",
       "  </thead>\n",
       "  <tbody>\n",
       "    <tr>\n",
       "      <th>0</th>\n",
       "      <td>(-0.08, 16.0]</td>\n",
       "      <td>0.550000</td>\n",
       "    </tr>\n",
       "    <tr>\n",
       "      <th>1</th>\n",
       "      <td>(16.0, 32.0]</td>\n",
       "      <td>0.337374</td>\n",
       "    </tr>\n",
       "    <tr>\n",
       "      <th>2</th>\n",
       "      <td>(32.0, 48.0]</td>\n",
       "      <td>0.412037</td>\n",
       "    </tr>\n",
       "    <tr>\n",
       "      <th>3</th>\n",
       "      <td>(48.0, 64.0]</td>\n",
       "      <td>0.434783</td>\n",
       "    </tr>\n",
       "    <tr>\n",
       "      <th>4</th>\n",
       "      <td>(64.0, 80.0]</td>\n",
       "      <td>0.090909</td>\n",
       "    </tr>\n",
       "  </tbody>\n",
       "</table>\n",
       "</div>"
      ],
      "text/plain": [
       "         AgeBand  Survived\n",
       "0  (-0.08, 16.0]  0.550000\n",
       "1   (16.0, 32.0]  0.337374\n",
       "2   (32.0, 48.0]  0.412037\n",
       "3   (48.0, 64.0]  0.434783\n",
       "4   (64.0, 80.0]  0.090909"
      ]
     },
     "execution_count": 75,
     "metadata": {},
     "output_type": "execute_result"
    }
   ],
   "source": [
    "# The 1st Line:\n",
    "# Creates a new column called AgeBand in the train_df DataFrame. This column groups passengers' ages into 5 equal-sized ranges (or \"bands\") using the pd.cut() function.\n",
    "\n",
    "# The 2nd Line:\n",
    "# Groups the data by age ranges (AgeBand).\n",
    "# Calculates the mean of the Survived column for each age range (NOTE: MEAN OF SURVIVED, THE REMAINING VARIABLE AFTER \"groupby\").\n",
    "# Sorts the results in ascending order by age range.\n",
    "\n",
    "train_df['AgeBand'] = pd.cut(train_df['Age'], 5)\n",
    "train_df[['AgeBand', 'Survived']].groupby(['AgeBand'], as_index=False).mean().sort_values(by='AgeBand', ascending=True)"
   ]
  },
  {
   "cell_type": "markdown",
   "metadata": {},
   "source": [
    "### Key Findings from the Age Band Analysis\n",
    "\n",
    "1. **Age Group 0-16 Years**:\n",
    "   - Has the highest survival rate (55.0%). This suggests that younger passengers had a greater chance of survival, likely due to evacuation priorities.\n",
    "\n",
    "2. **Age Group 64-80 Years**:\n",
    "   - Shows the lowest survival rate (9.1%). Older individuals faced greater challenges in surviving, possibly due to physical limitations and lower rescue priorities.\n",
    "\n",
    "3. **Age Group 16-32 Years**:\n",
    "   - Has a relatively low survival rate (33.7%). This group, which includes many young adults, shows a lower survival probability compared to children.\n",
    "\n",
    "4. **Intermediate Groups (32-64 Years)**:\n",
    "   - Survival rates are moderate, with slight variations. The 48-64 age range (43.5%) has a higher survival rate than the 32-48 range (41.2%).\n",
    "\n",
    "### Conclusion\n",
    "\n",
    "The analysis reveals that age is a significant factor in passenger survival. Younger passengers have clear advantages in survival probabilities, while older passengers have the lowest survival rates. These observations can inform the creation of new age-based features for predictive models."
   ]
  },
  {
   "cell_type": "markdown",
   "metadata": {
    "_cell_guid": "ba4be3a0-e524-9c57-fbec-c8ecc5cde5c6",
    "_uuid": "856392dd415ac14ab74a885a37d068fc7a58f3a5"
   },
   "source": [
    "### Mapping `Age` to Numerical Features\n",
    "\n",
    "The `Age` column in the dataset is classified into numerical features based on predefined age intervals from the previous lines:\n",
    "\n",
    "- Age ≤ 16 is assigned to category `0`.\n",
    "- Age between 17 and 32 is assigned to category `1`.\n",
    "- Age between 33 and 48 is assigned to category `2`.\n",
    "- Age between 49 and 64 is assigned to category `3`.\n",
    "- Age > 64 remains without explicit modification in the code.\n",
    "\n",
    "### Purpose\n",
    "\n",
    "The purpose of this transformation is to convert the `Age` variable into a numerically encoded categorical variable, simplifying its use in models. This approach can enhance the model's ability to identify patterns related to age by representing age ranges in a more manageable and comparable format."
   ]
  },
  {
   "cell_type": "code",
   "execution_count": 78,
   "metadata": {
    "_cell_guid": "797b986d-2c45-a9ee-e5b5-088de817c8b2",
    "_uuid": "ee13831345f389db407c178f66c19cc8331445b0"
   },
   "outputs": [
    {
     "data": {
      "text/html": [
       "<div>\n",
       "<style scoped>\n",
       "    .dataframe tbody tr th:only-of-type {\n",
       "        vertical-align: middle;\n",
       "    }\n",
       "\n",
       "    .dataframe tbody tr th {\n",
       "        vertical-align: top;\n",
       "    }\n",
       "\n",
       "    .dataframe thead th {\n",
       "        text-align: right;\n",
       "    }\n",
       "</style>\n",
       "<table border=\"1\" class=\"dataframe\">\n",
       "  <thead>\n",
       "    <tr style=\"text-align: right;\">\n",
       "      <th></th>\n",
       "      <th>Survived</th>\n",
       "      <th>Pclass</th>\n",
       "      <th>Sex</th>\n",
       "      <th>Age</th>\n",
       "      <th>SibSp</th>\n",
       "      <th>Parch</th>\n",
       "      <th>Fare</th>\n",
       "      <th>Embarked</th>\n",
       "      <th>Title</th>\n",
       "      <th>AgeBand</th>\n",
       "    </tr>\n",
       "  </thead>\n",
       "  <tbody>\n",
       "    <tr>\n",
       "      <th>0</th>\n",
       "      <td>0</td>\n",
       "      <td>3</td>\n",
       "      <td>0</td>\n",
       "      <td>1</td>\n",
       "      <td>1</td>\n",
       "      <td>0</td>\n",
       "      <td>7.2500</td>\n",
       "      <td>S</td>\n",
       "      <td>1</td>\n",
       "      <td>(16.0, 32.0]</td>\n",
       "    </tr>\n",
       "    <tr>\n",
       "      <th>1</th>\n",
       "      <td>1</td>\n",
       "      <td>1</td>\n",
       "      <td>1</td>\n",
       "      <td>2</td>\n",
       "      <td>1</td>\n",
       "      <td>0</td>\n",
       "      <td>71.2833</td>\n",
       "      <td>C</td>\n",
       "      <td>3</td>\n",
       "      <td>(32.0, 48.0]</td>\n",
       "    </tr>\n",
       "    <tr>\n",
       "      <th>2</th>\n",
       "      <td>1</td>\n",
       "      <td>3</td>\n",
       "      <td>1</td>\n",
       "      <td>1</td>\n",
       "      <td>0</td>\n",
       "      <td>0</td>\n",
       "      <td>7.9250</td>\n",
       "      <td>S</td>\n",
       "      <td>2</td>\n",
       "      <td>(16.0, 32.0]</td>\n",
       "    </tr>\n",
       "    <tr>\n",
       "      <th>3</th>\n",
       "      <td>1</td>\n",
       "      <td>1</td>\n",
       "      <td>1</td>\n",
       "      <td>2</td>\n",
       "      <td>1</td>\n",
       "      <td>0</td>\n",
       "      <td>53.1000</td>\n",
       "      <td>S</td>\n",
       "      <td>3</td>\n",
       "      <td>(32.0, 48.0]</td>\n",
       "    </tr>\n",
       "    <tr>\n",
       "      <th>4</th>\n",
       "      <td>0</td>\n",
       "      <td>3</td>\n",
       "      <td>0</td>\n",
       "      <td>2</td>\n",
       "      <td>0</td>\n",
       "      <td>0</td>\n",
       "      <td>8.0500</td>\n",
       "      <td>S</td>\n",
       "      <td>1</td>\n",
       "      <td>(32.0, 48.0]</td>\n",
       "    </tr>\n",
       "  </tbody>\n",
       "</table>\n",
       "</div>"
      ],
      "text/plain": [
       "   Survived  Pclass  Sex  Age  SibSp  Parch     Fare Embarked  Title  \\\n",
       "0         0       3    0    1      1      0   7.2500        S      1   \n",
       "1         1       1    1    2      1      0  71.2833        C      3   \n",
       "2         1       3    1    1      0      0   7.9250        S      2   \n",
       "3         1       1    1    2      1      0  53.1000        S      3   \n",
       "4         0       3    0    2      0      0   8.0500        S      1   \n",
       "\n",
       "        AgeBand  \n",
       "0  (16.0, 32.0]  \n",
       "1  (32.0, 48.0]  \n",
       "2  (16.0, 32.0]  \n",
       "3  (32.0, 48.0]  \n",
       "4  (32.0, 48.0]  "
      ]
     },
     "execution_count": 78,
     "metadata": {},
     "output_type": "execute_result"
    }
   ],
   "source": [
    "# Classify the Age column in the dataset into numerical features based on predefined age intervals from the previous lines.\n",
    "for dataset in combine:    \n",
    "    dataset.loc[ dataset['Age'] <= 16, 'Age'] = 0\n",
    "    dataset.loc[(dataset['Age'] > 16) & (dataset['Age'] <= 32), 'Age'] = 1\n",
    "    dataset.loc[(dataset['Age'] > 32) & (dataset['Age'] <= 48), 'Age'] = 2\n",
    "    dataset.loc[(dataset['Age'] > 48) & (dataset['Age'] <= 64), 'Age'] = 3\n",
    "    dataset.loc[ dataset['Age'] > 64, 'Age']\n",
    "train_df.head()\n",
    "# Also \"combine[1].head()\""
   ]
  },
  {
   "cell_type": "markdown",
   "metadata": {},
   "source": [
    "### Conclusions on Mapping to Numerical Features\n",
    "\n",
    "This mapping allows the `Age` variable to be more easily interpreted by machine learning models, enhancing the identification of patterns associated with age. Additionally, using numerical features simplifies data processing and the creation of predictive models."
   ]
  },
  {
   "cell_type": "markdown",
   "metadata": {
    "_cell_guid": "004568b6-dd9a-ff89-43d5-13d4e9370b1d",
    "_uuid": "8e3fbc95e0fd6600e28347567416d3f0d77a24cc"
   },
   "source": [
    "### Code Explanation\n",
    "\n",
    "We will remove the `AgeBand` column from the training dataset (`train_df`) and recombine `train_df` and `test_df` into the `combine` list to apply future processes simultaneously to both datasets."
   ]
  },
  {
   "cell_type": "code",
   "execution_count": 81,
   "metadata": {
    "_cell_guid": "875e55d4-51b0-5061-b72c-8a23946133a3",
    "_uuid": "1ea01ccc4a24e8951556d97c990aa0136da19721"
   },
   "outputs": [
    {
     "data": {
      "text/html": [
       "<div>\n",
       "<style scoped>\n",
       "    .dataframe tbody tr th:only-of-type {\n",
       "        vertical-align: middle;\n",
       "    }\n",
       "\n",
       "    .dataframe tbody tr th {\n",
       "        vertical-align: top;\n",
       "    }\n",
       "\n",
       "    .dataframe thead th {\n",
       "        text-align: right;\n",
       "    }\n",
       "</style>\n",
       "<table border=\"1\" class=\"dataframe\">\n",
       "  <thead>\n",
       "    <tr style=\"text-align: right;\">\n",
       "      <th></th>\n",
       "      <th>Survived</th>\n",
       "      <th>Pclass</th>\n",
       "      <th>Sex</th>\n",
       "      <th>Age</th>\n",
       "      <th>SibSp</th>\n",
       "      <th>Parch</th>\n",
       "      <th>Fare</th>\n",
       "      <th>Embarked</th>\n",
       "      <th>Title</th>\n",
       "    </tr>\n",
       "  </thead>\n",
       "  <tbody>\n",
       "    <tr>\n",
       "      <th>0</th>\n",
       "      <td>0</td>\n",
       "      <td>3</td>\n",
       "      <td>0</td>\n",
       "      <td>1</td>\n",
       "      <td>1</td>\n",
       "      <td>0</td>\n",
       "      <td>7.2500</td>\n",
       "      <td>S</td>\n",
       "      <td>1</td>\n",
       "    </tr>\n",
       "    <tr>\n",
       "      <th>1</th>\n",
       "      <td>1</td>\n",
       "      <td>1</td>\n",
       "      <td>1</td>\n",
       "      <td>2</td>\n",
       "      <td>1</td>\n",
       "      <td>0</td>\n",
       "      <td>71.2833</td>\n",
       "      <td>C</td>\n",
       "      <td>3</td>\n",
       "    </tr>\n",
       "    <tr>\n",
       "      <th>2</th>\n",
       "      <td>1</td>\n",
       "      <td>3</td>\n",
       "      <td>1</td>\n",
       "      <td>1</td>\n",
       "      <td>0</td>\n",
       "      <td>0</td>\n",
       "      <td>7.9250</td>\n",
       "      <td>S</td>\n",
       "      <td>2</td>\n",
       "    </tr>\n",
       "    <tr>\n",
       "      <th>3</th>\n",
       "      <td>1</td>\n",
       "      <td>1</td>\n",
       "      <td>1</td>\n",
       "      <td>2</td>\n",
       "      <td>1</td>\n",
       "      <td>0</td>\n",
       "      <td>53.1000</td>\n",
       "      <td>S</td>\n",
       "      <td>3</td>\n",
       "    </tr>\n",
       "    <tr>\n",
       "      <th>4</th>\n",
       "      <td>0</td>\n",
       "      <td>3</td>\n",
       "      <td>0</td>\n",
       "      <td>2</td>\n",
       "      <td>0</td>\n",
       "      <td>0</td>\n",
       "      <td>8.0500</td>\n",
       "      <td>S</td>\n",
       "      <td>1</td>\n",
       "    </tr>\n",
       "  </tbody>\n",
       "</table>\n",
       "</div>"
      ],
      "text/plain": [
       "   Survived  Pclass  Sex  Age  SibSp  Parch     Fare Embarked  Title\n",
       "0         0       3    0    1      1      0   7.2500        S      1\n",
       "1         1       1    1    2      1      0  71.2833        C      3\n",
       "2         1       3    1    1      0      0   7.9250        S      2\n",
       "3         1       1    1    2      1      0  53.1000        S      3\n",
       "4         0       3    0    2      0      0   8.0500        S      1"
      ]
     },
     "execution_count": 81,
     "metadata": {},
     "output_type": "execute_result"
    }
   ],
   "source": [
    "train_df = train_df.drop(['AgeBand'], axis=1)\n",
    "combine = [train_df, test_df]\n",
    "train_df.head()"
   ]
  },
  {
   "cell_type": "markdown",
   "metadata": {
    "_cell_guid": "1c237b76-d7ac-098f-0156-480a838a64a9",
    "_uuid": "e3d4a2040c053fbd0486c8cfc4fec3224bd3ebb3"
   },
   "source": [
    "### Creation of the `FamilySize` Column and Survival Analysis\n",
    "\n",
    "A new column `FamilySize` is created to represent the family size of each passenger by summing the `SibSp` (siblings/spouse) and `Parch` (parents/children) columns, plus one to include the passenger themselves. The goal is to analyze how family size influences the survival rate, enabling the identification of patterns related to survival in family groups."
   ]
  },
  {
   "cell_type": "code",
   "execution_count": 83,
   "metadata": {
    "_cell_guid": "7e6c04ed-cfaa-3139-4378-574fd095d6ba",
    "_uuid": "33d1236ce4a8ab888b9fac2d5af1c78d174b32c7"
   },
   "outputs": [
    {
     "data": {
      "text/html": [
       "<div>\n",
       "<style scoped>\n",
       "    .dataframe tbody tr th:only-of-type {\n",
       "        vertical-align: middle;\n",
       "    }\n",
       "\n",
       "    .dataframe tbody tr th {\n",
       "        vertical-align: top;\n",
       "    }\n",
       "\n",
       "    .dataframe thead th {\n",
       "        text-align: right;\n",
       "    }\n",
       "</style>\n",
       "<table border=\"1\" class=\"dataframe\">\n",
       "  <thead>\n",
       "    <tr style=\"text-align: right;\">\n",
       "      <th></th>\n",
       "      <th>FamilySize</th>\n",
       "      <th>Survived</th>\n",
       "    </tr>\n",
       "  </thead>\n",
       "  <tbody>\n",
       "    <tr>\n",
       "      <th>3</th>\n",
       "      <td>4</td>\n",
       "      <td>0.724138</td>\n",
       "    </tr>\n",
       "    <tr>\n",
       "      <th>2</th>\n",
       "      <td>3</td>\n",
       "      <td>0.578431</td>\n",
       "    </tr>\n",
       "    <tr>\n",
       "      <th>1</th>\n",
       "      <td>2</td>\n",
       "      <td>0.552795</td>\n",
       "    </tr>\n",
       "    <tr>\n",
       "      <th>6</th>\n",
       "      <td>7</td>\n",
       "      <td>0.333333</td>\n",
       "    </tr>\n",
       "    <tr>\n",
       "      <th>0</th>\n",
       "      <td>1</td>\n",
       "      <td>0.303538</td>\n",
       "    </tr>\n",
       "    <tr>\n",
       "      <th>4</th>\n",
       "      <td>5</td>\n",
       "      <td>0.200000</td>\n",
       "    </tr>\n",
       "    <tr>\n",
       "      <th>5</th>\n",
       "      <td>6</td>\n",
       "      <td>0.136364</td>\n",
       "    </tr>\n",
       "    <tr>\n",
       "      <th>7</th>\n",
       "      <td>8</td>\n",
       "      <td>0.000000</td>\n",
       "    </tr>\n",
       "    <tr>\n",
       "      <th>8</th>\n",
       "      <td>11</td>\n",
       "      <td>0.000000</td>\n",
       "    </tr>\n",
       "  </tbody>\n",
       "</table>\n",
       "</div>"
      ],
      "text/plain": [
       "   FamilySize  Survived\n",
       "3           4  0.724138\n",
       "2           3  0.578431\n",
       "1           2  0.552795\n",
       "6           7  0.333333\n",
       "0           1  0.303538\n",
       "4           5  0.200000\n",
       "5           6  0.136364\n",
       "7           8  0.000000\n",
       "8          11  0.000000"
      ]
     },
     "execution_count": 83,
     "metadata": {},
     "output_type": "execute_result"
    }
   ],
   "source": [
    "for dataset in combine:\n",
    "    dataset['FamilySize'] = dataset['SibSp'] + dataset['Parch'] + 1\n",
    "# The +1 is added to include the passenger themselves in the family count.\n",
    "\n",
    "train_df[['FamilySize', 'Survived']].groupby(['FamilySize'], as_index=False).mean().sort_values(by='Survived', ascending=False)"
   ]
  },
  {
   "cell_type": "markdown",
   "metadata": {},
   "source": [
    "### Conclusions on `FamilySize` and Survival Analysis\n",
    "\n",
    "The results show that passengers with a family size between 2 and 4 have higher survival rates, while those with very large families (≥5) or no family members (1) have significantly lower survival rates. This suggests that a moderate family size may have positively influenced survival, possibly due to mutual support during evacuation."
   ]
  },
  {
   "cell_type": "markdown",
   "metadata": {
    "_cell_guid": "842188e6-acf8-2476-ccec-9e3451e4fa86",
    "_uuid": "67f8e4474cd1ecf4261c153ce8b40ea23cf659e4"
   },
   "source": [
    "### Creation of the `IsAlone` Column and Survival Analysis\n",
    "\n",
    "A new column called `IsAlone` is introduced, indicating whether a passenger was traveling alone (`1`) or not (`0`). The goal is to analyze how traveling alone affects the survival rate, identifying whether being alone negatively impacts the chances of survival."
   ]
  },
  {
   "cell_type": "code",
   "execution_count": 86,
   "metadata": {
    "_cell_guid": "5c778c69-a9ae-1b6b-44fe-a0898d07be7a",
    "_uuid": "3b8db81cc3513b088c6bcd9cd1938156fe77992f"
   },
   "outputs": [
    {
     "data": {
      "text/html": [
       "<div>\n",
       "<style scoped>\n",
       "    .dataframe tbody tr th:only-of-type {\n",
       "        vertical-align: middle;\n",
       "    }\n",
       "\n",
       "    .dataframe tbody tr th {\n",
       "        vertical-align: top;\n",
       "    }\n",
       "\n",
       "    .dataframe thead th {\n",
       "        text-align: right;\n",
       "    }\n",
       "</style>\n",
       "<table border=\"1\" class=\"dataframe\">\n",
       "  <thead>\n",
       "    <tr style=\"text-align: right;\">\n",
       "      <th></th>\n",
       "      <th>IsAlone</th>\n",
       "      <th>Survived</th>\n",
       "    </tr>\n",
       "  </thead>\n",
       "  <tbody>\n",
       "    <tr>\n",
       "      <th>0</th>\n",
       "      <td>0</td>\n",
       "      <td>0.505650</td>\n",
       "    </tr>\n",
       "    <tr>\n",
       "      <th>1</th>\n",
       "      <td>1</td>\n",
       "      <td>0.303538</td>\n",
       "    </tr>\n",
       "  </tbody>\n",
       "</table>\n",
       "</div>"
      ],
      "text/plain": [
       "   IsAlone  Survived\n",
       "0        0  0.505650\n",
       "1        1  0.303538"
      ]
     },
     "execution_count": 86,
     "metadata": {},
     "output_type": "execute_result"
    }
   ],
   "source": [
    "for dataset in combine:\n",
    "    dataset['IsAlone'] = 0\n",
    "    dataset.loc[dataset['FamilySize'] == 1, 'IsAlone'] = 1\n",
    "\n",
    "train_df[['IsAlone', 'Survived']].groupby(['IsAlone'], as_index=False).mean()"
   ]
  },
  {
   "cell_type": "markdown",
   "metadata": {},
   "source": [
    "### Conclusions on `IsAlone` and Survival Analysis\n",
    "\n",
    "The results indicate that passengers who traveled with companions (`IsAlone = 0`) had a higher survival rate (50.6%) compared to those who traveled alone (`IsAlone = 1`), whose survival rate was significantly lower (30.4%). This suggests that traveling alone reduced the chances of survival."
   ]
  },
  {
   "cell_type": "markdown",
   "metadata": {
    "_cell_guid": "e6b87c09-e7b2-f098-5b04-4360080d26bc",
    "_uuid": "3da4204b2c78faa54a94bbad78a8aa85fbf90c87"
   },
   "source": [
    "### Removal of Family-Related Columns for Simplification\n",
    "\n",
    "The `Parch`, `SibSp`, and `FamilySize` columns are removed from the training and testing datasets. The goal is to simplify the dataset, as the information from these columns has been consolidated into the new `IsAlone` variable, optimizing data analysis and modeling."
   ]
  },
  {
   "cell_type": "code",
   "execution_count": 89,
   "metadata": {
    "_cell_guid": "74ee56a6-7357-f3bc-b605-6c41f8aa6566",
    "_uuid": "1e3479690ef7cd8ee10538d4f39d7117246887f0"
   },
   "outputs": [
    {
     "data": {
      "text/html": [
       "<div>\n",
       "<style scoped>\n",
       "    .dataframe tbody tr th:only-of-type {\n",
       "        vertical-align: middle;\n",
       "    }\n",
       "\n",
       "    .dataframe tbody tr th {\n",
       "        vertical-align: top;\n",
       "    }\n",
       "\n",
       "    .dataframe thead th {\n",
       "        text-align: right;\n",
       "    }\n",
       "</style>\n",
       "<table border=\"1\" class=\"dataframe\">\n",
       "  <thead>\n",
       "    <tr style=\"text-align: right;\">\n",
       "      <th></th>\n",
       "      <th>Survived</th>\n",
       "      <th>Pclass</th>\n",
       "      <th>Sex</th>\n",
       "      <th>Age</th>\n",
       "      <th>Fare</th>\n",
       "      <th>Embarked</th>\n",
       "      <th>Title</th>\n",
       "      <th>IsAlone</th>\n",
       "    </tr>\n",
       "  </thead>\n",
       "  <tbody>\n",
       "    <tr>\n",
       "      <th>0</th>\n",
       "      <td>0</td>\n",
       "      <td>3</td>\n",
       "      <td>0</td>\n",
       "      <td>1</td>\n",
       "      <td>7.2500</td>\n",
       "      <td>S</td>\n",
       "      <td>1</td>\n",
       "      <td>0</td>\n",
       "    </tr>\n",
       "    <tr>\n",
       "      <th>1</th>\n",
       "      <td>1</td>\n",
       "      <td>1</td>\n",
       "      <td>1</td>\n",
       "      <td>2</td>\n",
       "      <td>71.2833</td>\n",
       "      <td>C</td>\n",
       "      <td>3</td>\n",
       "      <td>0</td>\n",
       "    </tr>\n",
       "    <tr>\n",
       "      <th>2</th>\n",
       "      <td>1</td>\n",
       "      <td>3</td>\n",
       "      <td>1</td>\n",
       "      <td>1</td>\n",
       "      <td>7.9250</td>\n",
       "      <td>S</td>\n",
       "      <td>2</td>\n",
       "      <td>1</td>\n",
       "    </tr>\n",
       "    <tr>\n",
       "      <th>3</th>\n",
       "      <td>1</td>\n",
       "      <td>1</td>\n",
       "      <td>1</td>\n",
       "      <td>2</td>\n",
       "      <td>53.1000</td>\n",
       "      <td>S</td>\n",
       "      <td>3</td>\n",
       "      <td>0</td>\n",
       "    </tr>\n",
       "    <tr>\n",
       "      <th>4</th>\n",
       "      <td>0</td>\n",
       "      <td>3</td>\n",
       "      <td>0</td>\n",
       "      <td>2</td>\n",
       "      <td>8.0500</td>\n",
       "      <td>S</td>\n",
       "      <td>1</td>\n",
       "      <td>1</td>\n",
       "    </tr>\n",
       "  </tbody>\n",
       "</table>\n",
       "</div>"
      ],
      "text/plain": [
       "   Survived  Pclass  Sex  Age     Fare Embarked  Title  IsAlone\n",
       "0         0       3    0    1   7.2500        S      1        0\n",
       "1         1       1    1    2  71.2833        C      3        0\n",
       "2         1       3    1    1   7.9250        S      2        1\n",
       "3         1       1    1    2  53.1000        S      3        0\n",
       "4         0       3    0    2   8.0500        S      1        1"
      ]
     },
     "execution_count": 89,
     "metadata": {},
     "output_type": "execute_result"
    }
   ],
   "source": [
    "train_df = train_df.drop(['Parch', 'SibSp', 'FamilySize'], axis=1)\n",
    "test_df = test_df.drop(['Parch', 'SibSp', 'FamilySize'], axis=1)\n",
    "combine = [train_df, test_df]\n",
    "\n",
    "train_df.head()"
   ]
  },
  {
   "cell_type": "markdown",
   "metadata": {},
   "source": [
    "### Conclusions on Dataset Simplification\n",
    "\n",
    "The removal of the `Parch`, `SibSp`, and `FamilySize` columns has resulted in a cleaner dataset with the most relevant variables for analysis and modeling. The `IsAlone` variable, along with other key features, provides a more streamlined approach to evaluating passengers' survival probability."
   ]
  },
  {
   "cell_type": "markdown",
   "metadata": {
    "_cell_guid": "f890b730-b1fe-919e-fb07-352fbd7edd44",
    "_uuid": "71b800ed96407eba05220f76a1288366a22ec887"
   },
   "source": [
    "### Creation of the `Age*Class` Column for Combined Analysis\n",
    "\n",
    "A new column called `Age*Class` is created in the training and testing datasets by multiplying a passenger's age (`Age`) by their class (`Pclass`). The purpose is to explore the interaction between age and class as a combined feature, which could provide additional insights to the machine learning model about how these two variables jointly influence survival.\n",
    "\n",
    "### Why is this done?\n",
    "\n",
    "Multiplying two variables allows capturing the interaction between them, highlighting potential patterns that might not be evident when analyzed separately. In this case, combining `Age` and `Pclass` helps uncover whether the relationship between age and class significantly impacts survival probability. For instance, it might reveal if younger passengers in higher classes are more likely to survive compared to older passengers in lower classes.\n",
    "\n",
    "### What is achieved?\n",
    "\n",
    "By adding this new combined feature, the model is enhanced by enabling it to more comprehensively consider the simultaneous influence of age and class on survival. This potentially improves predictive capacity and model accuracy, as it captures important interactions that may affect the outcome."
   ]
  },
  {
   "cell_type": "code",
   "execution_count": 92,
   "metadata": {
    "_cell_guid": "305402aa-1ea1-c245-c367-056eef8fe453",
    "_uuid": "aac2c5340c06210a8b0199e15461e9049fbf2cff"
   },
   "outputs": [
    {
     "data": {
      "text/html": [
       "<div>\n",
       "<style scoped>\n",
       "    .dataframe tbody tr th:only-of-type {\n",
       "        vertical-align: middle;\n",
       "    }\n",
       "\n",
       "    .dataframe tbody tr th {\n",
       "        vertical-align: top;\n",
       "    }\n",
       "\n",
       "    .dataframe thead th {\n",
       "        text-align: right;\n",
       "    }\n",
       "</style>\n",
       "<table border=\"1\" class=\"dataframe\">\n",
       "  <thead>\n",
       "    <tr style=\"text-align: right;\">\n",
       "      <th></th>\n",
       "      <th>Age*Class</th>\n",
       "      <th>Age</th>\n",
       "      <th>Pclass</th>\n",
       "    </tr>\n",
       "  </thead>\n",
       "  <tbody>\n",
       "    <tr>\n",
       "      <th>0</th>\n",
       "      <td>3</td>\n",
       "      <td>1</td>\n",
       "      <td>3</td>\n",
       "    </tr>\n",
       "    <tr>\n",
       "      <th>1</th>\n",
       "      <td>2</td>\n",
       "      <td>2</td>\n",
       "      <td>1</td>\n",
       "    </tr>\n",
       "    <tr>\n",
       "      <th>2</th>\n",
       "      <td>3</td>\n",
       "      <td>1</td>\n",
       "      <td>3</td>\n",
       "    </tr>\n",
       "    <tr>\n",
       "      <th>3</th>\n",
       "      <td>2</td>\n",
       "      <td>2</td>\n",
       "      <td>1</td>\n",
       "    </tr>\n",
       "    <tr>\n",
       "      <th>4</th>\n",
       "      <td>6</td>\n",
       "      <td>2</td>\n",
       "      <td>3</td>\n",
       "    </tr>\n",
       "    <tr>\n",
       "      <th>5</th>\n",
       "      <td>3</td>\n",
       "      <td>1</td>\n",
       "      <td>3</td>\n",
       "    </tr>\n",
       "    <tr>\n",
       "      <th>6</th>\n",
       "      <td>3</td>\n",
       "      <td>3</td>\n",
       "      <td>1</td>\n",
       "    </tr>\n",
       "    <tr>\n",
       "      <th>7</th>\n",
       "      <td>0</td>\n",
       "      <td>0</td>\n",
       "      <td>3</td>\n",
       "    </tr>\n",
       "    <tr>\n",
       "      <th>8</th>\n",
       "      <td>3</td>\n",
       "      <td>1</td>\n",
       "      <td>3</td>\n",
       "    </tr>\n",
       "    <tr>\n",
       "      <th>9</th>\n",
       "      <td>0</td>\n",
       "      <td>0</td>\n",
       "      <td>2</td>\n",
       "    </tr>\n",
       "  </tbody>\n",
       "</table>\n",
       "</div>"
      ],
      "text/plain": [
       "   Age*Class  Age  Pclass\n",
       "0          3    1       3\n",
       "1          2    2       1\n",
       "2          3    1       3\n",
       "3          2    2       1\n",
       "4          6    2       3\n",
       "5          3    1       3\n",
       "6          3    3       1\n",
       "7          0    0       3\n",
       "8          3    1       3\n",
       "9          0    0       2"
      ]
     },
     "execution_count": 92,
     "metadata": {},
     "output_type": "execute_result"
    }
   ],
   "source": [
    "for dataset in combine:\n",
    "    dataset['Age*Class'] = dataset.Age * dataset.Pclass\n",
    "\n",
    "# The colons are used to select all row indices in the DataFrame.\n",
    "train_df.loc[:, ['Age*Class', 'Age', 'Pclass']].head(10)"
   ]
  },
  {
   "cell_type": "markdown",
   "metadata": {},
   "source": [
    "### Conclusions on the `Age*Class` Analysis\n",
    "\n",
    "The output shows that the new `Age*Class` column reflects how the combination of a passenger's age and class translates into different numerical values. This enables the machine learning model to better capture the interaction between these variables, potentially highlighting specific patterns regarding how age and class jointly influence survival probability."
   ]
  },
  {
   "cell_type": "markdown",
   "metadata": {},
   "source": [
    "### Determining the Most Frequent Embarkation Port `Embarked`\n",
    "\n",
    "The goal is to find the most frequent value (the mode) in the `Embarked` column of the `train_df` DataFrame, excluding null values.\n",
    "\n",
    "### Considerations\n",
    "\n",
    "- **Simplicity**: A quick and easy approach to implement.\n",
    "- **Potential Inaccuracy**: It may be inaccurate if missing values do not follow the same pattern as the existing data.\n",
    "\n",
    "### Alternatives\n",
    "\n",
    "- **Advanced Imputation**: Use methods like `KNNImputer` or predictive models for more accurate imputation.\n",
    "- **Feature-Based Imputation**: Utilize other variables to aid in imputation (e.g., imputing based on passenger class).\n",
    "- **Handling Missing Values**: Some models, such as `XGBoost` or `LightGBM`, can handle null values without requiring imputation."
   ]
  },
  {
   "cell_type": "code",
   "execution_count": 95,
   "metadata": {
    "_cell_guid": "bf351113-9b7f-ef56-7211-e8dd00665b18",
    "_uuid": "1e3f8af166f60a1b3125a6b046eff5fff02d63cf"
   },
   "outputs": [
    {
     "data": {
      "text/plain": [
       "'S'"
      ]
     },
     "execution_count": 95,
     "metadata": {},
     "output_type": "execute_result"
    }
   ],
   "source": [
    "freq_port = train_df.Embarked.dropna().mode()[0]\n",
    "freq_port"
   ]
  },
  {
   "cell_type": "code",
   "execution_count": 96,
   "metadata": {
    "_cell_guid": "51c21fcc-f066-cd80-18c8-3d140be6cbae",
    "_uuid": "d85b5575fb45f25749298641f6a0a38803e1ff22"
   },
   "outputs": [
    {
     "data": {
      "text/html": [
       "<div>\n",
       "<style scoped>\n",
       "    .dataframe tbody tr th:only-of-type {\n",
       "        vertical-align: middle;\n",
       "    }\n",
       "\n",
       "    .dataframe tbody tr th {\n",
       "        vertical-align: top;\n",
       "    }\n",
       "\n",
       "    .dataframe thead th {\n",
       "        text-align: right;\n",
       "    }\n",
       "</style>\n",
       "<table border=\"1\" class=\"dataframe\">\n",
       "  <thead>\n",
       "    <tr style=\"text-align: right;\">\n",
       "      <th></th>\n",
       "      <th>Embarked</th>\n",
       "      <th>Survived</th>\n",
       "    </tr>\n",
       "  </thead>\n",
       "  <tbody>\n",
       "    <tr>\n",
       "      <th>0</th>\n",
       "      <td>C</td>\n",
       "      <td>0.553571</td>\n",
       "    </tr>\n",
       "    <tr>\n",
       "      <th>1</th>\n",
       "      <td>Q</td>\n",
       "      <td>0.389610</td>\n",
       "    </tr>\n",
       "    <tr>\n",
       "      <th>2</th>\n",
       "      <td>S</td>\n",
       "      <td>0.339009</td>\n",
       "    </tr>\n",
       "  </tbody>\n",
       "</table>\n",
       "</div>"
      ],
      "text/plain": [
       "  Embarked  Survived\n",
       "0        C  0.553571\n",
       "1        Q  0.389610\n",
       "2        S  0.339009"
      ]
     },
     "execution_count": 96,
     "metadata": {},
     "output_type": "execute_result"
    }
   ],
   "source": [
    "# Iterate through each DataFrame in the combine list and fill the null values in the Embarked column with 'freq_port'. \n",
    "for dataset in combine:\n",
    "    dataset['Embarked'] = dataset['Embarked'].fillna(freq_port)\n",
    "\n",
    "# Calculation of the average survival rate for each Embarked value in train_df, and sorting the results in descending order of survival rate.\n",
    "train_df[['Embarked', 'Survived']].groupby(['Embarked'], as_index=False).mean().sort_values(by='Survived', ascending=False)"
   ]
  },
  {
   "cell_type": "markdown",
   "metadata": {},
   "source": [
    "### Conclusions\n",
    "\n",
    "Using the mode to fill missing values is an acceptable and common practice in Machine Learning, especially for categorical variables. However, it is important to note that this method may introduce some bias by assuming that the most frequent category adequately represents the missing values, which may not always be the case.\n",
    "\n",
    "In summary, imputing with the mode is a good initial practice, but it is advisable to explore more advanced imputation methods to improve the **accuracy** and **representativeness of the model**."
   ]
  },
  {
   "cell_type": "markdown",
   "metadata": {},
   "source": [
    "### Encoding Categorical Variables for Modeling\n",
    "\n",
    "Each DataFrame in the `combine` list is iterated over, converting the values in the `Embarked` column from categorical strings (`'S'`, `'C'`, `'Q'`) to integers (`0`, `1`, `2`). This process is commonly known as **categorical variable encoding**."
   ]
  },
  {
   "cell_type": "code",
   "execution_count": 99,
   "metadata": {
    "_cell_guid": "89a91d76-2cc0-9bbb-c5c5-3c9ecae33c66",
    "_uuid": "e480a1ef145de0b023821134896391d568a6f4f9"
   },
   "outputs": [
    {
     "data": {
      "text/html": [
       "<div>\n",
       "<style scoped>\n",
       "    .dataframe tbody tr th:only-of-type {\n",
       "        vertical-align: middle;\n",
       "    }\n",
       "\n",
       "    .dataframe tbody tr th {\n",
       "        vertical-align: top;\n",
       "    }\n",
       "\n",
       "    .dataframe thead th {\n",
       "        text-align: right;\n",
       "    }\n",
       "</style>\n",
       "<table border=\"1\" class=\"dataframe\">\n",
       "  <thead>\n",
       "    <tr style=\"text-align: right;\">\n",
       "      <th></th>\n",
       "      <th>Survived</th>\n",
       "      <th>Pclass</th>\n",
       "      <th>Sex</th>\n",
       "      <th>Age</th>\n",
       "      <th>Fare</th>\n",
       "      <th>Embarked</th>\n",
       "      <th>Title</th>\n",
       "      <th>IsAlone</th>\n",
       "      <th>Age*Class</th>\n",
       "    </tr>\n",
       "  </thead>\n",
       "  <tbody>\n",
       "    <tr>\n",
       "      <th>0</th>\n",
       "      <td>0</td>\n",
       "      <td>3</td>\n",
       "      <td>0</td>\n",
       "      <td>1</td>\n",
       "      <td>7.2500</td>\n",
       "      <td>0</td>\n",
       "      <td>1</td>\n",
       "      <td>0</td>\n",
       "      <td>3</td>\n",
       "    </tr>\n",
       "    <tr>\n",
       "      <th>1</th>\n",
       "      <td>1</td>\n",
       "      <td>1</td>\n",
       "      <td>1</td>\n",
       "      <td>2</td>\n",
       "      <td>71.2833</td>\n",
       "      <td>1</td>\n",
       "      <td>3</td>\n",
       "      <td>0</td>\n",
       "      <td>2</td>\n",
       "    </tr>\n",
       "    <tr>\n",
       "      <th>2</th>\n",
       "      <td>1</td>\n",
       "      <td>3</td>\n",
       "      <td>1</td>\n",
       "      <td>1</td>\n",
       "      <td>7.9250</td>\n",
       "      <td>0</td>\n",
       "      <td>2</td>\n",
       "      <td>1</td>\n",
       "      <td>3</td>\n",
       "    </tr>\n",
       "    <tr>\n",
       "      <th>3</th>\n",
       "      <td>1</td>\n",
       "      <td>1</td>\n",
       "      <td>1</td>\n",
       "      <td>2</td>\n",
       "      <td>53.1000</td>\n",
       "      <td>0</td>\n",
       "      <td>3</td>\n",
       "      <td>0</td>\n",
       "      <td>2</td>\n",
       "    </tr>\n",
       "    <tr>\n",
       "      <th>4</th>\n",
       "      <td>0</td>\n",
       "      <td>3</td>\n",
       "      <td>0</td>\n",
       "      <td>2</td>\n",
       "      <td>8.0500</td>\n",
       "      <td>0</td>\n",
       "      <td>1</td>\n",
       "      <td>1</td>\n",
       "      <td>6</td>\n",
       "    </tr>\n",
       "  </tbody>\n",
       "</table>\n",
       "</div>"
      ],
      "text/plain": [
       "   Survived  Pclass  Sex  Age     Fare  Embarked  Title  IsAlone  Age*Class\n",
       "0         0       3    0    1   7.2500         0      1        0          3\n",
       "1         1       1    1    2  71.2833         1      3        0          2\n",
       "2         1       3    1    1   7.9250         0      2        1          3\n",
       "3         1       1    1    2  53.1000         0      3        0          2\n",
       "4         0       3    0    2   8.0500         0      1        1          6"
      ]
     },
     "execution_count": 99,
     "metadata": {},
     "output_type": "execute_result"
    }
   ],
   "source": [
    "for dataset in combine:\n",
    "    dataset['Embarked'] = dataset['Embarked'].map( {'S': 0, 'C': 1, 'Q': 2} ).astype(int)\n",
    "\n",
    "train_df.head()"
   ]
  },
  {
   "cell_type": "markdown",
   "metadata": {},
   "source": [
    "### Key Conclusions on Encoding the `Embarked` Variable\n",
    "\n",
    "1. **Model Compatibility**: By converting categorical values to integers, models that only accept numerical data can process the `Embarked` column without issues.\n",
    "\n",
    "2. **Simplicity in Analysis**: Encoding facilitates the comparison and analysis of the `Embarked` variable by representing its values numerically.\n",
    "\n",
    "3. **Impact on the Model**: This transformation enables the algorithm to identify and learn patterns related to different embarkation ports and their potential influence on the target variable (passenger survival).\n",
    "\n",
    "4. **Consistency**: Ensures that all DataFrames in the `combine` list have the same numerical representation, which is essential to avoid discrepancies during model training and validation."
   ]
  },
  {
   "cell_type": "markdown",
   "metadata": {},
   "source": [
    "### Filling Missing Values in the `Fare` Column\n",
    "\n",
    "This code is used to fill the missing values in the `Fare` column of the `test_df` DataFrame, ensuring that the data used for evaluating the model is complete and consistent with the training data.\n",
    "\n",
    "By replacing null values with the median of the non-null values, the central distribution of the data is preserved, minimizing the impact of outliers and ensuring that the models work with a more complete and robust dataset."
   ]
  },
  {
   "cell_type": "code",
   "execution_count": 102,
   "metadata": {
    "_cell_guid": "3600cb86-cf5f-d87b-1b33-638dc8db1564",
    "_uuid": "aacb62f3526072a84795a178bd59222378bab180",
    "scrolled": true
   },
   "outputs": [
    {
     "name": "stderr",
     "output_type": "stream",
     "text": [
      "C:\\Users\\mechi\\AppData\\Local\\Temp\\ipykernel_16884\\31889810.py:1: FutureWarning: A value is trying to be set on a copy of a DataFrame or Series through chained assignment using an inplace method.\n",
      "The behavior will change in pandas 3.0. This inplace method will never work because the intermediate object on which we are setting values always behaves as a copy.\n",
      "\n",
      "For example, when doing 'df[col].method(value, inplace=True)', try using 'df.method({col: value}, inplace=True)' or df[col] = df[col].method(value) instead, to perform the operation inplace on the original object.\n",
      "\n",
      "\n",
      "  test_df['Fare'].fillna(test_df['Fare'].dropna().median(), inplace=True)\n"
     ]
    },
    {
     "data": {
      "text/html": [
       "<div>\n",
       "<style scoped>\n",
       "    .dataframe tbody tr th:only-of-type {\n",
       "        vertical-align: middle;\n",
       "    }\n",
       "\n",
       "    .dataframe tbody tr th {\n",
       "        vertical-align: top;\n",
       "    }\n",
       "\n",
       "    .dataframe thead th {\n",
       "        text-align: right;\n",
       "    }\n",
       "</style>\n",
       "<table border=\"1\" class=\"dataframe\">\n",
       "  <thead>\n",
       "    <tr style=\"text-align: right;\">\n",
       "      <th></th>\n",
       "      <th>PassengerId</th>\n",
       "      <th>Pclass</th>\n",
       "      <th>Sex</th>\n",
       "      <th>Age</th>\n",
       "      <th>Fare</th>\n",
       "      <th>Embarked</th>\n",
       "      <th>Title</th>\n",
       "      <th>IsAlone</th>\n",
       "      <th>Age*Class</th>\n",
       "    </tr>\n",
       "  </thead>\n",
       "  <tbody>\n",
       "    <tr>\n",
       "      <th>0</th>\n",
       "      <td>892</td>\n",
       "      <td>3</td>\n",
       "      <td>0</td>\n",
       "      <td>2</td>\n",
       "      <td>7.8292</td>\n",
       "      <td>2</td>\n",
       "      <td>1</td>\n",
       "      <td>1</td>\n",
       "      <td>6</td>\n",
       "    </tr>\n",
       "    <tr>\n",
       "      <th>1</th>\n",
       "      <td>893</td>\n",
       "      <td>3</td>\n",
       "      <td>1</td>\n",
       "      <td>2</td>\n",
       "      <td>7.0000</td>\n",
       "      <td>0</td>\n",
       "      <td>3</td>\n",
       "      <td>0</td>\n",
       "      <td>6</td>\n",
       "    </tr>\n",
       "    <tr>\n",
       "      <th>2</th>\n",
       "      <td>894</td>\n",
       "      <td>2</td>\n",
       "      <td>0</td>\n",
       "      <td>3</td>\n",
       "      <td>9.6875</td>\n",
       "      <td>2</td>\n",
       "      <td>1</td>\n",
       "      <td>1</td>\n",
       "      <td>6</td>\n",
       "    </tr>\n",
       "    <tr>\n",
       "      <th>3</th>\n",
       "      <td>895</td>\n",
       "      <td>3</td>\n",
       "      <td>0</td>\n",
       "      <td>1</td>\n",
       "      <td>8.6625</td>\n",
       "      <td>0</td>\n",
       "      <td>1</td>\n",
       "      <td>1</td>\n",
       "      <td>3</td>\n",
       "    </tr>\n",
       "    <tr>\n",
       "      <th>4</th>\n",
       "      <td>896</td>\n",
       "      <td>3</td>\n",
       "      <td>1</td>\n",
       "      <td>1</td>\n",
       "      <td>12.2875</td>\n",
       "      <td>0</td>\n",
       "      <td>3</td>\n",
       "      <td>0</td>\n",
       "      <td>3</td>\n",
       "    </tr>\n",
       "  </tbody>\n",
       "</table>\n",
       "</div>"
      ],
      "text/plain": [
       "   PassengerId  Pclass  Sex  Age     Fare  Embarked  Title  IsAlone  Age*Class\n",
       "0          892       3    0    2   7.8292         2      1        1          6\n",
       "1          893       3    1    2   7.0000         0      3        0          6\n",
       "2          894       2    0    3   9.6875         2      1        1          6\n",
       "3          895       3    0    1   8.6625         0      1        1          3\n",
       "4          896       3    1    1  12.2875         0      3        0          3"
      ]
     },
     "execution_count": 102,
     "metadata": {},
     "output_type": "execute_result"
    }
   ],
   "source": [
    "test_df['Fare'].fillna(test_df['Fare'].dropna().median(), inplace=True)\n",
    "test_df.head()"
   ]
  },
  {
   "cell_type": "markdown",
   "metadata": {},
   "source": [
    "### Conclusions and Analysis of Median Imputation\n",
    "\n",
    "Filling the `Fare` column with the median ensures that missing values are robustly handled against outliers, preserving the representativeness of the central distribution.\n",
    "\n",
    "### Advantages:\n",
    "- **Less affected by extreme values**: The median is more stable than the mean when outliers are present.\n",
    "- **Simplicity and speed**: It is easy to calculate and implement.\n",
    "\n",
    "### Disadvantages:\n",
    "- **Loss of variability**: It may reduce the column's variability, making the imputed data less reflective of potential patterns.\n",
    "- **Non-contextual**: It does not consider possible relationships with other variables for a more precise imputation."
   ]
  },
  {
   "cell_type": "markdown",
   "metadata": {},
   "source": [
    "### Fare Segmentation for Survival Analysis\n",
    "\n",
    "The `Fare` column in `train_df` is divided into 4 equal groups using `qcut`, creating a new column called `FareBand`. This segmentation allows for analyzing how survival rates vary across different fare ranges, providing valuable insights into the relationship between ticket cost and survival probabilities. This segmentation simplifies the `Fare` variable and facilitates categorical analysis in Machine Learning models."
   ]
  },
  {
   "cell_type": "code",
   "execution_count": 105,
   "metadata": {
    "_cell_guid": "0e9018b1-ced5-9999-8ce1-258a0952cbf2",
    "_uuid": "b9a78f6b4c72520d4ad99d2c89c84c591216098d"
   },
   "outputs": [
    {
     "name": "stderr",
     "output_type": "stream",
     "text": [
      "C:\\Users\\mechi\\AppData\\Local\\Temp\\ipykernel_16884\\2916669673.py:2: FutureWarning: The default of observed=False is deprecated and will be changed to True in a future version of pandas. Pass observed=False to retain current behavior or observed=True to adopt the future default and silence this warning.\n",
      "  train_df[['FareBand', 'Survived']].groupby(['FareBand'], as_index=False).mean().sort_values(by='FareBand', ascending=True)\n"
     ]
    },
    {
     "data": {
      "text/html": [
       "<div>\n",
       "<style scoped>\n",
       "    .dataframe tbody tr th:only-of-type {\n",
       "        vertical-align: middle;\n",
       "    }\n",
       "\n",
       "    .dataframe tbody tr th {\n",
       "        vertical-align: top;\n",
       "    }\n",
       "\n",
       "    .dataframe thead th {\n",
       "        text-align: right;\n",
       "    }\n",
       "</style>\n",
       "<table border=\"1\" class=\"dataframe\">\n",
       "  <thead>\n",
       "    <tr style=\"text-align: right;\">\n",
       "      <th></th>\n",
       "      <th>FareBand</th>\n",
       "      <th>Survived</th>\n",
       "    </tr>\n",
       "  </thead>\n",
       "  <tbody>\n",
       "    <tr>\n",
       "      <th>0</th>\n",
       "      <td>(-0.001, 7.91]</td>\n",
       "      <td>0.197309</td>\n",
       "    </tr>\n",
       "    <tr>\n",
       "      <th>1</th>\n",
       "      <td>(7.91, 14.454]</td>\n",
       "      <td>0.303571</td>\n",
       "    </tr>\n",
       "    <tr>\n",
       "      <th>2</th>\n",
       "      <td>(14.454, 31.0]</td>\n",
       "      <td>0.454955</td>\n",
       "    </tr>\n",
       "    <tr>\n",
       "      <th>3</th>\n",
       "      <td>(31.0, 512.329]</td>\n",
       "      <td>0.581081</td>\n",
       "    </tr>\n",
       "  </tbody>\n",
       "</table>\n",
       "</div>"
      ],
      "text/plain": [
       "          FareBand  Survived\n",
       "0   (-0.001, 7.91]  0.197309\n",
       "1   (7.91, 14.454]  0.303571\n",
       "2   (14.454, 31.0]  0.454955\n",
       "3  (31.0, 512.329]  0.581081"
      ]
     },
     "execution_count": 105,
     "metadata": {},
     "output_type": "execute_result"
    }
   ],
   "source": [
    "train_df['FareBand'] = pd.qcut(train_df['Fare'], 4)\n",
    "train_df[['FareBand', 'Survived']].groupby(['FareBand'], as_index=False).mean().sort_values(by='FareBand', ascending=True)"
   ]
  },
  {
   "cell_type": "markdown",
   "metadata": {},
   "source": [
    "### Conclusions on `Fare` Segmentation\n",
    "\n",
    "The analysis shows that survival rates increase with higher fare ranges, suggesting that passengers with more expensive tickets had higher chances of survival.\n",
    "\n",
    "### Advantages and Disadvantages of Median Imputation\n",
    "\n",
    "- **Advantages**: Robust against outliers, easy to implement.\n",
    "- **Disadvantages**: Does not account for variability or relationships with other variables."
   ]
  },
  {
   "cell_type": "markdown",
   "metadata": {
    "_cell_guid": "d65901a5-3684-6869-e904-5f1a7cce8a6d",
    "_uuid": "89400fba71af02d09ff07adf399fb36ac4913db6"
   },
   "source": [
    "### Title: Encoding the `Fare` Variable into Numerical Categories\n",
    "\n",
    "The `Fare` column in the `combine` dataset (`train_df` and `test_df`) is divided into numerical categories based on specific fare ranges. Each fare range is replaced with an integer value, simplifying analysis and facilitating the use of `Fare` as a categorical feature in the models. This enables the identification of patterns related to ticket fares and their influence on the target variable, such as passenger survival.\n",
    "\n",
    "### Removal of the `FareBand` Feature\n",
    "\n",
    "After the `Fare` column has been categorized and encoded into numerical values based on these ranges (via the following for loop), the `FareBand` column is no longer needed for the model and could be redundant."
   ]
  },
  {
   "cell_type": "code",
   "execution_count": 108,
   "metadata": {
    "_cell_guid": "385f217a-4e00-76dc-1570-1de4eec0c29c",
    "_uuid": "640f305061ec4221a45ba250f8d54bb391035a57"
   },
   "outputs": [
    {
     "data": {
      "text/html": [
       "<div>\n",
       "<style scoped>\n",
       "    .dataframe tbody tr th:only-of-type {\n",
       "        vertical-align: middle;\n",
       "    }\n",
       "\n",
       "    .dataframe tbody tr th {\n",
       "        vertical-align: top;\n",
       "    }\n",
       "\n",
       "    .dataframe thead th {\n",
       "        text-align: right;\n",
       "    }\n",
       "</style>\n",
       "<table border=\"1\" class=\"dataframe\">\n",
       "  <thead>\n",
       "    <tr style=\"text-align: right;\">\n",
       "      <th></th>\n",
       "      <th>Survived</th>\n",
       "      <th>Pclass</th>\n",
       "      <th>Sex</th>\n",
       "      <th>Age</th>\n",
       "      <th>Fare</th>\n",
       "      <th>Embarked</th>\n",
       "      <th>Title</th>\n",
       "      <th>IsAlone</th>\n",
       "      <th>Age*Class</th>\n",
       "    </tr>\n",
       "  </thead>\n",
       "  <tbody>\n",
       "    <tr>\n",
       "      <th>0</th>\n",
       "      <td>0</td>\n",
       "      <td>3</td>\n",
       "      <td>0</td>\n",
       "      <td>1</td>\n",
       "      <td>0</td>\n",
       "      <td>0</td>\n",
       "      <td>1</td>\n",
       "      <td>0</td>\n",
       "      <td>3</td>\n",
       "    </tr>\n",
       "    <tr>\n",
       "      <th>1</th>\n",
       "      <td>1</td>\n",
       "      <td>1</td>\n",
       "      <td>1</td>\n",
       "      <td>2</td>\n",
       "      <td>3</td>\n",
       "      <td>1</td>\n",
       "      <td>3</td>\n",
       "      <td>0</td>\n",
       "      <td>2</td>\n",
       "    </tr>\n",
       "    <tr>\n",
       "      <th>2</th>\n",
       "      <td>1</td>\n",
       "      <td>3</td>\n",
       "      <td>1</td>\n",
       "      <td>1</td>\n",
       "      <td>1</td>\n",
       "      <td>0</td>\n",
       "      <td>2</td>\n",
       "      <td>1</td>\n",
       "      <td>3</td>\n",
       "    </tr>\n",
       "    <tr>\n",
       "      <th>3</th>\n",
       "      <td>1</td>\n",
       "      <td>1</td>\n",
       "      <td>1</td>\n",
       "      <td>2</td>\n",
       "      <td>3</td>\n",
       "      <td>0</td>\n",
       "      <td>3</td>\n",
       "      <td>0</td>\n",
       "      <td>2</td>\n",
       "    </tr>\n",
       "    <tr>\n",
       "      <th>4</th>\n",
       "      <td>0</td>\n",
       "      <td>3</td>\n",
       "      <td>0</td>\n",
       "      <td>2</td>\n",
       "      <td>1</td>\n",
       "      <td>0</td>\n",
       "      <td>1</td>\n",
       "      <td>1</td>\n",
       "      <td>6</td>\n",
       "    </tr>\n",
       "    <tr>\n",
       "      <th>5</th>\n",
       "      <td>0</td>\n",
       "      <td>3</td>\n",
       "      <td>0</td>\n",
       "      <td>1</td>\n",
       "      <td>1</td>\n",
       "      <td>2</td>\n",
       "      <td>1</td>\n",
       "      <td>1</td>\n",
       "      <td>3</td>\n",
       "    </tr>\n",
       "    <tr>\n",
       "      <th>6</th>\n",
       "      <td>0</td>\n",
       "      <td>1</td>\n",
       "      <td>0</td>\n",
       "      <td>3</td>\n",
       "      <td>3</td>\n",
       "      <td>0</td>\n",
       "      <td>1</td>\n",
       "      <td>1</td>\n",
       "      <td>3</td>\n",
       "    </tr>\n",
       "    <tr>\n",
       "      <th>7</th>\n",
       "      <td>0</td>\n",
       "      <td>3</td>\n",
       "      <td>0</td>\n",
       "      <td>0</td>\n",
       "      <td>2</td>\n",
       "      <td>0</td>\n",
       "      <td>4</td>\n",
       "      <td>0</td>\n",
       "      <td>0</td>\n",
       "    </tr>\n",
       "    <tr>\n",
       "      <th>8</th>\n",
       "      <td>1</td>\n",
       "      <td>3</td>\n",
       "      <td>1</td>\n",
       "      <td>1</td>\n",
       "      <td>1</td>\n",
       "      <td>0</td>\n",
       "      <td>3</td>\n",
       "      <td>0</td>\n",
       "      <td>3</td>\n",
       "    </tr>\n",
       "    <tr>\n",
       "      <th>9</th>\n",
       "      <td>1</td>\n",
       "      <td>2</td>\n",
       "      <td>1</td>\n",
       "      <td>0</td>\n",
       "      <td>2</td>\n",
       "      <td>1</td>\n",
       "      <td>3</td>\n",
       "      <td>0</td>\n",
       "      <td>0</td>\n",
       "    </tr>\n",
       "  </tbody>\n",
       "</table>\n",
       "</div>"
      ],
      "text/plain": [
       "   Survived  Pclass  Sex  Age  Fare  Embarked  Title  IsAlone  Age*Class\n",
       "0         0       3    0    1     0         0      1        0          3\n",
       "1         1       1    1    2     3         1      3        0          2\n",
       "2         1       3    1    1     1         0      2        1          3\n",
       "3         1       1    1    2     3         0      3        0          2\n",
       "4         0       3    0    2     1         0      1        1          6\n",
       "5         0       3    0    1     1         2      1        1          3\n",
       "6         0       1    0    3     3         0      1        1          3\n",
       "7         0       3    0    0     2         0      4        0          0\n",
       "8         1       3    1    1     1         0      3        0          3\n",
       "9         1       2    1    0     2         1      3        0          0"
      ]
     },
     "execution_count": 108,
     "metadata": {},
     "output_type": "execute_result"
    }
   ],
   "source": [
    "# Encode the Fare column into numerical categories based on defined ranges to simplify its use in the models.\n",
    "for dataset in combine:\n",
    "    dataset.loc[ dataset['Fare'] <= 7.91, 'Fare'] = 0\n",
    "    dataset.loc[(dataset['Fare'] > 7.91) & (dataset['Fare'] <= 14.454), 'Fare'] = 1\n",
    "    dataset.loc[(dataset['Fare'] > 14.454) & (dataset['Fare'] <= 31), 'Fare']   = 2\n",
    "    dataset.loc[ dataset['Fare'] > 31, 'Fare'] = 3\n",
    "    dataset['Fare'] = dataset['Fare'].astype(int)\n",
    "\n",
    "# Deleting og 'FareBand'\n",
    "train_df = train_df.drop(['FareBand'], axis=1)\n",
    "combine = [train_df, test_df]\n",
    "    \n",
    "train_df.head(10)"
   ]
  },
  {
   "cell_type": "code",
   "execution_count": 109,
   "metadata": {
    "_cell_guid": "d2334d33-4fe5-964d-beac-6aa620066e15",
    "_uuid": "8453cecad81fcc44de3f4e4e4c3ce6afa977740d"
   },
   "outputs": [
    {
     "data": {
      "text/html": [
       "<div>\n",
       "<style scoped>\n",
       "    .dataframe tbody tr th:only-of-type {\n",
       "        vertical-align: middle;\n",
       "    }\n",
       "\n",
       "    .dataframe tbody tr th {\n",
       "        vertical-align: top;\n",
       "    }\n",
       "\n",
       "    .dataframe thead th {\n",
       "        text-align: right;\n",
       "    }\n",
       "</style>\n",
       "<table border=\"1\" class=\"dataframe\">\n",
       "  <thead>\n",
       "    <tr style=\"text-align: right;\">\n",
       "      <th></th>\n",
       "      <th>PassengerId</th>\n",
       "      <th>Pclass</th>\n",
       "      <th>Sex</th>\n",
       "      <th>Age</th>\n",
       "      <th>Fare</th>\n",
       "      <th>Embarked</th>\n",
       "      <th>Title</th>\n",
       "      <th>IsAlone</th>\n",
       "      <th>Age*Class</th>\n",
       "    </tr>\n",
       "  </thead>\n",
       "  <tbody>\n",
       "    <tr>\n",
       "      <th>0</th>\n",
       "      <td>892</td>\n",
       "      <td>3</td>\n",
       "      <td>0</td>\n",
       "      <td>2</td>\n",
       "      <td>0</td>\n",
       "      <td>2</td>\n",
       "      <td>1</td>\n",
       "      <td>1</td>\n",
       "      <td>6</td>\n",
       "    </tr>\n",
       "    <tr>\n",
       "      <th>1</th>\n",
       "      <td>893</td>\n",
       "      <td>3</td>\n",
       "      <td>1</td>\n",
       "      <td>2</td>\n",
       "      <td>0</td>\n",
       "      <td>0</td>\n",
       "      <td>3</td>\n",
       "      <td>0</td>\n",
       "      <td>6</td>\n",
       "    </tr>\n",
       "    <tr>\n",
       "      <th>2</th>\n",
       "      <td>894</td>\n",
       "      <td>2</td>\n",
       "      <td>0</td>\n",
       "      <td>3</td>\n",
       "      <td>1</td>\n",
       "      <td>2</td>\n",
       "      <td>1</td>\n",
       "      <td>1</td>\n",
       "      <td>6</td>\n",
       "    </tr>\n",
       "    <tr>\n",
       "      <th>3</th>\n",
       "      <td>895</td>\n",
       "      <td>3</td>\n",
       "      <td>0</td>\n",
       "      <td>1</td>\n",
       "      <td>1</td>\n",
       "      <td>0</td>\n",
       "      <td>1</td>\n",
       "      <td>1</td>\n",
       "      <td>3</td>\n",
       "    </tr>\n",
       "    <tr>\n",
       "      <th>4</th>\n",
       "      <td>896</td>\n",
       "      <td>3</td>\n",
       "      <td>1</td>\n",
       "      <td>1</td>\n",
       "      <td>1</td>\n",
       "      <td>0</td>\n",
       "      <td>3</td>\n",
       "      <td>0</td>\n",
       "      <td>3</td>\n",
       "    </tr>\n",
       "    <tr>\n",
       "      <th>5</th>\n",
       "      <td>897</td>\n",
       "      <td>3</td>\n",
       "      <td>0</td>\n",
       "      <td>0</td>\n",
       "      <td>1</td>\n",
       "      <td>0</td>\n",
       "      <td>1</td>\n",
       "      <td>1</td>\n",
       "      <td>0</td>\n",
       "    </tr>\n",
       "    <tr>\n",
       "      <th>6</th>\n",
       "      <td>898</td>\n",
       "      <td>3</td>\n",
       "      <td>1</td>\n",
       "      <td>1</td>\n",
       "      <td>0</td>\n",
       "      <td>2</td>\n",
       "      <td>2</td>\n",
       "      <td>1</td>\n",
       "      <td>3</td>\n",
       "    </tr>\n",
       "    <tr>\n",
       "      <th>7</th>\n",
       "      <td>899</td>\n",
       "      <td>2</td>\n",
       "      <td>0</td>\n",
       "      <td>1</td>\n",
       "      <td>2</td>\n",
       "      <td>0</td>\n",
       "      <td>1</td>\n",
       "      <td>0</td>\n",
       "      <td>2</td>\n",
       "    </tr>\n",
       "    <tr>\n",
       "      <th>8</th>\n",
       "      <td>900</td>\n",
       "      <td>3</td>\n",
       "      <td>1</td>\n",
       "      <td>1</td>\n",
       "      <td>0</td>\n",
       "      <td>1</td>\n",
       "      <td>3</td>\n",
       "      <td>1</td>\n",
       "      <td>3</td>\n",
       "    </tr>\n",
       "    <tr>\n",
       "      <th>9</th>\n",
       "      <td>901</td>\n",
       "      <td>3</td>\n",
       "      <td>0</td>\n",
       "      <td>1</td>\n",
       "      <td>2</td>\n",
       "      <td>0</td>\n",
       "      <td>1</td>\n",
       "      <td>0</td>\n",
       "      <td>3</td>\n",
       "    </tr>\n",
       "  </tbody>\n",
       "</table>\n",
       "</div>"
      ],
      "text/plain": [
       "   PassengerId  Pclass  Sex  Age  Fare  Embarked  Title  IsAlone  Age*Class\n",
       "0          892       3    0    2     0         2      1        1          6\n",
       "1          893       3    1    2     0         0      3        0          6\n",
       "2          894       2    0    3     1         2      1        1          6\n",
       "3          895       3    0    1     1         0      1        1          3\n",
       "4          896       3    1    1     1         0      3        0          3\n",
       "5          897       3    0    0     1         0      1        1          0\n",
       "6          898       3    1    1     0         2      2        1          3\n",
       "7          899       2    0    1     2         0      1        0          2\n",
       "8          900       3    1    1     0         1      3        1          3\n",
       "9          901       3    0    1     2         0      1        0          3"
      ]
     },
     "execution_count": 109,
     "metadata": {},
     "output_type": "execute_result"
    }
   ],
   "source": [
    "test_df.head(10)"
   ]
  },
  {
   "cell_type": "markdown",
   "metadata": {
    "_cell_guid": "69783c08-c8cc-a6ca-2a9a-5e75581c6d31",
    "_uuid": "a55f20dd6654610ff2d66c1bf3e4c6c73dcef9e5"
   },
   "source": [
    "<a name=\"Machine-Learning-Models\"></a>\n",
    "\n",
    "### 6. Machine Learning Classification Models\n",
    "\n",
    "For predicting survival in this particular case, classification models play a key role in determining whether a passenger survived based on features such as age, gender, and class. Models like **Support Vector Machines (SVMs)**, **K-Nearest Neighbors (KNN)**, and **Logistic Regression** are effective for analyzing structured datasets. Advanced techniques, including **Random Forest** and **Naive Bayes**, handle feature interactions and uncertainties. Approaches like **Perceptron**, **Stochastic Gradient Descent (SGD)**, and **Linear SVC** optimize predictions, while interpretable methods like **Decision Tree** help uncover the key factors influencing survival outcomes."
   ]
  },
  {
   "cell_type": "markdown",
   "metadata": {},
   "source": [
    "### Separation of Training and Testing Data"
   ]
  },
  {
   "cell_type": "code",
   "execution_count": 112,
   "metadata": {},
   "outputs": [],
   "source": [
    "# Separate the independent and dependent variables from `train_df`\n",
    "X = train_df.drop(\"Survived\", axis=1)  # Independent variables (891 rows and 11 columns)\n",
    "Y = train_df[\"Survived\"]               # Pandas Series, dependent variable (891 rows, one-dimensional)\n",
    "\n",
    "# Split the dataset into training and validation sets.\n",
    "X_train, X_test, Y_train, Y_test = train_test_split(X, Y, test_size=0.2, random_state=42)"
   ]
  },
  {
   "cell_type": "markdown",
   "metadata": {},
   "source": [
    "### Survival Analysis on the Test Set\n",
    "\n",
    "1. **Separate Independent and Dependent Variables:**\n",
    "   ```python\n",
    "   X = train_df.drop(\"Survived\", axis=1)\n",
    "   Y = train_df[\"Survived\"]              \n",
    "\n",
    "**`Y = train_df[\"Survived\"]`: By selecting a single column from the DataFrame using train_df[\"Survived\"], Pandas returns a Series (a one-dimensional structure).**\n",
    "\n",
    "2. `X_train, X_test, Y_train, Y_test = train_test_split(X, Y, test_size=0.2, random_state=42)`: Splits the data into 80% for training (X_train, Y_train) and 20% for testing (X_test, Y_test). random_state=42 ensures the split is reproducible. The split results in:\n",
    "\n",
    "Since (X, Y) contain 891 rows (or passengers):\n",
    "\n",
    "- Training (X_train, Y_train): 80% → 712 rows (or passengers).\n",
    "- Validation (X_test, Y_test): 20% → 179 rows (or passengers).\n",
    "\n",
    "**Note**: In this analysis, it is unnecessary to use train_test_split to split the data into training and testing sets, as the project already provides these datasets separately."
   ]
  },
  {
   "cell_type": "markdown",
   "metadata": {},
   "source": [
    "### Logistic Regression Model\n",
    "\n",
    "It is a **classification** model used to predict the probability of a class (or event). Based on historical data, this model allows us to identify patterns and classify observations into specific categories. In this case, the model has been trained and tested on a dataset to calculate its accuracy and measure its predictive capability.\n",
    "\n",
    "1. `Y_test_pred = logreg.predict(X_test)`: Generates predictions on the test set.\n",
    "\n",
    "2. `acc_test = round(accuracy_score(Y_test, Y_test_pred) * 100, 2)`: Accuracy: Percentage of correct predictions.\n",
    "\n",
    "3. `f1_test = round(f1_score(Y_test, Y_test_pred, average='weighted') * 100, 2)`: The f1-score evaluates the balance between precision and recall, useful for imbalanced datasets like this case.\n",
    "\n",
    "4. `conf_matrix = confusion_matrix(Y_test, Y_test_pred)`: Displays how many values were correctly or incorrectly classified.\n",
    "\n",
    "5. `Y_test_pred = logreg.predict(X_test)`: Generates final predictions for the test set (test_df), which does not have known labels."
   ]
  },
  {
   "cell_type": "code",
   "execution_count": 115,
   "metadata": {},
   "outputs": [
    {
     "name": "stdout",
     "output_type": "stream",
     "text": [
      "Accuracy on the Training Set: 80.9%\n",
      "Accuracy on the Test Set: 78.77%\n",
      "f1-score on the Test Set: 78.73%\n",
      "Confusion Matrix of the Test Set:\n",
      "[[87 18]\n",
      " [20 54]]\n"
     ]
    }
   ],
   "source": [
    "# Create and Train the Logistic Regression Model\n",
    "logreg = LogisticRegression()\n",
    "logreg.fit(X_train, Y_train)\n",
    "\n",
    "# Calculate the accuracy on the training set\n",
    "acc_train = round(logreg.score(X_train, Y_train) * 100, 2)\n",
    "\n",
    "# Generate predictions on the validation set\n",
    "Y_test_pred = logreg.predict(X_test)\n",
    "\n",
    "# Calculate metrics on the validation set\n",
    "acc_test_logreg = round(accuracy_score(Y_test, Y_test_pred) * 100, 2)\n",
    "f1_test = round(f1_score(Y_test, Y_test_pred, average='weighted') * 100, 2)\n",
    "\n",
    "# Display results\n",
    "print(f\"Accuracy on the Training Set: {acc_train}%\")\n",
    "print(f\"Accuracy on the Test Set: {acc_test_logreg}%\")\n",
    "print(f\"f1-score on the Test Set: {f1_test}%\")\n",
    "conf_matrix = confusion_matrix(Y_test, Y_test_pred)\n",
    "print(\"Confusion Matrix of the Test Set:\")\n",
    "print(conf_matrix)"
   ]
  },
  {
   "cell_type": "markdown",
   "metadata": {},
   "source": [
    "### Results of the Logistic Regression Model\n",
    "\n",
    "#### **1. Accuracy**\n",
    "- **Training Set:** 80.9%\n",
    "- **Test Set:** 78.77%\n",
    "  - **Interpretation:** The model generalizes reasonably well, with a small drop in accuracy when transitioning from training data to test data, indicating no significant overfitting.\n",
    "\n",
    "---\n",
    "\n",
    "#### **2. f1-score**\n",
    "- **f1-score on the Test Set:** 78.73%\n",
    "  - **Interpretation:** The F1-score shows that the model achieves a good balance between precision (avoiding false positives) and recall (avoiding false negatives).\n",
    "\n",
    "---\n",
    "\n",
    "#### **3. Confusion Matrix**"
   ]
  },
  {
   "cell_type": "markdown",
   "metadata": {},
   "source": [
    "\n",
    "|                       | **Prediction: Did Not Survive** | **Prediction: Survived**   |\n",
    "|-----------------------|---------------------------------|----------------------------|\n",
    "| **Actual: Did Not Survive** | True Negatives (TN)          | False Positives (FP)       |\n",
    "| **Actual: Survived**        | False Negatives (FN)         | True Positives (TP)        |\n",
    "\n",
    "---\n",
    "\n",
    "### Detailed Interpretation\n",
    "\n",
    "1. **First Row:** People who **did not survive** (negative class).\n",
    "   - **87 (TN - True Negatives):** The model correctly predicted that 87 people did not survive.\n",
    "   - **18 (FP - False Positives):** The model incorrectly predicted that 18 people survived, but they did not.\n",
    "\n",
    "2. **Second Row:** People who **survived** (positive class).\n",
    "   - **20 (FN - False Negatives):** The model incorrectly predicted that 20 people did not survive, but they actually did.\n",
    "   - **54 (TP - True Positives):** The model correctly predicted that 54 people survived.\n",
    "\n",
    "---\n",
    "\n",
    "### **Interpretation of Each Value**\n",
    "\n",
    "1. **True Positives (TP = 54):**\n",
    "   - These are people the model predicted as \"Survived\" and who actually survived.\n",
    "   - Maximizing this number is desirable, especially if correctly identifying survivors is critical.\n",
    "\n",
    "2. **False Negatives (FN = 20):**\n",
    "   - These are people who actually survived, but the model predicted they did not.\n",
    "   - This error can be more critical because the model fails to identify those who truly survived.\n",
    "\n",
    "3. **False Positives (FP = 18):**\n",
    "   - These are people who did not survive, but the model predicted they did.\n",
    "   - This error is less severe in this case but still poses a problem.\n",
    "\n",
    "4. **True Negatives (TN = 87):**\n",
    "   - These are people who did not survive and were correctly predicted as \"Did Not Survive\" by the model.\n",
    "\n",
    "---\n",
    "\n",
    "### **Why the Confusion Matrix is Useful**\n",
    "\n",
    "- **Beyond Accuracy:** \n",
    "   - It allows for analyzing specific errors instead of just measuring the percentage of correct predictions.\n",
    "   - For example, it’s helpful to identify if the model performs better for one class over the other (class imbalance).\n",
    "\n",
    "- **Model Diagnostics:**\n",
    "   - It helps understand if the model has issues with **false positives** or **false negatives** and make adjustments if necessary.\n",
    "\n",
    "---\n",
    "\n",
    "### Confusion Matrix Summary\n",
    "\n",
    "The confusion matrix provides detailed information about the model’s successes and errors:\n",
    "\n",
    "- The model correctly identifies **141 out of 179 people (78.77%)**.\n",
    "- The main errors are:\n",
    "  - **20 False Negatives (FN):** People who survived but were not identified as such.\n",
    "  - **18 False Positives (FP):** People who did not survive but were predicted to have survived.\n",
    "\n",
    "---\n",
    "\n",
    "### f1-score: What is it and Why is it Useful?\n",
    "\n",
    "The **F1-score** is a metric that combines **precision** and **recall** into a single measure. It is especially useful in classification problems where balancing **false positives** and **false negatives** is crucial, such as in imbalanced datasets.\n",
    "\n",
    "#### F1-score Formula:\n",
    "\\[\n",
    "\\text{F1-score} = 2 \\cdot \\frac{\\text{Precision} \\cdot \\text{Recall}}{\\text{Precision} + \\text{Recall}}\n",
    "\\]\n",
    "\n",
    "- **Precision:** Indicates how well the model avoids false positives.\n",
    "- **Recall (Sensitivity):** Indicates how well the model detects true positives.\n",
    "\n",
    "---\n",
    "\n",
    "### Relevance to this project\n",
    "\n",
    "In this project, the **F1-score** helps evaluate how well the model classifies passengers who **survived** and **did not survive**:\n",
    "- **Context:** Errors such as predicting someone did not survive when they actually did (**false negatives**) could be more critical depending on the objective.\n",
    "- **Importance:** The F1-score balances performance across both classes (survived/did not survive), providing a more comprehensive view of the model’s effectiveness compared to accuracy alone."
   ]
  },
  {
   "cell_type": "markdown",
   "metadata": {
    "_cell_guid": "ac041064-1693-8584-156b-66674117e4d0",
    "_uuid": "ccba9ac0a9c3c648ef9bc778977ab99066ab3945"
   },
   "source": [
    "### Support Vector Machine (SVM) Model\n",
    "\n",
    "The **Support Vector Machine (SVM)** model is a classification technique used to separate data into different classes by finding the best decision boundary. This model efficiently classifies observations, especially when the classes are clearly separable. In this case, an SVM model has been trained and evaluated, providing an accuracy measure that reflects its effectiveness in predicting the correct class for new observations."
   ]
  },
  {
   "cell_type": "markdown",
   "metadata": {},
   "source": [
    "The code trains the model and evaluates its performance on the training and test sets. It also generates a confusion matrix to analyze errors.\n",
    "\n",
    "1. `svc = SVC()`: Creates an SVM-based classifier.\n",
    "\n",
    "2. `svc.fit(X_train, Y_train)`: Trains the model using the input data (X_train) and their labels (Y_train).\n",
    "\n",
    "3. `Y_pred = svc.predict(X_test)`: Generates predictions on the test set.\n",
    "\n",
    "4. `acc_train = round(svc.score(X_train, Y_train) * 100, 2)`: Calculates the accuracy on the training set.\n",
    "\n",
    "5. `f1 = round(f1_score(Y_test, Y_pred, average='weighted') * 100, 2)`: Calculates the f1-score on the test set.\n",
    "\n",
    "6. `acc_test = round(accuracy_score(Y_test, Y_pred) * 100, 2)`: Calculates the accuracy on the test set.\n",
    "\n",
    "7. `conf_matrix = confusion_matrix(Y_test, Y_pred)`: Generates the confusion matrix."
   ]
  },
  {
   "cell_type": "code",
   "execution_count": 200,
   "metadata": {
    "_cell_guid": "7a63bf04-a410-9c81-5310-bdef7963298f",
    "_uuid": "60039d5377da49f1aa9ac4a924331328bd69add1"
   },
   "outputs": [
    {
     "name": "stdout",
     "output_type": "stream",
     "text": [
      "Accuracy on the Training Set: 78.37%\n",
      "Accuracy on the Test Set: 78.21%\n",
      "f1-score on the Test Set: 78.33%\n",
      "Confusion Matrix of the Test Set:\n",
      "[[82 23]\n",
      " [16 58]]\n"
     ]
    }
   ],
   "source": [
    "# Create and Train the SVC Model\n",
    "svc = SVC()\n",
    "svc.fit(X_train, Y_train)\n",
    "\n",
    "# Generate predictions on the test set\n",
    "Y_pred = svc.predict(X_test)\n",
    "\n",
    "# Calculate the accuracy on the training set\n",
    "acc_train = round(svc.score(X_train, Y_train) * 100, 2)\n",
    "\n",
    "# Calculate the accuracy on the test set\n",
    "acc_test_svc = round(accuracy_score(Y_test, Y_pred) * 100, 2)\n",
    "\n",
    "# Calculate the f1-score on the test set\n",
    "f1 = round(f1_score(Y_test, Y_pred, average='weighted') * 100, 2)\n",
    "\n",
    "# Generate the confusion matrix\n",
    "conf_matrix = confusion_matrix(Y_test, Y_pred)\n",
    "\n",
    "# Display results\n",
    "print(f\"Accuracy on the Training Set: {acc_train}%\")\n",
    "print(f\"Accuracy on the Test Set: {acc_test_svc}%\")\n",
    "print(f\"f1-score on the Test Set: {f1}%\")\n",
    "print(\"Confusion Matrix of the Test Set:\")\n",
    "print(conf_matrix)"
   ]
  },
  {
   "cell_type": "markdown",
   "metadata": {},
   "source": [
    "### Analysis of the SVM Model Results\n",
    "\n",
    "**1. Accuracy in Training and Test Sets**\n",
    "\n",
    "- **Training:** The model achieves **78.37% accuracy**, indicating it correctly classifies most passengers in the training set.\n",
    "- **Test:** The accuracy on the test set is similar, at **78.21%**, suggesting the model generalizes reasonably well and is not overfitted.\n",
    "\n",
    "**Conclusion:** The model shows consistent performance between the training and test sets, indicating it is neither overfitted nor underfitted.\n",
    "\n",
    "---\n",
    "\n",
    "**2. Confusion Matrix**\n",
    "\n",
    "- **True Negatives (TN = 82):** The model correctly predicted that **82 passengers did not survive**.\n",
    "- **False Positives (FP = 23):** The model incorrectly predicted that **23 passengers survived** when they did not.\n",
    "- **False Negatives (FN = 16):** The model incorrectly predicted that **16 passengers did not survive** when they actually did.\n",
    "- **True Positives (TP = 58):** The model correctly predicted that **58 passengers survived**.\n",
    "\n",
    "---\n",
    "\n",
    "**3. Error Observations**\n",
    "\n",
    "1. **False Negatives (16):**\n",
    "   - These errors are critical if the goal is to correctly identify survivors, as they were not detected by the model.\n",
    "\n",
    "2. **False Positives (23):**\n",
    "   - Although the model identified passengers as survivors when they were not, this type of error may be less severe depending on the context.\n",
    "\n",
    "**Conclusion:** The model has acceptable performance but could be improved to reduce false negatives, especially if the goal is to prioritize identifying survivors.\n",
    "\n",
    "---\n",
    "\n",
    "**4. Generalization**\n",
    "\n",
    "- The small difference between training accuracy (78.37%) and test accuracy (78.21%) indicates that the model has good generalization capabilities for unseen data."
   ]
  },
  {
   "cell_type": "markdown",
   "metadata": {},
   "source": [
    "### K-Nearest Neighbors (KNN) Classification Model\n",
    "\n",
    "The **K-Nearest Neighbors (KNN)** model is an other classification technique that predicts the class of an observation based on the classes of its nearest neighbors. This approach is useful for classifying data based on similarity to previous examples, without making assumptions about the data distribution. In this case, the KNN model has been trained and evaluated to measure its classification accuracy, allowing us to determine how well it identifies patterns in the data."
   ]
  },
  {
   "cell_type": "markdown",
   "metadata": {},
   "source": [
    "1. `knn = KNeighborsClassifier(n_neighbors=3)`: Creates a KNN classifier that considers the 3 nearest neighbors to classify observations.\n",
    "\n",
    "2. `knn.fit(X_train, Y_train)`: Trains the model using the input data (X_train) and their labels (Y_train).\n",
    "\n",
    "3. `Y_pred = knn.predict(X_test)`: Generates predictions on the test set.\n",
    "\n",
    "4. `acc_train = round(knn.score(X_train, Y_train) * 100, 2)`: Calculates the accuracy on the training set.\n",
    "\n",
    "5. `f1 = round(f1_score(Y_test, Y_pred, average='weighted') * 100, 2)`: Calculates the f1-score on the test set.\n",
    "\n",
    "6. `acc_test = round(accuracy_score(Y_test, Y_pred) * 100, 2)`: Calculates the accuracy on the test set.\n",
    "\n",
    "7. `conf_matrix = confusion_matrix(Y_test, Y_pred)`: Generates the confusion matrix."
   ]
  },
  {
   "cell_type": "code",
   "execution_count": 124,
   "metadata": {},
   "outputs": [
    {
     "name": "stdout",
     "output_type": "stream",
     "text": [
      "Accuracy on the Training Set: 85.39%\n",
      "Accuracy on the Test Set: 81.01%\n",
      "f1-score on the Test Set: 80.97%\n",
      "Confusion Matrix of the Test Set:\n",
      "[[89 16]\n",
      " [18 56]]\n"
     ]
    }
   ],
   "source": [
    "# Creates the KNN classifier \n",
    "knn = KNeighborsClassifier(n_neighbors=3)\n",
    "knn.fit(X_train, Y_train)\n",
    "\n",
    "# Generate predictions on the test set\n",
    "Y_pred = knn.predict(X_test)\n",
    "\n",
    "# Calculate the accuracy on the training set\n",
    "acc_train = round(knn.score(X_train, Y_train) * 100, 2)\n",
    "\n",
    "# Calculate the accuracy on the test set\n",
    "acc_test_knn = round(accuracy_score(Y_test, Y_pred) * 100, 2)\n",
    "\n",
    "# Calculate the F1-score on the test set\n",
    "f1 = round(f1_score(Y_test, Y_pred, average='weighted') * 100, 2)\n",
    "\n",
    "# Generate the confusion matrix\n",
    "conf_matrix = confusion_matrix(Y_test, Y_pred)\n",
    "\n",
    "# Display results\n",
    "print(f\"Accuracy on the Training Set: {acc_train}%\")\n",
    "print(f\"Accuracy on the Test Set: {acc_test_knn}%\")\n",
    "print(f\"f1-score on the Test Set: {f1}%\")\n",
    "print(\"Confusion Matrix of the Test Set:\")\n",
    "print(conf_matrix)"
   ]
  },
  {
   "cell_type": "markdown",
   "metadata": {},
   "source": [
    "### KNN Model Conclusions\n",
    "\n",
    "#### **1. Accuracy**\n",
    "- **Training Set:**  \n",
    "  - Accuracy: **85.39%**, indicating the model correctly classifies most training data.\n",
    "- **Test Set:**  \n",
    "  - Accuracy: **81.01%**, showing the model generalizes well to unseen data.\n",
    "\n",
    "#### **Accuracy Differences**  \n",
    "- The small gap between training (85.39%) and test (81.01%) accuracy indicates no significant overfitting.  \n",
    "- A large gap would suggest overfitting, while low accuracy on both sets would indicate underfitting.\n",
    "\n",
    "---\n",
    "\n",
    "#### **2. Confusion Matrix**\n",
    "- **True Negatives (TN = 89):** Predicted 89 passengers correctly as not surviving.\n",
    "- **False Positives (FP = 16):** Predicted 16 passengers as surviving when they did not.\n",
    "- **False Negatives (FN = 18):** Missed 18 survivors, predicting they did not survive.\n",
    "- **True Positives (TP = 56):** Correctly identified 56 survivors.\n",
    "\n",
    "---\n",
    "\n",
    "### **F1-Score: 80.97%**\n",
    "\n",
    "1. **Good Precision and Recall Balance:**  \n",
    "   - An F1-score of **80.97%** shows the model effectively handles false positives and false negatives.\n",
    "\n",
    "2. **Relation to Accuracy:**  \n",
    "   - The F1-score is close to the accuracy (**81.01%**), reflecting consistent performance without bias.\n",
    "\n",
    "3. **Key Errors:**  \n",
    "   - **18 false negatives** highlight missed survivors, which may be critical depending on the goal.\n",
    "\n",
    "4. **Overall Performance:**  \n",
    "   - The F1-score demonstrates solid model performance and good generalization to test data.\n",
    "\n",
    "5. **Potential Improvements:**  \n",
    "   - Adjust model parameters (e.g., `n_neighbors` in KNN).  \n",
    "   - Focus on recall to improve survivor identification if needed."
   ]
  },
  {
   "cell_type": "markdown",
   "metadata": {
    "_cell_guid": "810f723d-2313-8dfd-e3e2-26673b9caa90",
    "_uuid": "1535f18113f851e480cd53e0c612dc05835690f3"
   },
   "source": [
    "### Naive Bayes Classification Model (Gaussian)\n",
    "\n",
    "This is a probability-based classification model that assumes the features follow a normal (Gaussian) distribution. This approach enables fast and efficient classification, especially when the features are independent of each other. By training the model on a dataset, we can measure its accuracy and use it to make probabilistic and precise predictions on new observations."
   ]
  },
  {
   "cell_type": "markdown",
   "metadata": {},
   "source": [
    "1. `gaussian = GaussianNB()`: Creates a Naive Bayes classifier that assumes features follow a Gaussian distribution.\n",
    "\n",
    "2. `gaussian.fit(X_train, Y_train)`: Trains the model using the input data (X_train) and their labels (Y_train).\n",
    "\n",
    "3. `Y_pred = gaussian.predict(X_test)`: Generates predictions on the test set.\n",
    "\n",
    "4. `acc_train = round(gaussian.score(X_train, Y_train) * 100, 2)`: Calculates the accuracy on the training set.\n",
    "\n",
    "5. `f1 = round(f1_score(Y_test, Y_pred, average='weighted') * 100, 2)`: Calculates the f1-score on the test set.\n",
    "\n",
    "6. `acc_test = round(accuracy_score(Y_test, Y_pred) * 100, 2)`: Calculates the accuracy on the test set.\n",
    "\n",
    "7. `conf_matrix = confusion_matrix(Y_test, Y_pred)`: Generates the confusion matrix."
   ]
  },
  {
   "cell_type": "code",
   "execution_count": 128,
   "metadata": {
    "_cell_guid": "50378071-7043-ed8d-a782-70c947520dae",
    "_uuid": "723c835c29e8727bc9bad4b564731f2ca98025d0"
   },
   "outputs": [
    {
     "name": "stdout",
     "output_type": "stream",
     "text": [
      "Accuracy on the Training Set: 73.74%\n",
      "Accuracy on the Test Set: 77.65%\n",
      "f1-score on the Test Set: 77.67%\n",
      "Confusion Matrix of the Test Set:\n",
      "[[70 35]\n",
      " [ 5 69]]\n"
     ]
    }
   ],
   "source": [
    "# Create and Train the Gaussian Naive Bayes Model\n",
    "gaussian = GaussianNB()\n",
    "gaussian.fit(X_train, Y_train)\n",
    "\n",
    "# Calculate the accuracy on the training set\n",
    "acc_train = round(gaussian.score(X_train, Y_train) * 100, 2)\n",
    "\n",
    "# Generate predictions on the test set\n",
    "Y_pred = gaussian.predict(X_test)\n",
    "\n",
    "# Calculate the accuracy on the test set\n",
    "acc_test_gaussNB = round(accuracy_score(Y_test, Y_pred) * 100, 2)\n",
    "\n",
    "# Calculate the F1-score on the test set\n",
    "f1 = round(f1_score(Y_test, Y_pred, average='weighted') * 100, 2)\n",
    "\n",
    "# Generate the confusion matrix\n",
    "conf_matrix = confusion_matrix(Y_test, Y_pred)\n",
    "\n",
    "# Display results\n",
    "print(f\"Accuracy on the Training Set: {acc_train}%\")\n",
    "print(f\"Accuracy on the Test Set: {acc_test_gaussNB}%\")\n",
    "print(f\"f1-score on the Test Set: {f1}%\")\n",
    "print(\"Confusion Matrix of the Test Set:\")\n",
    "print(conf_matrix)"
   ]
  },
  {
   "cell_type": "markdown",
   "metadata": {},
   "source": [
    "### Conclusions of the Naive Bayes (Gaussian) Model\n",
    "\n",
    "1. **Overall Accuracy:**\n",
    "   - **Training (73.74%)** and **Test (77.65%)**: The model correctly identifies most cases but makes significant errors. This may be related to complex factors, such as certain social classes or age groups having harder-to-classify patterns.\n",
    "\n",
    "2. **F1-score (77.67%):**\n",
    "   - This value shows that the model reasonably balances identifying survivors and non-survivors. However, factors like **gender** (women surviving more frequently) or **social class** (first class with higher survival rates) might influence the errors.\n",
    "\n",
    "3. **Errors in the Confusion Matrix:**\n",
    "   - **False Positives (35):** Predicted 35 passengers as survivors incorrectly. This could be due to features resembling survivors, such as being women or traveling in first class, but actually belonging to a non-surviving group.\n",
    "   - **False Negatives (5):** Only 5 survivors were not correctly identified. This indicates the model is efficient at recognizing survivors, especially those with clear patterns like women or children in higher classes.\n",
    "\n",
    "4. **Demographic Context:**\n",
    "   - **Gender:** Men are less likely to survive, which may explain why the model makes more errors by predicting men as survivors when they were not.\n",
    "   - **Social Class:** Third-class passengers represent most fatalities, which might influence false positives if the model struggles to distinguish between classes.\n",
    "   - **Age:** Children generally had a higher chance of survival, and the model may be better at identifying them accurately.\n",
    "\n",
    "5. **Overall Performance:**\n",
    "   - The model provides a reasonable analysis of survival patterns but could improve by better identifying combinations of factors such as **age**, **gender**, and **social class**, which are crucial in this dataset."
   ]
  },
  {
   "cell_type": "markdown",
   "metadata": {},
   "source": [
    "### Perceptron Classification Model\n",
    "\n",
    "The Perceptron is one of the fundamental algorithms in neural networks and supervised learning. This model is used to solve **binary classification** problems by creating a **linear decision boundary** that separates two classes.\n",
    "\n",
    "During training, the perceptron iteratively adjusts its weights to learn patterns in the data and classify new observations. Despite its simplicity, the perceptron lays the foundation for more advanced neural network architectures, providing an excellent introduction to how neural models function.\n",
    "\n",
    "Unlike more advanced models such as **SVM** or **Random Forest**, the perceptron only works for **linearly separable** data and does not handle complex or non-linear relationships. However, its simplicity makes it an ideal starting point for learning the principles of supervised learning and classification."
   ]
  },
  {
   "cell_type": "code",
   "execution_count": 131,
   "metadata": {
    "_cell_guid": "ccc22a86-b7cb-c2dd-74bd-53b218d6ed0d",
    "_uuid": "c19d08949f9c3a26931e28adedc848b4deaa8ab6"
   },
   "outputs": [
    {
     "name": "stdout",
     "output_type": "stream",
     "text": [
      "Accuracy on the Training Set: 72.89%\n",
      "Accuracy on the Test Set: 73.74%\n",
      "f1-score on the Test Set: 73.93%\n",
      "Confusion Matrix of the Test Set:\n",
      "[[72 33]\n",
      " [14 60]]\n"
     ]
    }
   ],
   "source": [
    "# Create and Train the Perceptron Model  \n",
    "perceptron = Perceptron()\n",
    "perceptron.fit(X_train, Y_train)\n",
    "\n",
    "# Calculate the accuracy on the training set  \n",
    "acc_train = round(perceptron.score(X_train, Y_train) * 100, 2)\n",
    "\n",
    "# Generate predictions on the test set  \n",
    "Y_pred = perceptron.predict(X_test)\n",
    "\n",
    "# Calculate the accuracy on the test set\n",
    "acc_test_perceptron = round(accuracy_score(Y_test, Y_pred) * 100, 2)\n",
    "\n",
    "# Calculate the F1-score on the test set\n",
    "f1 = round(f1_score(Y_test, Y_pred, average='weighted') * 100, 2)\n",
    "\n",
    "# Generate the confusion matrix\n",
    "conf_matrix = confusion_matrix(Y_test, Y_pred)\n",
    "\n",
    "# Display results\n",
    "print(f\"Accuracy on the Training Set: {acc_train}%\")\n",
    "print(f\"Accuracy on the Test Set: {acc_test_perceptron}%\")\n",
    "print(f\"f1-score on the Test Set: {f1}%\")\n",
    "print(\"Confusion Matrix of the Test Set:\")\n",
    "print(conf_matrix)"
   ]
  },
  {
   "cell_type": "markdown",
   "metadata": {},
   "source": [
    "### Analysis of the Perceptron Model Results\n",
    "\n",
    "The model achieved an accuracy of **78.34%** on the training set, indicating that it correctly classifies about 78% of the observations. This level of accuracy is moderate and suggests that the model has captured some patterns in the data, though it may not be fully adequate for complex problems.\n",
    "\n",
    "IMPORTANT: Since the perceptron creates a **linear decision boundary**, its performance may be limited in cases where the classes are not linearly separable. To improve results, more advanced models such as multilayer neural networks or non-linear methods could be tested, especially if it is suspected that the relationships between features and classes are more complex."
   ]
  },
  {
   "cell_type": "markdown",
   "metadata": {},
   "source": [
    "### Linear Support Vector Classifier (Linear SVC) Model\n",
    "\n",
    "The **Linear SVC** model is efficient for binary classification problems, such as passenger survival, by finding a hyperplane that maximizes the margin between classes. Unlike models such as **KNN** or **Naive Bayes**, it adapts well to mixed data (categorical and continuous) and is scalable with many features. However, its main limitation is the assumption of linear separability, making it less flexible for more complex relationships that models like **Random Forest** or **KNN** can handle better."
   ]
  },
  {
   "cell_type": "code",
   "execution_count": 134,
   "metadata": {
    "_cell_guid": "a4d56857-9432-55bb-14c0-52ebeb64d198",
    "_uuid": "52ea4f44dd626448dd2199cb284b592670b1394b"
   },
   "outputs": [
    {
     "name": "stdout",
     "output_type": "stream",
     "text": [
      "Accuracy on the Training Set: 78.65%\n",
      "Accuracy on the Test Set: 77.09%\n",
      "f1-score on the Test Set: 77.12%\n",
      "Confusion Matrix of the Test Set:\n",
      "[[84 21]\n",
      " [20 54]]\n"
     ]
    }
   ],
   "source": [
    "# Create and Train the Linear SVC Model\n",
    "linear_svc = LinearSVC(max_iter=10000)  # Must increase 'max_iter' if model doesn't converge\n",
    "linear_svc.fit(X_train, Y_train)\n",
    "\n",
    "# Calculate the accuracy on the training set  \n",
    "acc_train = round(linear_svc.score(X_train, Y_train) * 100, 2)\n",
    "\n",
    "# Generate predictions on the test set  \n",
    "Y_pred = linear_svc.predict(X_test)\n",
    "\n",
    "# Calculate the accuracy on the test set\n",
    "acc_test_linearsvc = round(accuracy_score(Y_test, Y_pred) * 100, 2)\n",
    "\n",
    "# Calculate the F1-score on the test set\n",
    "f1 = round(f1_score(Y_test, Y_pred, average='weighted') * 100, 2)\n",
    "\n",
    "# Generate the confusion matrix  \n",
    "conf_matrix = confusion_matrix(Y_test, Y_pred)\n",
    "\n",
    "# Display results\n",
    "print(f\"Accuracy on the Training Set: {acc_train}%\")\n",
    "print(f\"Accuracy on the Test Set: {acc_test_linearsvc}%\")\n",
    "print(f\"f1-score on the Test Set: {f1}%\")\n",
    "print(\"Confusion Matrix of the Test Set:\")\n",
    "print(conf_matrix)"
   ]
  },
  {
   "cell_type": "markdown",
   "metadata": {},
   "source": [
    "### Conclusions of the Linear SVC Model\n",
    "\n",
    "1. **Training and Test Accuracy:**\n",
    "   - **Training (78.65%)** and **Test (77.09%)**: The model generalizes well, with a small margin of error. This indicates that it captures important patterns in features such as gender, age, and social class.\n",
    "\n",
    "2. **F1-score (77.12%):**\n",
    "   - Reflects an adequate balance between false positives and false negatives, being reasonably effective in classifying both survivors and non-survivors.\n",
    "\n",
    "3. **Confusion Matrix:**\n",
    "   - **False Negatives (20):** Some survivors (such as women or high-class passengers) were not correctly identified.\n",
    "   - **False Positives (21):** Incorrect predictions of survivors, likely low-class passengers or young men that the model mistakenly associated with survival patterns."
   ]
  },
  {
   "cell_type": "markdown",
   "metadata": {},
   "source": [
    "### Stochastic Gradient Descent (SGD)\n",
    "\n",
    "**Stochastic Gradient Descent (SGD)** is an iterative optimization algorithm used in linear models such as **Logistic Regression** and **Linear SVC**. Unlike other models like **KNN** or **Naive Bayes**, **SGD** updates the model parameters by adjusting the weights one sample at a time, instead of calculating the full gradient, making it efficient for large datasets. However, its performance relies on fine-tuning hyperparameters like the learning rate. In the Titanic dataset, **SGD** is useful for classifying survival, but as a linear approach, it may struggle with non-linear relationships between variables like social class or age."
   ]
  },
  {
   "cell_type": "code",
   "execution_count": 137,
   "metadata": {
    "_cell_guid": "dc98ed72-3aeb-861f-804d-b6e3d178bf4b",
    "_uuid": "3a016c1f24da59c85648204302d61ea15920e740"
   },
   "outputs": [
    {
     "name": "stdout",
     "output_type": "stream",
     "text": [
      "Accuracy on the Training Set: 75.42%\n",
      "Accuracy on the Test Set: 74.3%\n",
      "f1-score on the Test Set: 73.54%\n",
      "Confusion Matrix of the Test Set:\n",
      "[[91 14]\n",
      " [32 42]]\n"
     ]
    }
   ],
   "source": [
    "# Create and Train the SGDClassifier Model\n",
    "sgd = SGDClassifier(max_iter=1000, tol=1e-3, random_state=42)\n",
    "sgd.fit(X_train, Y_train)\n",
    "\n",
    "# Calculate the accuracy on the training set \n",
    "acc_train = round(sgd.score(X_train, Y_train) * 100, 2)\n",
    "\n",
    "# Generate predictions on the test set \n",
    "Y_pred = sgd.predict(X_test)\n",
    "\n",
    "# Calculate the accuracy on the test set  \n",
    "acc_test_sgd = round(accuracy_score(Y_test, Y_pred) * 100, 2)\n",
    "\n",
    "# Calculate the F1-score on the test set\n",
    "f1 = round(f1_score(Y_test, Y_pred, average='weighted') * 100, 2)\n",
    "\n",
    "# Generate the confusion matrix\n",
    "conf_matrix = confusion_matrix(Y_test, Y_pred)\n",
    "\n",
    "# Display results\n",
    "print(f\"Accuracy on the Training Set: {acc_train}%\")\n",
    "print(f\"Accuracy on the Test Set: {acc_test_sgd}%\")\n",
    "print(f\"f1-score on the Test Set: {f1}%\")\n",
    "print(\"Confusion Matrix of the Test Set:\")\n",
    "print(conf_matrix)"
   ]
  },
  {
   "cell_type": "markdown",
   "metadata": {},
   "source": [
    "### Conclusions of the Stochastic Gradient Descent (SGD) Model\n",
    "\n",
    "1. **Accuracy:**  \n",
    "   - **Training (75.42%)** and **Test (74.3%)**: Indicates moderate performance with minimal difference between the two sets, suggesting that the model is not overfitted but has limitations in predictive capacity.\n",
    "\n",
    "2. **F1-score (73.54%):**  \n",
    "   - Reflects a balance between precision and recall. Errors are significant, particularly in correctly identifying survivors.\n",
    "\n",
    "3. **Confusion Matrix:**  \n",
    "   - **False Negatives (32):** Passengers who survived but were not correctly classified, possibly men or lower-class passengers.  \n",
    "   - **False Positives (14):** Passengers incorrectly classified as survivors, likely with characteristics similar to actual survivors, such as women or children."
   ]
  },
  {
   "cell_type": "markdown",
   "metadata": {},
   "source": [
    "### Decision Tree Model\n",
    "\n",
    "The **Decision Tree** model is a supervised algorithm that classifies data by creating a hierarchical structure of decisions based on simple rules. In the case of the Titanic dataset, this model splits the data using features like gender, age, and social class to predict survival. Unlike linear models such as **Linear SVC** or **Logistic Regression**, the Decision Tree can capture non-linear relationships between variables, making it more flexible. However, its main drawback is its tendency to overfit if parameters are not properly optimized, distinguishing it from more robust models like **Random Forest** or **Gradient Boosting**."
   ]
  },
  {
   "cell_type": "code",
   "execution_count": 140,
   "metadata": {
    "_cell_guid": "dd85f2b7-ace2-0306-b4ec-79c68cd3fea0",
    "_uuid": "1f94308b23b934123c03067e84027b507b989e52"
   },
   "outputs": [
    {
     "name": "stdout",
     "output_type": "stream",
     "text": [
      "Accuracy on the Training Set: 87.22%\n",
      "Accuracy on the Test Set: 82.12%\n",
      "f1-score on the Test Set: 82.16%\n",
      "Confusion Matrix of the Test Set:\n",
      "[[88 17]\n",
      " [15 59]]\n"
     ]
    }
   ],
   "source": [
    "# Create and Train the Decision Tree Model\n",
    "decision_tree = DecisionTreeClassifier(random_state=42)\n",
    "decision_tree.fit(X_train, Y_train)\n",
    "\n",
    "# Calculate the accuracy on the training set\n",
    "acc_train = round(decision_tree.score(X_train, Y_train) * 100, 2)\n",
    "\n",
    "# Generate predictions on the test set\n",
    "Y_pred = decision_tree.predict(X_test)\n",
    "\n",
    "# Calculate the accuracy on the test set\n",
    "acc_test_decision_tree = round(accuracy_score(Y_test, Y_pred) * 100, 2)\n",
    "\n",
    "# Calculate the F1-score on the test set\n",
    "f1 = round(f1_score(Y_test, Y_pred, average='weighted') * 100, 2)\n",
    "\n",
    "# Generate the confusion matrix\n",
    "conf_matrix = confusion_matrix(Y_test, Y_pred)\n",
    "\n",
    "# Display results\n",
    "print(f\"Accuracy on the Training Set: {acc_train}%\")\n",
    "print(f\"Accuracy on the Test Set: {acc_test_decision_tree}%\")\n",
    "print(f\"f1-score on the Test Set: {f1}%\")\n",
    "print(\"Confusion Matrix of the Test Set:\")\n",
    "print(conf_matrix)"
   ]
  },
  {
   "cell_type": "markdown",
   "metadata": {},
   "source": [
    "### Conclusions of the Decision Tree Model\n",
    "\n",
    "1. **Accuracy:**\n",
    "   - **Training (87.22%)** and **Test (82.12%)**: Indicates good performance, though the difference suggests slight overfitting. The model learns clear patterns, such as the high survival rate of women and first-class passengers.\n",
    "\n",
    "2. **F1-score (82.16%):**\n",
    "   - Reflects a solid balance between precision and recall, highlighting the model's ability to correctly classify both survivors and non-survivors.\n",
    "\n",
    "3. **Confusion Matrix:**\n",
    "   - **False Positives (17):** Some men or lower-class passengers were incorrectly classified as survivors.\n",
    "   - **False Negatives (15):** Survivors not correctly identified, possibly children or passengers from lower classes.\n",
    "\n",
    "The model demonstrates solid overall performance, effectively capturing key patterns related to survival."
   ]
  },
  {
   "cell_type": "markdown",
   "metadata": {},
   "source": [
    "### Random Forest Model\n",
    "\n",
    "The **Random Forest** model combines multiple decision trees to improve accuracy and reduce the risk of overfitting. In this case, the model uses votes from several trees to predict survival based on features like gender, age, and social class. Unlike a **Decision Tree**, which can overfit the data, Random Forest is more robust by averaging multiple models. Additionally, compared to linear models like **Linear SVC** or **Logistic Regression**, Random Forest captures non-linear and hierarchical relationships between variables, making it ideal for more complex problems."
   ]
  },
  {
   "cell_type": "code",
   "execution_count": 143,
   "metadata": {
    "_cell_guid": "f0694a8e-b618-8ed9-6f0d-8c6fba2c4567",
    "_uuid": "483c647d2759a2703d20785a44f51b6dee47d0db"
   },
   "outputs": [
    {
     "name": "stdout",
     "output_type": "stream",
     "text": [
      "Accuracy on the Training Set: 87.22%\n",
      "Accuracy on the Test Set: 81.01%\n",
      "f1-score on the Test Set: 81.01%\n",
      "Confusion Matrix of the Test Set:\n",
      "[[88 17]\n",
      " [17 57]]\n"
     ]
    }
   ],
   "source": [
    "# Create and Train the Random Forest Model\n",
    "random_forest = RandomForestClassifier(n_estimators=100, random_state=42)\n",
    "random_forest.fit(X_train, Y_train)\n",
    "\n",
    "# Calculate the accuracy on the training set\n",
    "acc_train = round(random_forest.score(X_train, Y_train) * 100, 2)\n",
    "\n",
    "# Generate predictions on the test set\n",
    "Y_pred = random_forest.predict(X_test)\n",
    "\n",
    "# Calculate the accuracy on the test set\n",
    "acc_test_randomforest = round(accuracy_score(Y_test, Y_pred) * 100, 2)\n",
    "\n",
    "# Calculate the F1-score on the test set\n",
    "f1 = round(f1_score(Y_test, Y_pred, average='weighted') * 100, 2)\n",
    "\n",
    "# Generate the confusion matrix\n",
    "conf_matrix = confusion_matrix(Y_test, Y_pred)\n",
    "\n",
    "# Display results\n",
    "print(f\"Accuracy on the Training Set: {acc_train}%\")\n",
    "print(f\"Accuracy on the Test Set: {acc_test_randomforest}%\")\n",
    "print(f\"f1-score on the Test Set: {f1}%\")\n",
    "print(\"Confusion Matrix of the Test Set:\")\n",
    "print(conf_matrix)"
   ]
  },
  {
   "cell_type": "markdown",
   "metadata": {},
   "source": [
    "### Conclusions of the Random Forest Model\n",
    "\n",
    "1. **Accuracy:**\n",
    "   - **Training (87.22%)** and **Test (81.01%)**: The model demonstrates solid performance, though with some degree of overfitting due to the high accuracy on the training set.\n",
    "\n",
    "2. **F1-score (81.01%):**\n",
    "   - Indicates a balanced performance between precision and recall, effectively capturing key patterns such as the high survival rate of women and first-class passengers.\n",
    "\n",
    "3. **Confusion Matrix:**\n",
    "   - **False Positives (17):** Some men or lower-class passengers were incorrectly classified as survivors.\n",
    "   - **False Negatives (17):** Some actual survivors were not identified, possibly men from lower classes.\n",
    "\n",
    "The Random Forest model effectively identifies major patterns but could still be optimized to reduce errors."
   ]
  },
  {
   "cell_type": "markdown",
   "metadata": {},
   "source": [
    "<a name=\"Model-Comparison\"></a>\n",
    "\n",
    "### 7. Model Comparison\n",
    "\n",
    "The following code organizes and compares the performance of various Machine Learning models in the Titanic project, sorting them from highest to lowest accuracy. By building a **DataFrame** with the names of the models and their respective accuracy scores, we can identify which models achieved the best results in predicting passenger survival."
   ]
  },
  {
   "cell_type": "code",
   "execution_count": 146,
   "metadata": {
    "_cell_guid": "1f3cebe0-31af-70b2-1ce4-0fd406bcdfc6",
    "_uuid": "06a52babe50e0dd837b553c78fc73872168e1c7d"
   },
   "outputs": [
    {
     "data": {
      "text/html": [
       "<div>\n",
       "<style scoped>\n",
       "    .dataframe tbody tr th:only-of-type {\n",
       "        vertical-align: middle;\n",
       "    }\n",
       "\n",
       "    .dataframe tbody tr th {\n",
       "        vertical-align: top;\n",
       "    }\n",
       "\n",
       "    .dataframe thead th {\n",
       "        text-align: right;\n",
       "    }\n",
       "</style>\n",
       "<table border=\"1\" class=\"dataframe\">\n",
       "  <thead>\n",
       "    <tr style=\"text-align: right;\">\n",
       "      <th></th>\n",
       "      <th>Model</th>\n",
       "      <th>Score</th>\n",
       "    </tr>\n",
       "  </thead>\n",
       "  <tbody>\n",
       "    <tr>\n",
       "      <th>8</th>\n",
       "      <td>Decision Tree</td>\n",
       "      <td>82.12</td>\n",
       "    </tr>\n",
       "    <tr>\n",
       "      <th>1</th>\n",
       "      <td>KNN</td>\n",
       "      <td>81.01</td>\n",
       "    </tr>\n",
       "    <tr>\n",
       "      <th>3</th>\n",
       "      <td>Random Forest</td>\n",
       "      <td>81.01</td>\n",
       "    </tr>\n",
       "    <tr>\n",
       "      <th>2</th>\n",
       "      <td>Logistic Regression</td>\n",
       "      <td>78.77</td>\n",
       "    </tr>\n",
       "    <tr>\n",
       "      <th>0</th>\n",
       "      <td>Support Vector Machines</td>\n",
       "      <td>78.21</td>\n",
       "    </tr>\n",
       "    <tr>\n",
       "      <th>4</th>\n",
       "      <td>Naive Bayes</td>\n",
       "      <td>77.65</td>\n",
       "    </tr>\n",
       "    <tr>\n",
       "      <th>7</th>\n",
       "      <td>Linear SVC</td>\n",
       "      <td>77.09</td>\n",
       "    </tr>\n",
       "    <tr>\n",
       "      <th>6</th>\n",
       "      <td>Stochastic Gradient Decent</td>\n",
       "      <td>74.30</td>\n",
       "    </tr>\n",
       "    <tr>\n",
       "      <th>5</th>\n",
       "      <td>Perceptron</td>\n",
       "      <td>73.74</td>\n",
       "    </tr>\n",
       "  </tbody>\n",
       "</table>\n",
       "</div>"
      ],
      "text/plain": [
       "                        Model  Score\n",
       "8               Decision Tree  82.12\n",
       "1                         KNN  81.01\n",
       "3               Random Forest  81.01\n",
       "2         Logistic Regression  78.77\n",
       "0     Support Vector Machines  78.21\n",
       "4                 Naive Bayes  77.65\n",
       "7                  Linear SVC  77.09\n",
       "6  Stochastic Gradient Decent  74.30\n",
       "5                  Perceptron  73.74"
      ]
     },
     "execution_count": 146,
     "metadata": {},
     "output_type": "execute_result"
    }
   ],
   "source": [
    "models = pd.DataFrame({\n",
    "    'Model': ['Support Vector Machines', 'KNN', 'Logistic Regression', \n",
    "              'Random Forest', 'Naive Bayes', 'Perceptron', \n",
    "              'Stochastic Gradient Decent', 'Linear SVC', \n",
    "              'Decision Tree'],\n",
    "    'Score': [acc_test_svc, acc_test_knn, acc_test_logreg, \n",
    "              acc_test_randomforest, acc_test_gaussNB, acc_test_perceptron, \n",
    "              acc_test_sgd, acc_test_linearsvc, acc_test_decision_tree]})\n",
    "models.sort_values(by='Score', ascending=False)"
   ]
  },
  {
   "cell_type": "markdown",
   "metadata": {
    "_cell_guid": "aeec9210-f9d8-cd7c-c4cf-a87376d5f693",
    "_uuid": "cdae56d6adbfb15ff9c491c645ae46e2c91d75ce"
   },
   "source": [
    "<a name=\"Results-and-Conclusions\"></a>\n",
    "\n",
    "### 8. Results and Conclusions\n",
    "\n",
    "**1. Model Performance**\n",
    "The models evaluated in this project can be applied to various business and financial problems, with similar results depending on the data type:\n",
    "\n",
    "- **Decision Tree (82.12%)**: Suitable for complex, non-linear problems like credit default prediction, customer segmentation, or credit risk analysis.\n",
    "  \n",
    "- **KNN (81.01%)** and **Random Forest (81.01%)**: Effective for classification tasks such as predicting repeat purchases or behavior-based segmentation.\n",
    "  \n",
    "- **Logistic Regression (78.77%)** and **Support Vector Machines (78.21%)**: Best for linear problems like fraud detection or customer churn analysis.\n",
    "  \n",
    "- **Naive Bayes (77.65%)**: Useful for simple tasks such as spam detection or quick text classification.\n",
    "  \n",
    "- **Linear SVC (77.09%)**, **SGD (74.30%)**, and **Perceptron (73.74%)**: Suitable for basic classification tasks or as initial steps in more advanced pipelines.\n",
    "\n",
    "---\n",
    "\n",
    "**2. Business and Financial Applications**\n",
    "1. **Key Features:**\n",
    "   - In loan default prediction, features like income, payment history, and current debt are equivalent to Titanic variables like gender, class, and age.\n",
    "   - In customer segmentation, purchase history, service usage frequency, and average spending are critical for identifying patterns.\n",
    "\n",
    "2. **Common Errors:**\n",
    "   - **False Positives:** In fraud detection, these represent transactions flagged as fraudulent when they are not, leading to unnecessary costs.\n",
    "   - **False Negatives:** In churn prediction, these are missed identifications of customers likely to leave, resulting in lost retention opportunities.\n",
    "\n",
    "---\n",
    "\n",
    "**3. Future Improvements and Key Learnings**\n",
    "1. **Local Validation:**\n",
    "   - Splitting data into **training and validation sets** with `train_test_split` ensures robust performance evaluation and better model tuning.\n",
    "\n",
    "2. **Hyperparameter Optimization:**\n",
    "   - Fine-tuning parameters like the number of trees in Random Forest or the kernel in SVM can significantly improve performance.\n",
    "\n",
    "3. **Feature Engineering:**\n",
    "   - Creating derived variables (e.g., \"Credit Utilization Percentage\" or \"Debt-to-Income Ratio\") is as valuable in finance as \"Family Size\" was in Titanic.\n",
    "\n",
    "4. **Model Interpretability:**\n",
    "   - Models like Decision Tree and Logistic Regression are ideal for explaining business-level decisions, such as why a loan was approved or why a customer is classified as high risk.\n",
    "\n",
    "---\n",
    "\n",
    "**4. General Conclusion**\n",
    "This project's learnings are transferable to sectors like business and finance. For example:\n",
    "- **Random Forest and Decision Tree** excel in complex problems like credit risk prediction.\n",
    "- **Logistic Regression** and **Naive Bayes** are great for quick, linear tasks like fraud detection or churn analysis.\n",
    "- **Feature Engineering** and proper use of training and validation sets are standard practices applicable to any project.\n",
    "\n",
    "This project highlights the importance of selecting and evaluating models based on the problem and data, a critical approach to solving real-world challenges."
   ]
  }
 ],
 "metadata": {
  "_change_revision": 0,
  "_is_fork": false,
  "kaggle": {
   "accelerator": "none",
   "dataSources": [
    {
     "databundleVersionId": 26502,
     "sourceId": 3136,
     "sourceType": "competition"
    }
   ],
   "dockerImageVersionId": 20477,
   "isGpuEnabled": false,
   "isInternetEnabled": false,
   "language": "python",
   "sourceType": "notebook"
  },
  "kernelspec": {
   "display_name": "Python 3 (ipykernel)",
   "language": "python",
   "name": "python3"
  },
  "language_info": {
   "codemirror_mode": {
    "name": "ipython",
    "version": 3
   },
   "file_extension": ".py",
   "mimetype": "text/x-python",
   "name": "python",
   "nbconvert_exporter": "python",
   "pygments_lexer": "ipython3",
   "version": "3.11.7"
  }
 },
 "nbformat": 4,
 "nbformat_minor": 4
}
